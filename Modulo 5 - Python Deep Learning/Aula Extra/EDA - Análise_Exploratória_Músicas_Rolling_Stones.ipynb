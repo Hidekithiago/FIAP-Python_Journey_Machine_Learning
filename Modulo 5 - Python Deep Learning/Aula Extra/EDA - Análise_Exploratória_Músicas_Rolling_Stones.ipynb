{
 "cells": [
  {
   "cell_type": "markdown",
   "metadata": {},
   "source": [
    "# EDA - Músicas da banda Rolling Stones"
   ]
  },
  {
   "cell_type": "code",
   "execution_count": null,
   "metadata": {},
   "outputs": [],
   "source": [
    "#! pip install --upgrade pandas\n",
    "#! pip install --upgrade seaborn\n",
    "#! pip install --upgrade matplotlib"
   ]
  },
  {
   "cell_type": "code",
   "execution_count": null,
   "metadata": {},
   "outputs": [],
   "source": [
    "!python --version"
   ]
  },
  {
   "cell_type": "markdown",
   "metadata": {},
   "source": [
    "As colunas neste conjunto de dados são : \n",
    "\n",
    "**nome** - o nome da música \n",
    "\n",
    "**álbum** - o nome do álbum \n",
    "\n",
    "**release_date** - o dia, mês e ano em que o álbum foi lançado \n",
    "\n",
    "**número da faixa** - a ordem em que a música aparece no álbum \n",
    "\n",
    "**id**- o id do Spotify para a música \n",
    "\n",
    "**uri** - o uri do Spotify para a música \n",
    "\n",
    "**acústica** - Uma medida de confiança de 0,0 a 1,0 se a faixa é acústica. 1.0 representa alta confiança de que a faixa é acústica. \n",
    "\n",
    "**danceability**- Danceability descreve o quanto uma faixa é adequada para dançar com base em uma combinação de elementos musicais, incluindo andamento, estabilidade do ritmo, força da batida e regularidade geral. Um valor de 0,0 é menos dançável e 1,0 é o mais dançável. \n",
    "\n",
    "**energia**- A energia é uma medida de 0,0 a 1,0 e representa uma medida perceptiva de intensidade e atividade. Normalmente, as faixas energéticas parecem rápidas, altas e barulhentas. Por exemplo, death metal tem alta energia, enquanto um prelúdio de Bach pontua baixo na escala. Os recursos perceptivos que contribuem para esse atributo incluem faixa dinâmica, sonoridade percebida, timbre, taxa de início e entropia geral. \n",
    "\n",
    "**instrumentalness**- Prevê se uma faixa não contém vocais. Os sons \"Ooh\" e \"aah\" são tratados como instrumentais neste contexto. Faixas de rap ou palavras faladas são claramente \"vocais\". Quanto mais próximo o valor da instrumentalidade estiver de 1,0, maior a probabilidade de a faixa não conter nenhum conteúdo vocal. Valores acima de 0,5 destinam-se a representar faixas instrumentais, mas a confiança é maior conforme o valor se aproxima de 1,0. \n",
    "\n",
    "**vivacidade** - Detecta a presença de uma audiência na gravação. Valores mais altos de vivacidade representam uma probabilidade maior de que a faixa tenha sido tocada ao vivo. Um valor acima de 0,8 fornece uma forte probabilidade de que a faixa esteja ativa. \n",
    "\n",
    "**Loudness** - O volume geral de uma faixa em decibéis (dB). Os valores de volume são calculados em média em toda a faixa e são úteis para comparar o volume relativo das faixas. Loudness é a qualidade de um som que é o principal correlato psicológico da força física (amplitude). Os valores geralmente variam entre -60 e 0 db. \n",
    "\n",
    "**locução** - detecta a presença de palavras faladas em uma faixa. Quanto mais exclusivamente semelhante à fala for a gravação (por exemplo, talk show, livro de áudio, poesia), mais próximo de 1,0 será o valor do atributo. Valores acima de 0,66 descrevem faixas que provavelmente são feitas inteiramente de palavras faladas. Valores entre 0,33 e 0,66 descrevem faixas que podem conter música e fala, seja em seções ou em camadas, incluindo casos como rap. Valores abaixo de 0,33 provavelmente representam música e outras faixas não semelhantes à fala. \n",
    "\n",
    "**tempo** - O tempo geral estimado de uma faixa em batidas por minuto (BPM). Na terminologia musical, tempo é a velocidade ou ritmo de uma determinada peça e deriva diretamente da duração média da batida. \n",
    "\n",
    "**valência**- Uma medida de 0,0 a 1,0 que descreve a positividade musical transmitida por uma faixa. Faixas com alta valência soam mais positivas (por exemplo, alegres, alegres, eufóricas), enquanto faixas com baixa valência soam mais negativas (por exemplo, tristes, deprimidas, zangadas). \n",
    "\n",
    "**popularidade** - a popularidade da música de 0 a 100 \n",
    "\n",
    "**duration_ms** - A duração da faixa em milissegundos. "
   ]
  },
  {
   "cell_type": "markdown",
   "metadata": {
    "id": "GpKEDZct6BH4"
   },
   "source": [
    "#**INTRODUÇÃO**\n",
    "\n",
    "> Qual o problema a ser resolvido?\n",
    "\n",
    "\n",
    "---\n",
    "\n",
    "\\\n",
    "Digamos que você foi contratado pela ***Spotify*** como um ciêntista de dados, e uma grande dor atual que eles possuem é de conseguir ***entender*** as ***características*** e ***comportamentos*** que as músicas dos artistas/bandas *Top Artists* causam em seus usuários.\n",
    "\n",
    "Todo grande projeto de ciência de dados, nasce a partir de uma dor/problema a se resolver! Então após fazer o entendimento inicial sobre o projeto a ser desenvolvido e o ganho para a empresa, você começou a investigar em sua base de dados. E o primeiro caso que você decidiu a analisar é a famosa banda de rock ***Rolling Stones.***"
   ]
  },
  {
   "cell_type": "markdown",
   "metadata": {
    "id": "SUVHcGii6U6f"
   },
   "source": [
    "#**ANÁLISE EXPLORATÓRIA**\n",
    "\n",
    "> **O que é análise explorátória**?\n",
    "\n",
    "---\n",
    "\n",
    "\\\n",
    "A análise exploratória é uma etapa essencial no dia a dia de um ciêntista de dados, pois é um processo de descoberta de insights e entendimento dos seus dados. Com uma boa análise exploratória conseguimos descobrir têndencias, padrões e possíveis relações entre as variáveis.\n",
    "\n",
    "> **Porque preciso entender meus dados?**\n",
    "\n",
    "\n",
    "---\n",
    "\n",
    "\\\n",
    "Quando entendemos como os nossos dados se comportam, conseguimos identificar as nossas limitações atuais de negócio, possíveis erros ou inconsistências no cadastro dos dados e diversos outros insights, que caso não sejam tratados poderam trazer resultados inconclusíveis ou até mesmo má tomadas de decisões para sua empresa.\n",
    "\n",
    "Em resumo, entender seus dados é fundamental para qualquer trabalho com dados, pois isso ajuda garantir que você consiga decidir quais variáveis para seu projeto são importantes e confiáveis, e que os resultados sejam comunicados de forma clara e compreensível.\n",
    "\n",
    "\\\n",
    "\n",
    "---\n",
    "\\\n",
    "\n",
    "*Sem mais delongas, vamos iniciar nossa incrível jornada de aprendizado!*"
   ]
  },
  {
   "cell_type": "code",
   "execution_count": null,
   "metadata": {
    "id": "ZPRn50zq561v"
   },
   "outputs": [],
   "source": [
    "#Primeiramente vamos importar nossa principal ferramenta de manipulação e tratamento de dados. A biblioteca Pandas 🐼\n",
    "import pandas as pd"
   ]
  },
  {
   "cell_type": "code",
   "execution_count": null,
   "metadata": {
    "id": "K4jOGQKnB26n"
   },
   "outputs": [],
   "source": [
    "#Vamos carregar nosso conjunto de dados baixado direto do excel, para isso basta declararmos uma variável e passar qual é o caminho do arquivo que se encontra nosso conjunto de dados.\n",
    "#Lembrando que primeiro precisamos carregar/subir o arquivo .xlsx para a pasta local do google. \n",
    "df = pd.read_excel('dataset_rolling_stones.xlsx')"
   ]
  },
  {
   "cell_type": "code",
   "execution_count": null,
   "metadata": {
    "colab": {
     "base_uri": "https://localhost:8080/",
     "height": 580
    },
    "id": "ZCPxt-SUD4J_",
    "outputId": "f182b05d-fef1-40c0-87dd-bc340db7a5ce"
   },
   "outputs": [],
   "source": [
    "#Vamos olhar nosso conjunto de dados para verificarmos se está igual de onde baixamos, para podemos olhar as 10 primeiras linhas com o código abaixo. \n",
    "df.head(10)"
   ]
  },
  {
   "cell_type": "code",
   "execution_count": null,
   "metadata": {
    "colab": {
     "base_uri": "https://localhost:8080/"
    },
    "id": "jw_RtphxEQYW",
    "outputId": "9fb76cef-56a8-4d47-8d1f-1f52ca12fb1f"
   },
   "outputs": [],
   "source": [
    "#Vamos verificar os tipos de variáveis em nosso conjunto de dados, para isso basta utilizarmos o seguinte comando\n",
    "print(df.dtypes)"
   ]
  },
  {
   "cell_type": "code",
   "execution_count": null,
   "metadata": {
    "colab": {
     "base_uri": "https://localhost:8080/"
    },
    "id": "tB77Iy0RIX4Z",
    "outputId": "851a1598-dc31-4da7-f8b1-a43352249935"
   },
   "outputs": [],
   "source": [
    "#Analisando quantidades de linhas e colunas do dataset\n",
    "df.shape"
   ]
  },
  {
   "cell_type": "code",
   "execution_count": null,
   "metadata": {
    "colab": {
     "base_uri": "https://localhost:8080/"
    },
    "id": "OyizfIVaIQiA",
    "outputId": "89900777-c6de-41e3-a957-912ed4f21a67"
   },
   "outputs": [],
   "source": [
    "#Podemos também ter as mesmas informações de uma visão mais detalhada com o comando info()\n",
    "print(df.info())"
   ]
  },
  {
   "cell_type": "code",
   "execution_count": null,
   "metadata": {
    "colab": {
     "base_uri": "https://localhost:8080/"
    },
    "id": "ZVSWPyqRtPm0",
    "outputId": "43f3b474-c615-428a-a20d-1e4e814d2409"
   },
   "outputs": [],
   "source": [
    "#Vamos entender o ínicio e o fim do ano de lançamento dos álbuns.\n",
    "print(\"Data Inicial: \", df['release_date'].min())\n",
    "print(\"Data Final: \", df['release_date'].max())"
   ]
  },
  {
   "cell_type": "code",
   "execution_count": null,
   "metadata": {
    "colab": {
     "base_uri": "https://localhost:8080/"
    },
    "id": "84UGAP0aLFjV",
    "outputId": "2fb00cf6-2887-4e10-ccb6-a361281deaa6"
   },
   "outputs": [],
   "source": [
    "#Precisamos verificar se possuimos algum dado nulo em nosso conjunto tambem, e caso possuirmos precisamos entender como trata-lo individualmente.\n",
    "#No código abaixo. estamos somando todos as linhas que são nulo por coluna\n",
    "df.isnull().sum()"
   ]
  },
  {
   "cell_type": "code",
   "execution_count": null,
   "metadata": {
    "colab": {
     "base_uri": "https://localhost:8080/"
    },
    "id": "_T1XTtQIa2_1",
    "outputId": "b07fd618-bf24-439d-b601-befafa2c5fbf"
   },
   "outputs": [],
   "source": [
    "#Uma outra verificação importante e essencial em nossos dados é verificar se temos dados duplicados, dependendo da nossa análises eles podem ser muito prejudicial.\n",
    "#Pois estariamos somando ou fazendo algum cálculo matemático 2 vezes.\n",
    "df.duplicated().sum()"
   ]
  },
  {
   "cell_type": "markdown",
   "metadata": {
    "id": "qH7ebhNnbybN"
   },
   "source": [
    "Encontramos 6 duplicados! Você deve estar pensando que o ideal é remover-los, certo? Errado! precisamos entender se de fato ele será prejudicial para nossa análise, isso serve para dados nulos támbem, vamos verifica-los:"
   ]
  },
  {
   "cell_type": "code",
   "execution_count": null,
   "metadata": {
    "colab": {
     "base_uri": "https://localhost:8080/",
     "height": 489
    },
    "id": "twpDm2OPbfqk",
    "outputId": "2ccb9323-07ba-46d9-8034-3a2bfc81dbdd"
   },
   "outputs": [],
   "source": [
    "#Vamos olhar quais são esses 6 duplicados filtrando eles em nosso dataframes, para filtrar os duplicados usamos o comando abaixo.\n",
    "df[df.duplicated()]"
   ]
  },
  {
   "cell_type": "markdown",
   "metadata": {
    "id": "ER3X37guLfjC"
   },
   "source": [
    "Nesse caso se removermos nossos duplicados, estariamos excluindo informação pois são **músicas diferentes** no  **mesmo album** com a **mesma data de lançamento.**\n",
    "Sempre verifique as informações antes de sair excluindo as informações, okay? 👍\n",
    "\n",
    "\\\n",
    "Legal! nossos dados estão todos preenchidos, com isso podemos iniciar algumas análises matemáticas simples que ajudam trazer grandes insights para um projeto de dados!"
   ]
  },
  {
   "cell_type": "code",
   "execution_count": null,
   "metadata": {
    "colab": {
     "base_uri": "https://localhost:8080/",
     "height": 300
    },
    "id": "ROA-JO2BI4hb",
    "outputId": "eeb616d4-b166-41db-dd48-decc1a0ec913"
   },
   "outputs": [],
   "source": [
    "#Analisando informações básicas de matemáticas, como média, valor mínimo e máximo, desvio padrão e quartil (que representa uma porcentagem de amostra dos dados).\n",
    "df.describe()"
   ]
  },
  {
   "cell_type": "markdown",
   "metadata": {
    "id": "aUidqUyqOpCX"
   },
   "source": [
    "Usando o método .describe() conseguimos entender diversas caraterísticas básicas gerais sobre nossos conjuntos de dados, mesmo se caso você não conheça qual tipo de banda está trabalhando, podemos fazer presuposições com base nos insights gerados. Por exemplo:\n",
    "\n",
    "\n",
    "1. **Qual é a média de energia das músicas dos albuns da banda?**\n",
    "\n",
    "* 0.79\n",
    "2. **E em relação ao tempo? como é a nossa média?**\n",
    "* 114078.72\n",
    "\n",
    "3. **Como está a média de barulho? Sendo que quanto maior o número mais calma ela será.**\n",
    "* -6406.64\n",
    "\n",
    "\n",
    "\\\n",
    "\n",
    "\n",
    "Ou seja, conseguimos entender que a banda com qual estamos trabalhando costuma fazer músicas  bem **energéticas, rápidas e com bastante barulho.** Podemos criar uma hipótese que se trata de alguma banda de *rock' n 'roll.* \n",
    "\n",
    "\\\n",
    "\n",
    "\n"
   ]
  },
  {
   "cell_type": "markdown",
   "metadata": {
    "id": "6SWwGEmxSjJ1"
   },
   "source": [
    "###**É importante sempre fazermos perguntas aos nossos dados, pois isso nos traz grandes insights.** \n",
    "**Exemplo:**\n",
    " *Quero saber quais são os 3 albuns que possuem as músicas com maiores média de duração em minutos.*\n",
    "\n",
    "\\\n",
    "Para respondermos essa questão, primeiro precisamos converter nossa coluna **duration_ms** em minutos, vamos relembrar alguns conceitos básicos de conversão de tempo.\n",
    "\n",
    "\n",
    "```\n",
    "*   60 seg representa 1min.\n",
    "*   1 seg representa 1000ms.\n",
    "*   1m então representa 60000ms, já que fazemos 60 x 1000.\n",
    "\n",
    "Logo para convertemos milisegundos para minutos devemos fazer a operação inversa da multiplicação, que será a divisão\n",
    "```\n",
    "\n"
   ]
  },
  {
   "cell_type": "code",
   "execution_count": null,
   "metadata": {
    "colab": {
     "base_uri": "https://localhost:8080/",
     "height": 475
    },
    "id": "L_otxPJqOj4F",
    "outputId": "14475b25-2fd0-4cfc-fc0d-df6f41a1a97a"
   },
   "outputs": [],
   "source": [
    "#Podemos criar novas colunas em nosso dataframe com operações mátemáticas em cima de outros valores já existentes, utilizando o seguinte código.\n",
    "df['duracao_em_min'] = df['duration_ms'] / 60000\n",
    "#Vamos ver nosso dataset novamente, para ver como ficou a nova coluna criada, desta vez vamos olhar somente as primeiras 5 linhas\n",
    "df.head(5)"
   ]
  },
  {
   "cell_type": "code",
   "execution_count": null,
   "metadata": {
    "colab": {
     "base_uri": "https://localhost:8080/"
    },
    "id": "tQ4WPIiKMO5e",
    "outputId": "bfb89a15-5e7f-4d6b-8880-244436f252a0"
   },
   "outputs": [],
   "source": [
    "# Ótimo, agora que conseguimos saber o valor em minutos, vamos agrupar nossos albuns e tirar a média total de cada música.\n",
    "df.groupby('album')['duracao_em_min'].mean()"
   ]
  },
  {
   "cell_type": "markdown",
   "metadata": {
    "id": "A1tCYOj-WlzK"
   },
   "source": [
    "#**BIBLIOTECAS GRÁFICAS USANDO O PYTHON**\n",
    "> Como podemos melhorar a apresentação das nossas informação?\n",
    "---\n",
    "\\\n",
    "Okay, conseguimos identificar a média de duração em minutos de cada albuns da banda, mas para não precisarmos olhar linha a linha, podemos melhorar nosso story-telling usando ferramentas gráficas, para facilitar o nosso entendimento dos dados. \n",
    "\\\n",
    "Vamos lá!"
   ]
  },
  {
   "cell_type": "code",
   "execution_count": null,
   "metadata": {
    "colab": {
     "base_uri": "https://localhost:8080/",
     "height": 813
    },
    "id": "7UEQqlOBWkbO",
    "outputId": "ab97bf2f-cb19-4b92-a8d0-fcdcd05cf3d8"
   },
   "outputs": [],
   "source": [
    "#Importando a biblioteca matplotlib, uma das principais e mais básicas biblioteca gráfica do python, com ela conseguimos gerar vários tipos de gráficos customizados.\n",
    "import matplotlib.pyplot as plt\n",
    "\n",
    "#Vamos ordernar do maior para o menor os albuns que possuem as músicas com mariores médias de tempo e salvar em uma nova variável.\n",
    "df_maior_duracao_musica = df.groupby('album')['duracao_em_min'].mean().sort_values(ascending=False)\n",
    "\n",
    "#Agora vamos trazer os Top 5 em um gráfico de barras simples, com o seguinte comando.\n",
    "df_maior_duracao_musica.head(5).plot(kind='bar') #Aqui estamos definindo qual o tipo de gráfico queremos utilizar.\n",
    "plt.xlabel('Álbuns') #Aqui estamos dando um título para nosso eixo horizontal do gráfico\n",
    "plt.ylabel('Duração média (min)') #Aqui estamos dando um título para nosso eixo vertical do gráfico\n",
    "plt.title('Top 5 álbuns com maior duração média de músicas') #Título do gráfico\n",
    "plt.show() #Esse comando serve para mostrar o gráfico\n",
    "\n",
    "#Vamos trazer os valores desse Top 5 abaixo do gráfico, para podermos analisar mais detalhadamente caso precise.\n",
    "display(df_maior_duracao_musica.head(5))"
   ]
  },
  {
   "cell_type": "markdown",
   "metadata": {
    "id": "fC7GVnMqaPrp"
   },
   "source": [
    "**Respondendo nossa pergunta anterior, agora conseguimos saber quais são os cinco albuns com maior duração de música em média.**\n",
    "\n",
    "Viu como a análise de dados é simples e poderosa? vamos continuar com alguns outros exemplos para entender outras características dos nossos dados."
   ]
  },
  {
   "cell_type": "code",
   "execution_count": null,
   "metadata": {
    "colab": {
     "base_uri": "https://localhost:8080/",
     "height": 452
    },
    "id": "CqWdixwdhPgq",
    "outputId": "06023e26-b167-4d4c-c716-8c4e49f575dd"
   },
   "outputs": [],
   "source": [
    "#Analisando os top 10 albums com mais músicas em um gráfico de barra horizontal\n",
    "top_albums = df['album'].value_counts().head(10)\n",
    "#Separando os nossos valores no eixo X e Y\n",
    "plt.barh(top_albums.index, top_albums.values)\n",
    "plt.title(\"TOP 10 - Albuns com mais músicas\")\n",
    "plt.show()"
   ]
  },
  {
   "cell_type": "code",
   "execution_count": null,
   "metadata": {
    "colab": {
     "base_uri": "https://localhost:8080/",
     "height": 524
    },
    "id": "2BzqdWKgkspX",
    "outputId": "9c82f890-7161-4259-c48d-b839d01000e6"
   },
   "outputs": [],
   "source": [
    "#Analisando a porcentagem de popularidade dos top 10 Álbum na última decada\n",
    "#Filtrar o DataFrame para manter apenas os registros da última década\n",
    "df_ultima_decada = df[df['release_date'].between(pd.to_datetime('2011'), pd.to_datetime('2020'))]\n",
    "\n",
    "#Agrupar os dados por álbum e somar a coluna \"popularity\"\n",
    "df_por_album = df_ultima_decada.groupby('album')['popularity'].sum().sort_values(ascending=False).head(10)\n",
    "\n",
    "#Calcular a porcentagem de popularidade para cada álbum\n",
    "total_popularidade = df_por_album.sum()\n",
    "df_porcentagem = df_por_album / total_popularidade * 100\n",
    "\n",
    "#Vamos separar nossos valores e nomes em uma lista, para deixar o gráfico mais apresentável\n",
    "labels = df_porcentagem.index.tolist()\n",
    "sizes = df_porcentagem.values.tolist()\n",
    "\n",
    "#Aqui estamos configurando o nosso gráfico, vamos criar um de pizza agora.\n",
    "#Com a configuração subplots podemos gerar vários gráficos dentro de um só ou tambem organizar o tamanho dele, nesse caso queremos somente organizar o tamanho\n",
    "figura, grafico = plt.subplots(figsize=(18, 6))\n",
    "#Criando o gráfico, detalhe que dessa vez estamos passando um parâmetro novo, o autopct, isso faz com que configure e formate nossos valores em porcentagem para duas casas decimais.\n",
    "grafico.pie(sizes, autopct='%1.1f%%')\n",
    "#Essa configuração nos ajuda a que os tamanhos sejam proporcionais, assim fazendo que o gráfico tenha de fato uma forma circular.\n",
    "grafico.axis('equal')\n",
    "plt.title('Porcentagem de Popularidade na Última Década (Top 10 Álbuns)')\n",
    "#Criando uma legenda separada, para melhor visualização e entendimento\n",
    "plt.legend(labels, loc='best')\n",
    "#Mostrando o gráfico\n",
    "plt.show()"
   ]
  },
  {
   "cell_type": "markdown",
   "metadata": {
    "id": "_HwYAcSkjnnb"
   },
   "source": [
    "#**ANALISANDO OUTLIERS (VALORES EXTREMOS)**\n",
    "\n",
    "> O que são outliers?\n",
    "---\n",
    "\\\n",
    "Outliers, ou também chamados de valores discrepantes, são os nossos valores que se desviam significamente do padrão gerais do nosso conjunto analisado. \n",
    "\n",
    "> Porque analisar esses valores?\n",
    "---\n",
    "\\\n",
    "Por exemplo, se estamos realizando um estudo estatístico sobre renda média da população brasileira, e não estudar alguma forma de minimizar os impactos das pessoas que possuem uma alta renda, quando fomos tirar alguma média, possívelmente resultaria em um valor superestimado do esperado, o que nesse caso levaria a falsas conclusões. \n",
    "\n",
    "É importante identificar e analisar se esses valores discrepantes de fato atrapalham em nosso estudo/projeto a ser desenvolvido, pois nem sempre podemos apenas remover-los, já que dependendo da conclusão que queremos chegar podemos acabar gerando uma análise enviesada.\n"
   ]
  },
  {
   "cell_type": "code",
   "execution_count": null,
   "metadata": {
    "id": "w0ODwZjykglb"
   },
   "outputs": [],
   "source": [
    "#Vamos importar mais uma biblioteca gráfica muito importante do python o seaborn.\n",
    "import seaborn as sns"
   ]
  },
  {
   "cell_type": "code",
   "execution_count": null,
   "metadata": {
    "colab": {
     "base_uri": "https://localhost:8080/",
     "height": 573
    },
    "id": "CYYE3qYnjhLz",
    "outputId": "ff67b7e2-37f7-4701-f5f5-38ec1a6a1793"
   },
   "outputs": [],
   "source": [
    "#Uma boa forma de identificarmos outliers, é criarmos um gráfico boxplot, para identificarmos informação geráis das nossas médias e dados extremos.\n",
    "\n",
    "#Aqui estamos mudando a cor/estilo do gráfico\n",
    "sns.set(style=\"whitegrid\")\n",
    "#Criando o subplot do boxplot, para configurarmos o tamanho\n",
    "fig, axes = plt.subplots(figsize=(12,6))\n",
    "#Chamando a biblioteca seaborn e criando um gráfico boxplot da coluna duracao em minutos\n",
    "sns.boxplot(x=\"duracao_em_min\", data=df)\n",
    "#Criando um titulo para nosso gráfico\n",
    "axes.set_title('Boxplot')\n",
    "#Exibindo o gráfico\n",
    "plt.show()"
   ]
  },
  {
   "cell_type": "code",
   "execution_count": null,
   "metadata": {
    "colab": {
     "base_uri": "https://localhost:8080/",
     "height": 573
    },
    "id": "E-lJvjrMjhNx",
    "outputId": "7ceefe08-8c52-488a-be5e-8f38408f6f95"
   },
   "outputs": [],
   "source": [
    "#Existe um outro tipo de gráfico para também visualizarmos essas informações e nossa distribuição, ele é chamado de gráfico de violino.\n",
    "\n",
    "#Criando o subplot do boxplot, para configurarmos o tamanho\n",
    "fig, axes = plt.subplots(figsize=(12,6))\n",
    "#Chamando a biblioteca seaborn e criando um gráfico boxplot da coluna duracao em minutos\n",
    "sns.violinplot(x=\"duracao_em_min\", data=df, color=\"gray\")\n",
    "#Criando um titulo para nosso gráfico\n",
    "axes.set_title('Violin plot')\n",
    "#Exibindo o gráfico\n",
    "plt.show()"
   ]
  },
  {
   "cell_type": "code",
   "execution_count": null,
   "metadata": {
    "colab": {
     "base_uri": "https://localhost:8080/",
     "height": 573
    },
    "id": "ymwBZugrjhR_",
    "outputId": "01aa3797-bb8a-4243-8183-ec9dd016c178"
   },
   "outputs": [],
   "source": [
    "#Podemos também mesclar os dois tipos de gráficos para entender nossos valores discrepantes\n",
    "fig, ax = plt.subplots(figsize=(8,6))\n",
    "#Configurando o violin plot primeiramente\n",
    "sns.violinplot(x='duracao_em_min', data=df, ax=ax, color='lightgray')\n",
    "#Por baixo vamos criar um boxplot\n",
    "sns.boxplot(x='duracao_em_min', data=df, ax=ax, whis=1.5, color='darkblue')\n",
    "ax.set_title('Visualização Box Plot e Violin Plot')\n",
    "#Mostrando o gráfico\n",
    "plt.show()"
   ]
  },
  {
   "cell_type": "markdown",
   "metadata": {
    "id": "9u3XTiPdtIz5"
   },
   "source": [
    "Com essa mesclagem dos dois gráficos, conseguimos entender muito bem nossos valores da média, mediana, distribuição, quartis e os famosos outliers, que são os pontinhos pretos no final do gráfico.\n",
    "\n",
    "Mas e a grande pergunta a ser respondida? Faz sentido a gente remover-los?\n",
    "Vamos tomar como exemplo, nossa pergunta anterior, onde estavamos analisando quais são os albuns com maiores média de duração de musica.\n",
    "\n",
    "Em alguns casos, esses valores extremos podem representar informações relevantes e não devem ser simplesmente removidos da análise.\n",
    "\n",
    "Por exemplo, no caso da análise dos álbuns com maior média de duração das músicas, os álbuns com músicas ao vivo podem ter uma duração maior, o que pode resultar em valores extremos no gráfico boxplot. No entanto, se esses álbuns forem removidos da análise, a média geral das músicas pode ser afetada e a análise pode se tornar enviesada."
   ]
  },
  {
   "cell_type": "code",
   "execution_count": null,
   "metadata": {
    "colab": {
     "base_uri": "https://localhost:8080/",
     "height": 939
    },
    "id": "O8YqBWUjw-_1",
    "outputId": "32bf4b5f-b090-42f7-d014-ed0935b20166"
   },
   "outputs": [],
   "source": [
    "#Vamos verificar nossa hipótese criada, se ela é verdadeira, para isso primeiro precisamos criar algum indicador se a música é ao vivo ou não.\n",
    "df"
   ]
  },
  {
   "cell_type": "markdown",
   "metadata": {
    "id": "VExF5tRDHHB2"
   },
   "source": [
    "Olhando nossos dados, percebemos que as músicas que são ao-vivo possuem a palavra Live em algum momento de seu nome, mas isso pode gerar uma análise incorreta, precisamos analisar alguma forma mais assertiva. Para isso vamos trabalhar com a coluna liveness. Analisando de forma breve o nome da música e seu valor na coluna, podemos criar uma hipótese que quanto mais próximo de 1, essas músicas são ao-vivo, conforme entendido na regra de negócio passada para você.\n",
    "\n",
    "![Captura de tela 2023-04-02 150649.png](data:image/png;base64,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)"
   ]
  },
  {
   "cell_type": "code",
   "execution_count": null,
   "metadata": {
    "colab": {
     "base_uri": "https://localhost:8080/",
     "height": 939
    },
    "id": "9y5YWYaKw_CX",
    "outputId": "3e1c2150-6a94-4a11-f704-9454af144f1c"
   },
   "outputs": [],
   "source": [
    "#Vamos criar um código que identifica, se a música é ao vivo ou não para conseguirmos separar nossos dados, de acordo com a classificação dos valores.\n",
    "def classifica_musica_ao_vivo(df):\n",
    "    \"\"\"\n",
    "    Essa é uma função que serve para verificar se a música possui um alto valor\n",
    "    de chiado da audiência, consideramos que tudo acima de 0.8 de ruído pode ser\n",
    "    uma música ao vivo.\n",
    "\n",
    "    Parâmetros\n",
    "    ----------\n",
    "    df : pandas.DataFrame\n",
    "      Nosso dataset que vai usado como input\n",
    "\n",
    "    Retorna\n",
    "    ----------\n",
    "    True : Booleano\n",
    "      Verdadeiro para os casos que a música seja ao vivo.\n",
    "    False: Booleano\n",
    "      Falso para os casos que a música não seja ao vivo.\n",
    "    \"\"\"\n",
    "    if df['liveness'] >= 0.8:\n",
    "        return True\n",
    "    else:\n",
    "        return False\n",
    "\n",
    "# Aplica a função a cada linha do DataFrame e cria uma nova coluna com a classificação\n",
    "df['ao_vivo'] = df.apply(classifica_musica_ao_vivo, axis=1)\n",
    "#Vamos verificar como ficou nosso dataset\n",
    "df"
   ]
  },
  {
   "cell_type": "code",
   "execution_count": null,
   "metadata": {
    "colab": {
     "base_uri": "https://localhost:8080/"
    },
    "id": "lcsqYbJ16nfc",
    "outputId": "dc92a4a1-8602-479c-ec69-b194396fd0fc"
   },
   "outputs": [],
   "source": [
    "#Vamos fazer uma contagem de quantas músicas ao vivo temos.\n",
    "df.groupby('ao_vivo')['ao_vivo'].count()"
   ]
  },
  {
   "cell_type": "code",
   "execution_count": null,
   "metadata": {
    "id": "nd54IuVn6NAN"
   },
   "outputs": [],
   "source": [
    "#Vamos criar dois dataframes separados para analisarmos separadamente\n",
    "df_gravado_em_studio = df[df['ao_vivo'] == False]\n",
    "df_show_ao_vivo = df[df['ao_vivo'] == True]"
   ]
  },
  {
   "cell_type": "code",
   "execution_count": null,
   "metadata": {
    "colab": {
     "base_uri": "https://localhost:8080/"
    },
    "id": "JH8OxDi66NCv",
    "outputId": "020b1566-627f-4150-ebe8-73e34fbca736"
   },
   "outputs": [],
   "source": [
    "#Vamos gerar a média das músicas ao vivo e gravadas em studio.\n",
    "print(\"Média das músicas ao vivo é: \", df_show_ao_vivo['duracao_em_min'].mean())\n",
    "print(\"Média gravadas em studio é: \", df_gravado_em_studio['duracao_em_min'].mean())"
   ]
  },
  {
   "cell_type": "markdown",
   "metadata": {
    "id": "UU8gG98Mj2rC"
   },
   "source": [
    "#**HISTOGRAMAS E TESTE DE NORMALIDADE**\n",
    "> Gráficos de histogramas\n",
    "---\n",
    "\\\n",
    "Histogramas são gráficos usados para representar a frequência de nossas variáveis quantitativas, permitindo visualizarmos os nossos picos de valores.\n",
    "\n",
    "Para interpretarmos esses gráficos, não podemos confundir com o famoso gráfico de barras, já que ambos usam barras para representar nossos dados. A principal diferença entre ambos é que os gráficos de barras são usados para dados **discretos**, enquanto histogramas são usados para dados **contínuos**.\n",
    "\n",
    "Lembrando que dados discretos são valores que podem ser contados/enumerados, e dados contínuos são valores que podem ter um número infinito de possibilidades entre dois valores, ou seja, sempre terá uma escala contínua.\n"
   ]
  },
  {
   "cell_type": "code",
   "execution_count": null,
   "metadata": {
    "colab": {
     "base_uri": "https://localhost:8080/",
     "height": 400
    },
    "id": "uW1TicrzVydr",
    "outputId": "5603320b-4510-43cb-df67-d9dbe42731a5"
   },
   "outputs": [],
   "source": [
    "#Vamos gerar uma distribuição sobre o Barulho das músicas em nossos albuns ao vivo VS os gravados em studio.\n",
    "df_studio = df_gravado_em_studio.groupby('album')['loudness'].sum()\n",
    "df_ao_vivo = df_show_ao_vivo.groupby('album')['loudness'].sum()\n",
    "\n",
    "#Configurando para criar dois gráficos um do lado do outro.\n",
    "fig, axes = plt.subplots(1, 2, figsize=(15, 4))\n",
    "\n",
    "#Criando o primeiro gráfico\n",
    "sns.histplot(data=df_studio, bins=20, ax=axes[0])\n",
    "axes[0].set_title('Soma do Barulho dos Álbuns de Estúdio')\n",
    "axes[0].set_xlabel('Barulho')\n",
    "axes[0].set_ylabel('Frequência')\n",
    "\n",
    "#Criando o segundo gráfico\n",
    "sns.histplot(data=df_ao_vivo, bins=20, ax=axes[1])\n",
    "axes[1].set_title('Soma da Barulho dos Álbuns ao Vivo')\n",
    "axes[1].set_xlabel('Barulho')\n",
    "axes[1].set_ylabel('Frequência')\n",
    "\n",
    "#Ajustando o espaçamento entre os gráficos e mostrando em nossa tela\n",
    "fig.tight_layout()\n",
    "plt.show()"
   ]
  },
  {
   "cell_type": "markdown",
   "metadata": {
    "id": "Bwat-leIE0rA"
   },
   "source": [
    "**Conseguimos interpretar que cada barra representa um intervalo de frequência da soma do barulho, vamos exemplificar para ficar mais fácil o entendimento.**\n",
    "\n",
    "Analisando as barras com maiores picos de valores no histograma de albuns gravados em studio, podemos dizer que existem vários albuns da banda com um pico de frequência alto."
   ]
  },
  {
   "cell_type": "code",
   "execution_count": null,
   "metadata": {
    "colab": {
     "base_uri": "https://localhost:8080/",
     "height": 498
    },
    "id": "YCHRnC3AExkh",
    "outputId": "6a9c13ef-a224-422c-99a3-eab82975aec3"
   },
   "outputs": [],
   "source": [
    "#Uma outra forma de visualizarmos a distruibuição da frequência dos valores é criando um gráfico de densidade.\n",
    "plt.figure(figsize=(10, 5))\n",
    "\n",
    "#Criando o gráfico de densidade usando ambos dataframes\n",
    "sns.kdeplot(data=df_studio, label='Álbuns de Estúdio', fill=True)\n",
    "sns.kdeplot(data=df_ao_vivo, label='Álbuns ao Vivo', fill=True)\n",
    "plt.title('Distribuição da Barulho dos Álbuns')\n",
    "plt.xlabel('Barulho')\n",
    "plt.ylabel('Densidade')\n",
    "plt.legend()\n",
    "plt.show()"
   ]
  },
  {
   "cell_type": "markdown",
   "metadata": {
    "id": "d-0g4I31GeJA"
   },
   "source": [
    "Quando colocamos ambos gráficos juntos, podemos visualizarmos de forma clara os picos de frequência dos valores e a diferença entre os albuns gravados em studio e ao-vivo.\n",
    "\n",
    "Analisando o gráfico de forma simples, podemos pensar que os albuns gravados em studio possuem menos Barulho do que quando são ao-vivo, mas não se engane, uma parte do trabalho de ciêntista de dados, é ir além de somente apresentar os resultados simples, ou seja, quando criamos uma hipótese e precisamos descobrir se ela é verdadeira ou falsa, ou até mesmo para comprovarmos a eficácia de nossos algoritmos/estudos precisamos muitas vezes realizar testes matemáticos e estatísticos para comprovarmos."
   ]
  },
  {
   "cell_type": "markdown",
   "metadata": {
    "id": "igZdkdHCHk8Q"
   },
   "source": [
    "> Teste de Hipótese\n",
    "---\n",
    "\\\n",
    "Os testes de hipóteses, envolve a formulação de duas hipóteses, onde basicamente queremos confirmar a veracidade entre as diferenças das informações. Para criarmos esse teste, primeiramente precisamos uma hipótese nula(támbem chamada de H0) e a hipótese alternativa(chamado de H1), a seguir precisamos pegar amostras aleatórias em cima de nossos valores e tentar comprovar de forma estatística que nossa hipótese nula é a afirmação que queremos fazer sobre a alternativa.\n",
    "\n",
    "Vamos realizar esse teste para ver se de fato os albuns gravados em studio possuem menos barulho do que os ao-vivo. Para isso precisamos escolher algum dos vários testes que existem pela literatura estatística. Para podermos escolher o melhor e mais adequeado a nossos dados, podemos primeira verificar como está nossa distribuição, pois dependendo se ela não tende ser uma distribuição normal (também chamada de distribuição Gaussiana) precisamos aplicar outras técnicas de normalização em cima dos dados e também outros testes para comprovarmos sem nenhum enviesamento. "
   ]
  },
  {
   "cell_type": "markdown",
   "metadata": {
    "id": "ZEgQbfXvJz6f"
   },
   "source": [
    "> Teste de Shapiro-Wilk\n",
    "---\n",
    "\\\n",
    "O teste de Shapiro-Wilk é um teste de hipótese que verifica se uma amostra de dados segue uma distribuição normal. A hipótese nula do teste é que a amostra segue uma distribuição normal. Se o valor-p (valor de probabilidade) do teste for menor do que o nível de significância escolhido (geralmente 0,05), a hipótese nula é rejeitada e conclui-se que a amostra não segue uma distribuição normal.\n",
    "\n",
    "É importante lembrar que apesar que tais testes são úteis para verificarmos nossa amostra segue uma distribuição normal, eles possuem suas limitações e devem ser usados de forma cautelosa sempre respeitando seus teoremas, é importante verificarmos visualmente a distribuição/densidade dos dados e considerar o contexto tambem."
   ]
  },
  {
   "cell_type": "code",
   "execution_count": null,
   "metadata": {
    "colab": {
     "base_uri": "https://localhost:8080/"
    },
    "id": "_Z_OdqG4Vyh5",
    "outputId": "0ea2bd72-072c-4651-f5c6-d73f96c8c173"
   },
   "outputs": [],
   "source": [
    "#Importando uma biblioteca de estatística no python Scipy, onde vamos trazer a função do teste shapiro\n",
    "from scipy.stats import shapiro\n",
    "\n",
    "#Vamos criar duas variáveis onde vamos armazenar os valores de significância/valor de probabilidade de nossos dados\n",
    "stat, p = shapiro(df_studio)\n",
    "print('Soma do Barulho dos Álbuns de Estúdio:')\n",
    "print('Estatística de Teste: {:.4f}, valor p: {}'.format(stat, p))\n",
    "if p > 0.05:\n",
    "    print('Não há evidência suficiente para rejeitar a hipótese de normalidade.')\n",
    "else:\n",
    "    print('A hipótese de normalidade é rejeitada.')"
   ]
  },
  {
   "cell_type": "code",
   "execution_count": null,
   "metadata": {
    "colab": {
     "base_uri": "https://localhost:8080/"
    },
    "id": "m6o1CQdLVyj_",
    "outputId": "893f5bc9-8ade-4ae2-864e-179560826392"
   },
   "outputs": [],
   "source": [
    "#Aplicando a função shapiro em nosso segundo dataframe\n",
    "stat, p = shapiro(df_ao_vivo)\n",
    "print('Soma do Barulho dos Álbuns ao Vivo:')\n",
    "print('Estatística de Teste: {:.4f}, valor p: {}'.format(stat, p))\n",
    "if p > 0.05:\n",
    "    print('Não há evidência suficiente para rejeitar a hipótese de normalidade.')\n",
    "else:\n",
    "    print('A hipótese de normalidade é rejeitada.')"
   ]
  },
  {
   "cell_type": "markdown",
   "metadata": {
    "id": "pVaaRgmQLyj6"
   },
   "source": [
    "Okay! Entendemos que nossos dados não seguem uma distribuição normal, então não podemos realizar testes de hipóteses que seguem esse princípio, também chamados de testes não paramétricos.\n",
    "> Teste não paramétrico Mann-Whitney U\n",
    "---\n",
    "\\\n",
    "O teste de Mann-Whitney U é um teste estatístico que compara duas amostras para determinar se elas têm distribuições diferentes. Ele classifica as observações de cada amostra(ou seja ordená-las em uma determinada ordem com base nos valores que representam), soma as classificações em cada amostra e compara as somas para obter um valor U. Se esse valor for grande o suficiente, podemos concluir que as médias das duas amostras são significativamente diferentes. Em resumo, o teste de Mann-Whitney U é usado para verificar se duas amostras são estatisticamente diferentes entre si, mesmo que elas não sigam uma distribuição normal."
   ]
  },
  {
   "cell_type": "code",
   "execution_count": null,
   "metadata": {
    "colab": {
     "base_uri": "https://localhost:8080/"
    },
    "id": "yRpsGTOBVylS",
    "outputId": "d15dfb2e-baed-49b2-c0dc-7ba74bbc5cea"
   },
   "outputs": [],
   "source": [
    "#Vamos importar essa função da mesma biblioteca de estatística\n",
    "from scipy.stats import mannwhitneyu\n",
    "\n",
    "#Realizando teste de mann withney U\n",
    "#Aqui precisamos trazer os nossos dois dataframes na seguinte ordem H0 e depois  O H1\n",
    "#Ou seja estamos dizendo que o df_studio é diferente do df_ao_vivo\n",
    "#Não se esqueça de trazer amostras aleatórias usando o método sample do pandas.\n",
    "stat, p = mannwhitneyu(df_studio.sample(len(df_studio)), df_ao_vivo.sample(len(df_ao_vivo)),  alternative='less')\n",
    "\n",
    "#Imprimindo os resultados do teste\n",
    "print('Estatística de teste U: ', stat)\n",
    "print('Valor p: ', p)\n",
    "\n",
    "#Verifica se a diferença nas médias é estatisticamente significante\n",
    "alpha = 0.05\n",
    "if p < alpha:\n",
    "    print('Diferença estatisticamente significante')\n",
    "else:\n",
    "    print('Não há diferença estatisticamente significante')"
   ]
  },
  {
   "cell_type": "markdown",
   "metadata": {
    "id": "pswzx_x7Pi6K"
   },
   "source": [
    "Conseguimos um p-valor menor do que 0.05, ou seja, podemos confirmar que os albuns gravados em studio, de fato, são menos barulhentos do que quando são ao-vivo."
   ]
  },
  {
   "cell_type": "markdown",
   "metadata": {
    "id": "qIzpqb3fjhqD"
   },
   "source": [
    "#**MATRIZ DE CORRELAÇÃO DOS DADOS**"
   ]
  },
  {
   "cell_type": "markdown",
   "metadata": {
    "id": "QG07QU5Pt6zM"
   },
   "source": [
    "> Correlação entre os dados\n",
    "---\n",
    "\\\n",
    "Quando falamos sobre correlação, queremos entender o grau de associação entre duas variaveís, para assim entender a relação da nossa variável target entre as outras.\n",
    "Importante ressaltar, que correlação não significa causalidade, ou seja, não podemos afirmar que uma variável é a causa/motivo da outra que possui uma alta relação.\n",
    "\n",
    "Tendo isso em mente, vamos entender qual as relações mais forte que explicam a sensação  das músicas, seja ela triste ou alegre. Para isso, podemos utilizar a seguinte coluna abaixo, conforme entendido nas regras de negócio.\n",
    "\n",
    "\n",
    "![image.png](data:image/png;base64,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)"
   ]
  },
  {
   "cell_type": "code",
   "execution_count": null,
   "metadata": {
    "id": "8OPfa4a5sbNS"
   },
   "outputs": [],
   "source": [
    "#Vamos realizar uma média de cada album, se as músicas são mais positiva ou negativa\n",
    "media_por_album = df.groupby('album')['valence'].mean().reset_index()\n",
    "#Renomeia a coluna 'valence' para 'media_valence'\n",
    "media_por_album = media_por_album.rename(columns={'valence': 'media_valence'})"
   ]
  },
  {
   "cell_type": "code",
   "execution_count": null,
   "metadata": {
    "colab": {
     "base_uri": "https://localhost:8080/"
    },
    "id": "ZK2JdiOp7m1M",
    "outputId": "b3d11d3b-f772-44e7-98d6-897c8ad6b18f"
   },
   "outputs": [],
   "source": [
    "#Vamos criar nosso indicador se o album apresenta uma positividade ou não\n",
    "#Para isso podemos criar uma regra que se o album apresenta um valência acima de 0.6, então ela será uma música mais positiva.\n",
    "media_por_album['sentimento'] = ['positivo' if v > 0.6 else 'negativo' for v in media_por_album['media_valence']]\n",
    "#Vamos realizar uma contagem de nossa coluna\n",
    "media_por_album.groupby('sentimento')['sentimento'].count()"
   ]
  },
  {
   "cell_type": "markdown",
   "metadata": {
    "id": "tI9uMvR620RH"
   },
   "source": [
    "Entendemos que temos mais album com um sentimento positivo do que negativo, vamos analisar agora quais são as variáveis que mais possuem uma correlação alta com um gráfico de matriz de correlação."
   ]
  },
  {
   "cell_type": "code",
   "execution_count": null,
   "metadata": {
    "colab": {
     "base_uri": "https://localhost:8080/",
     "height": 939
    },
    "id": "CTIYDBS74SSt",
    "outputId": "629a6494-03e9-486a-8f11-a13c565af756"
   },
   "outputs": [],
   "source": [
    "#Para isso precisamos trazer a nossa coluna de sentimento para nosso dataframe inteiro, pois lá temos todas as outras variáveis.\n",
    "#Vamos realizar uma função no python chamada de merge, para isso precisamos passar nossa chave de relação\n",
    "#Ou seja qual coluna é nosso identificador único, que possuimos em ambos dataframe, nesse caso só vamos possuir o album\n",
    "df_resultado_final = pd.merge(df, media_por_album, on='album')\n",
    "#Vamos verificar nosso novo dataframe criado\n",
    "df_resultado_final"
   ]
  },
  {
   "cell_type": "markdown",
   "metadata": {
    "id": "lu9pzVnK8AKm"
   },
   "source": [
    "> Matriz de correlação\n",
    "---\n",
    "\\\n",
    "A matriz de correlação é uma tabela que mostra como as diferentes variáveis de um conjunto de dados se relacionam entre si. Cada número na tabela representa a medida de como duas variáveis estão associadas de forma linear, ou seja, quanto maior o número, maior será a associação matemática entre as variáveis. "
   ]
  },
  {
   "cell_type": "code",
   "execution_count": null,
   "metadata": {
    "colab": {
     "base_uri": "https://localhost:8080/",
     "height": 295
    },
    "id": "rklKsi_u7_cs",
    "outputId": "41b6adbc-eeef-43a9-8e0f-8a58d94af573"
   },
   "outputs": [],
   "source": [
    "#Cria a matriz de correlação\n",
    "df_resultado_final_corr = df_resultado_final[['acousticness', 'danceability', 'energy', 'instrumentalness', 'liveness', 'loudness', \n",
    "                                         'speechiness', 'tempo', 'valence', 'popularity', 'duration_ms', 'duracao_em_min', \n",
    "                                        'ao_vivo', 'media_valence']]\n",
    "\n",
    "matriz_correlacao = df_resultado_final_corr.corr()\n",
    "\n",
    "#Seleciona apenas a linha e a coluna correspondentes à coluna \"media_valence\"\n",
    "correlacao_sentimento = matriz_correlacao['media_valence']\n",
    "\n",
    "#Vamos verificar a relação entre as outras colunas a média valence dos albuns, onde classificamos se ela é positivo ou negativo\n",
    "display(correlacao_sentimento)"
   ]
  },
  {
   "cell_type": "code",
   "execution_count": null,
   "metadata": {
    "colab": {
     "base_uri": "https://localhost:8080/",
     "height": 441
    },
    "id": "AB0GwYwqS1eb",
    "outputId": "f980a4b0-70f7-4b20-f74d-fe16222efc38"
   },
   "outputs": [],
   "source": [
    "#Plota o heatmap\n",
    "sns.heatmap(correlacao_sentimento.to_frame(), annot=True, cmap='coolwarm')\n",
    "plt.show()"
   ]
  },
  {
   "cell_type": "markdown",
   "metadata": {
    "id": "iMN6pG0iTu8Y"
   },
   "source": [
    "uma alta correlação entre duas variáveis indica que elas estão fortemente relacionadas e tendem a se mover juntas na mesma direção, seja aumentando ou diminuindo. Quando a correlação é positiva, as variáveis tendem a aumentar ou diminuir juntas, enquanto que quando a correlação é negativa, uma variável tende a aumentar enquanto a outra tende a diminuir. Ou seja podemos entender que a coluna Valence e danceability estão fortemente relacionada a nossa coluna alvo de análise, a media_valence, mas como a valence tem o mesmo significado e estamos apenas considerando a média dele, devemos somente considerar o danceability."
   ]
  },
  {
   "cell_type": "code",
   "execution_count": null,
   "metadata": {
    "colab": {
     "base_uri": "https://localhost:8080/",
     "height": 481
    },
    "id": "JnPkdblm73bR",
    "outputId": "3c4d8568-ecce-4f0c-8037-bbb63e149c2f"
   },
   "outputs": [],
   "source": [
    "#Vamos verificar ambas coluna gerando um gráfico de dispersão\n",
    "sns.scatterplot(x='media_valence', y='danceability', hue='sentimento', data=df_resultado_final, palette='coolwarm')\n",
    "plt.xlabel('media_valence')\n",
    "plt.ylabel('danceability')\n",
    "plt.title('Relação entre a valência média e a capacidade de dança das músicas, com base no sentimento')\n",
    "plt.show()"
   ]
  },
  {
   "cell_type": "markdown",
   "metadata": {
    "id": "jg1adWCjVvyP"
   },
   "source": [
    "Analisando o gráfico brevemente, podemos entender muito bem essa relação entre ambas variáveis, pois conforme o sentimento da música for maior, ou seja, ela tender ser uma música mais alegre/positiva/animada, ela aumenta também sua dançabilidade."
   ]
  },
  {
   "cell_type": "code",
   "execution_count": null,
   "metadata": {
    "colab": {
     "base_uri": "https://localhost:8080/",
     "height": 481
    },
    "id": "Od6SaIvxbAfM",
    "outputId": "b5058a4a-ee80-4125-ae36-a333dbbe207a"
   },
   "outputs": [],
   "source": [
    "#Vamos agora verificar uma coluna que não está fortemente correlacionada\n",
    "sns.scatterplot(x='media_valence', y='liveness', hue='sentimento', data=df_resultado_final, palette='coolwarm')\n",
    "plt.xlabel('media_valence')\n",
    "plt.ylabel('liveness')\n",
    "plt.title('Relação entre a valência média e música ao-vivo, com base no sentimento')\n",
    "plt.show()"
   ]
  },
  {
   "cell_type": "markdown",
   "metadata": {
    "id": "oMeNoImtbsBL"
   },
   "source": [
    "Aqui podemos entender que o gráfico não possui uma relação linear, por isso ela não é considerada fortemente correlacionada."
   ]
  },
  {
   "cell_type": "markdown",
   "metadata": {
    "id": "5qlf-IcnWqEm"
   },
   "source": [
    "**Próximos passos**\n",
    "\n",
    "---\n",
    "\n",
    "Viu a importância de analisar e explorar seus dados!? Além de ganharmos vários insights podemos já criar diferentes hipóteses para possivelmente avançar nossos estudos em etapas mais complexas, como por exemplo, sabendo tais informações sobre meu dataset posso criar modelos preditivos para futuras músicas, classificações por grupos semelhantes, entre muitos outros algoritmos.\n",
    "\n",
    "Muitas vezes uma boa e forte análise em cima de seus dados, já podemos responder diversas perguntas de negócio gerada, nem precisando aprofundar ou gastar fichas com algoritmos complexos, é sempre importante verificar e entender o comportamento de seus dados. Espero que você tenha conseguido entender tudo até aqui e desejo-lhe uma ótima jornada nesse incrivel gigantesco mundo de ciências de dados. 😜"
   ]
  }
 ],
 "metadata": {
  "colab": {
   "provenance": []
  },
  "kernelspec": {
   "display_name": "Python 3 (ipykernel)",
   "language": "python",
   "name": "python3"
  },
  "language_info": {
   "codemirror_mode": {
    "name": "ipython",
    "version": 3
   },
   "file_extension": ".py",
   "mimetype": "text/x-python",
   "name": "python",
   "nbconvert_exporter": "python",
   "pygments_lexer": "ipython3",
   "version": "3.9.12"
  }
 },
 "nbformat": 4,
 "nbformat_minor": 1
}
