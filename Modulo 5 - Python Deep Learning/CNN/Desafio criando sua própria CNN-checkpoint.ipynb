{
 "cells": [
  {
   "cell_type": "markdown",
   "id": "e077d0b5",
   "metadata": {},
   "source": [
    "### Sua primeira rede neural convolucional"
   ]
  },
  {
   "cell_type": "markdown",
   "id": "cff5a44d",
   "metadata": {},
   "source": [
    "Agora com os conhecimentos obtidos em aula, comstrua uma rede neural convolucional para classificar imagens. \n",
    "\n",
    "O tema para a construção da rede é livre, pode fazer sobre temas que você mais gosta. Que tal tentar classificar personagens que você gosta? Ou classificar carros? Imagens de exames médicos? o famoso exemplo gatos e carrochos?\n",
    "\n",
    "No notebook deve conter os seguintes critérios:\n",
    "\n",
    "- Carregar imagens de sua escolha como base de dados para a criação da rede.\n",
    "- Criar a arquitetura de rede neural e explicar as técnicas utilizada.\n",
    "- Validar o modelo e explicar os resultados."
   ]
  }
 ],
 "metadata": {
  "kernelspec": {
   "display_name": "Python 3 (ipykernel)",
   "language": "python",
   "name": "python3"
  },
  "language_info": {
   "codemirror_mode": {
    "name": "ipython",
    "version": 3
   },
   "file_extension": ".py",
   "mimetype": "text/x-python",
   "name": "python",
   "nbconvert_exporter": "python",
   "pygments_lexer": "ipython3",
   "version": "3.9.12"
  }
 },
 "nbformat": 4,
 "nbformat_minor": 5
}
