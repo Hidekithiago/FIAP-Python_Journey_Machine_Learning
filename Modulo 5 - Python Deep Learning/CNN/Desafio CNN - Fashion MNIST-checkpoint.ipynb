{
 "cells": [
  {
   "cell_type": "markdown",
   "metadata": {
    "id": "WrRTxVnfAA1A"
   },
   "source": [
    "## Redes Neurais Convolucionais\n",
    "\n",
    "**Classificando roupas do conjunto de dados MNIST**\n",
    "\n",
    "É um conjunto de dados composto por 60.000 pequenas imagens quadradas de 28 × 28 pixels em tons de cinza de itens de 10 tipos de roupas, como sapatos, camisetas, vestidos e muito mais. O mapeamento de todos os inteiros de 0 a 9 para rótulos de classe está listado abaixo.\n",
    "\n",
    "* 0: camiseta/top\n",
    "* 1: Calça\n",
    "* 2: Suéter\n",
    "* 3: Vestido\n",
    "* 4: Casaco\n",
    "* 5: Sandália\n",
    "* 6: Camisa\n",
    "* 7: Tênis\n",
    "* 8: Bolsa\n",
    "* 9: Bota de tornozelo\n",
    "\n",
    "\n",
    "\n",
    "\n",
    "\n"
   ]
  },
  {
   "cell_type": "markdown",
   "metadata": {
    "id": "2Q7fpbGw5Scm"
   },
   "source": [
    "### Importando a base de dados"
   ]
  },
  {
   "cell_type": "code",
   "execution_count": 2,
   "metadata": {
    "id": "7UYUcCnuDnwD"
   },
   "outputs": [],
   "source": [
    "import tensorflow as tf\n",
    "from tensorflow import keras\n",
    "\n",
    "import numpy as np\n",
    "import matplotlib.pyplot as plt\n",
    "from tensorflow.keras import layers\n",
    "\n",
    "# Importa o dataset Fashion Mnist\n",
    "fashion_mnist = keras.datasets.fashion_mnist\n",
    "(train_images, train_labels), (test_images, test_labels) = fashion_mnist.load_data()"
   ]
  },
  {
   "cell_type": "code",
   "execution_count": null,
   "metadata": {},
   "outputs": [],
   "source": []
  }
 ],
 "metadata": {
  "accelerator": "GPU",
  "colab": {
   "collapsed_sections": [],
   "name": "Desafio de Redes Neurais CNN.ipynb",
   "provenance": []
  },
  "kernelspec": {
   "display_name": "Python 3 (ipykernel)",
   "language": "python",
   "name": "python3"
  },
  "language_info": {
   "codemirror_mode": {
    "name": "ipython",
    "version": 3
   },
   "file_extension": ".py",
   "mimetype": "text/x-python",
   "name": "python",
   "nbconvert_exporter": "python",
   "pygments_lexer": "ipython3",
   "version": "3.9.7"
  }
 },
 "nbformat": 4,
 "nbformat_minor": 1
}
