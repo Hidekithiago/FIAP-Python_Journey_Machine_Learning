{
 "cells": [
  {
   "cell_type": "markdown",
   "id": "df49ef84",
   "metadata": {},
   "source": [
    "## Classificando diferentes tipos de semente de abóbora\n",
    "\n",
    "As sementes de abóbora são frequentemente consumidas como confeitos em todo o mundo devido à sua quantidade adequada de proteínas, gorduras, carboidratos e teores minerais. Este estudo foi realizado nos dois tipos de sementes de abóbora mais importantes e de qualidade, “Ürgüp Sivrisi” e “Çerçevelik”, geralmente cultivadas nas regiões de Ürgüp e Karacaören na Turquia.\n",
    "\n",
    "### Features\n",
    "\n",
    "- Perimeter (Perímetro)\n",
    "- Major_Axis_Length (Comprimento do Eixo Principal)\n",
    "- Minor_Axis_Length (Comprimento do Eixo Menor)\n",
    "- Convex_Area (Área Convexa)\n",
    "- Equiv Diameter (Diâmetro Equiv)\n",
    "- Eccentricity (Excentricidade)\n",
    "- Solidity (Solidez)\n",
    "- Extent (Extensão)\n",
    "- Roundness (Redondeza)\n",
    "- Aspect_Ration (Proporção)\n",
    "- Compactness (Compacidade)\n",
    "\n",
    "### Target\n",
    "Class (Çerçevelik, Ürgüp Sivrisi)\n",
    "\n",
    "\n",
    "\n",
    "\n"
   ]
  },
  {
   "cell_type": "code",
   "execution_count": null,
   "id": "1c22ac58",
   "metadata": {},
   "outputs": [],
   "source": [
    "# Bibliotecas padrão\n",
    "import numpy as np \n",
    "import pandas as pd \n",
    "import warnings\n",
    "warnings.simplefilter('ignore')\n",
    "\n",
    "# Visualização\n",
    "import seaborn as sns\n",
    "import matplotlib.pyplot as plt\n",
    "\n",
    "# keras libraries\n",
    "import tensorflow\n",
    "from tensorflow import keras\n",
    "from keras import models\n",
    "from keras import layers\n",
    "from keras import metrics\n",
    "from keras.metrics import Precision\n",
    "from tqdm.keras import TqdmCallback\n",
    "\n",
    "# sklearn libraries\n",
    "from sklearn.model_selection import train_test_split\n",
    "from sklearn.preprocessing import LabelEncoder\n",
    "from sklearn.feature_selection import mutual_info_classif\n",
    "from sklearn.metrics import confusion_matrix, classification_report\n",
    "from sklearn.preprocessing import RobustScaler,MinMaxScaler,StandardScaler\n"
   ]
  },
  {
   "cell_type": "code",
   "execution_count": null,
   "id": "0a30cd48",
   "metadata": {},
   "outputs": [],
   "source": [
    "df = pd.read_excel('Pumpkin_Seeds_Dataset.xlsx')"
   ]
  },
  {
   "cell_type": "code",
   "execution_count": null,
   "id": "02a4ff5c",
   "metadata": {},
   "outputs": [],
   "source": [
    "df.head()"
   ]
  },
  {
   "cell_type": "code",
   "execution_count": null,
   "id": "c946c1d3",
   "metadata": {},
   "outputs": [],
   "source": [
    "df.shape"
   ]
  },
  {
   "cell_type": "markdown",
   "id": "1973cd58",
   "metadata": {},
   "source": [
    "## Data Cleaning"
   ]
  },
  {
   "cell_type": "code",
   "execution_count": null,
   "id": "a46d9b77",
   "metadata": {},
   "outputs": [],
   "source": [
    "df.isnull().sum()"
   ]
  },
  {
   "cell_type": "markdown",
   "id": "234cd7da",
   "metadata": {},
   "source": [
    "## Estatística básica"
   ]
  },
  {
   "cell_type": "code",
   "execution_count": null,
   "id": "d67b8d14",
   "metadata": {},
   "outputs": [],
   "source": [
    "df.describe().T"
   ]
  },
  {
   "cell_type": "markdown",
   "id": "980be9a9",
   "metadata": {},
   "source": [
    "Verificando valores unicos em cada variável:"
   ]
  },
  {
   "cell_type": "code",
   "execution_count": null,
   "id": "1d58d188",
   "metadata": {},
   "outputs": [],
   "source": [
    "df['Class'].unique()"
   ]
  },
  {
   "cell_type": "markdown",
   "id": "8367e29c",
   "metadata": {},
   "source": [
    "Verificando a proporção:"
   ]
  },
  {
   "cell_type": "code",
   "execution_count": null,
   "id": "c0cfe0be",
   "metadata": {},
   "outputs": [],
   "source": [
    "df['Class'].value_counts()"
   ]
  },
  {
   "cell_type": "markdown",
   "id": "48a064b0",
   "metadata": {},
   "source": [
    "### Feature Transform"
   ]
  },
  {
   "cell_type": "markdown",
   "id": "7fda2eed",
   "metadata": {},
   "source": [
    "Transformando a variável target para binária:"
   ]
  },
  {
   "cell_type": "code",
   "execution_count": null,
   "id": "061a3bfb",
   "metadata": {},
   "outputs": [],
   "source": [
    "#Utilizadno Label Enconder\n",
    "le = LabelEncoder()\n",
    "df.Class = le.fit_transform(df['Class']) "
   ]
  },
  {
   "cell_type": "code",
   "execution_count": null,
   "id": "59b5f74b",
   "metadata": {},
   "outputs": [],
   "source": [
    "df['Class'].unique()"
   ]
  },
  {
   "cell_type": "code",
   "execution_count": null,
   "id": "86229d55",
   "metadata": {},
   "outputs": [],
   "source": [
    "df['Class'].value_counts()"
   ]
  },
  {
   "cell_type": "markdown",
   "id": "fc9340bc",
   "metadata": {},
   "source": [
    "## Análise Exploratória"
   ]
  },
  {
   "cell_type": "code",
   "execution_count": null,
   "id": "b91dde42",
   "metadata": {},
   "outputs": [],
   "source": [
    "#Potando histogramas para analisar a simetria dos dados\n",
    "df.hist(bins=100, figsize=(12, 12))\n",
    "plt.show()"
   ]
  },
  {
   "cell_type": "code",
   "execution_count": null,
   "id": "fe943cf7",
   "metadata": {},
   "outputs": [],
   "source": [
    "correlation_matrix = df.corr().round(2)\n",
    "\n",
    "fig, ax = plt.subplots(figsize=(15,10))    \n",
    "sns.heatmap(data=correlation_matrix, annot=True, linewidths=.5, ax=ax)"
   ]
  },
  {
   "cell_type": "code",
   "execution_count": null,
   "id": "62b2aa73",
   "metadata": {},
   "outputs": [],
   "source": [
    "df.info()"
   ]
  },
  {
   "cell_type": "markdown",
   "id": "0d6b1eae",
   "metadata": {},
   "source": [
    "## Separando a base de dados"
   ]
  },
  {
   "cell_type": "code",
   "execution_count": null,
   "id": "88ba2003",
   "metadata": {},
   "outputs": [],
   "source": [
    "#X = df.drop('Class',axis=1)\n",
    "X = df[['Aspect_Ration','Eccentricity', 'Solidity','Equiv_Diameter','Convex_Area','Major_Axis_Length', 'Perimeter', 'Area']] \n",
    "y = df['Class'] "
   ]
  },
  {
   "cell_type": "code",
   "execution_count": null,
   "id": "5fe0d921",
   "metadata": {},
   "outputs": [],
   "source": [
    "# convertendo as variáveis que não estão no formato float \n",
    "int_cols = X.select_dtypes(include=np.int_).columns.tolist()\n",
    "for c in int_cols:\n",
    "    X[c] = X[c].astype('float')"
   ]
  },
  {
   "cell_type": "code",
   "execution_count": null,
   "id": "64c459a3",
   "metadata": {},
   "outputs": [],
   "source": [
    "X_train, X_test, y_train, y_test = train_test_split(X, y, test_size=0.20) #separando os dados"
   ]
  },
  {
   "cell_type": "code",
   "execution_count": null,
   "id": "31a6b720",
   "metadata": {},
   "outputs": [],
   "source": [
    "len(X_train)"
   ]
  },
  {
   "cell_type": "code",
   "execution_count": null,
   "id": "bab5e119",
   "metadata": {},
   "outputs": [],
   "source": [
    "len(X_test)"
   ]
  },
  {
   "cell_type": "markdown",
   "id": "a564b18e",
   "metadata": {},
   "source": [
    "## Feature Scaling"
   ]
  },
  {
   "cell_type": "code",
   "execution_count": null,
   "id": "32f352fc",
   "metadata": {},
   "outputs": [],
   "source": [
    "scaler = StandardScaler()\n",
    "scaler.fit(X_train)"
   ]
  },
  {
   "cell_type": "code",
   "execution_count": null,
   "id": "574015aa",
   "metadata": {},
   "outputs": [],
   "source": [
    "X_train"
   ]
  },
  {
   "cell_type": "code",
   "execution_count": null,
   "id": "35322bd9",
   "metadata": {},
   "outputs": [],
   "source": [
    "X_train = scaler.transform(X_train)\n",
    "X_test = scaler.transform(X_test)"
   ]
  },
  {
   "cell_type": "code",
   "execution_count": null,
   "id": "b2f5cd19",
   "metadata": {},
   "outputs": [],
   "source": [
    "X_train"
   ]
  },
  {
   "cell_type": "code",
   "execution_count": null,
   "id": "efb4d9f5",
   "metadata": {},
   "outputs": [],
   "source": [
    "len(X_train)"
   ]
  },
  {
   "cell_type": "code",
   "execution_count": null,
   "id": "be673b36",
   "metadata": {},
   "outputs": [],
   "source": [
    "len(y_train)"
   ]
  },
  {
   "cell_type": "code",
   "execution_count": null,
   "id": "a14a5b8a",
   "metadata": {},
   "outputs": [],
   "source": [
    "y_train.shape"
   ]
  },
  {
   "cell_type": "code",
   "execution_count": null,
   "id": "c32d986f",
   "metadata": {},
   "outputs": [],
   "source": [
    "y_test.shape"
   ]
  },
  {
   "cell_type": "code",
   "execution_count": null,
   "id": "9351a52f",
   "metadata": {},
   "outputs": [],
   "source": [
    "# reshape() molda uma matriz sem alterar os dados da matriz. Moldando nossas variáveis resposta\n",
    "y_train = np.asarray(y_train).astype('float32').reshape((-1,1))\n",
    "y_test = np.asarray(y_test).astype('float32').reshape((-1,1))"
   ]
  },
  {
   "cell_type": "code",
   "execution_count": null,
   "id": "5502a1cb",
   "metadata": {},
   "outputs": [],
   "source": [
    "y_train.shape"
   ]
  },
  {
   "cell_type": "code",
   "execution_count": null,
   "id": "4ef14da0",
   "metadata": {},
   "outputs": [],
   "source": [
    "y_test.shape"
   ]
  },
  {
   "cell_type": "markdown",
   "id": "b15d9ed9",
   "metadata": {},
   "source": [
    "## Construindo o modelo de Deep learning"
   ]
  },
  {
   "cell_type": "code",
   "execution_count": null,
   "id": "af37214a",
   "metadata": {},
   "outputs": [],
   "source": [
    "input_shape = X_train.shape[1]  \n",
    "input_shape"
   ]
  },
  {
   "cell_type": "code",
   "execution_count": null,
   "id": "941f90f2",
   "metadata": {},
   "outputs": [],
   "source": [
    "output_shape = y_train.shape[1] \n",
    "output_shape"
   ]
  },
  {
   "cell_type": "code",
   "execution_count": null,
   "id": "6c38c068",
   "metadata": {},
   "outputs": [],
   "source": [
    "import tensorflow as tf"
   ]
  },
  {
   "cell_type": "code",
   "execution_count": null,
   "id": "9678356c",
   "metadata": {},
   "outputs": [],
   "source": [
    "tf.random.set_seed(7)\n",
    "\n",
    "# define model params\n",
    "input_shape = X_train.shape[1]                                                         \n",
    "output_shape = y_train.shape[1]                                                                                \n",
    "batch_size = 20                                     \n",
    "\n",
    "# build model\n",
    "model = models.Sequential()\n",
    "# input layer\n",
    "model.add(layers.Dense(\n",
    "                        batch_size\n",
    "                       ,input_shape=(input_shape,)\n",
    "                       ,activation='relu'))\n",
    "# hidden layer\n",
    "model.add(layers.Dense(\n",
    "                        10\n",
    "                       ,activation='relu'))\n",
    "# dropout layer\n",
    "model.add(layers.Dropout(0.5))\n",
    "\n",
    "# output layer\n",
    "model.add(layers.Dense(\n",
    "                        output_shape\n",
    "                       ,activation='sigmoid'))\n",
    "\n",
    "# compile model\n",
    "model.compile(loss='binary_crossentropy', optimizer='adam', metrics=['accuracy'])\n",
    "\n",
    "# summmary\n",
    "model.summary()"
   ]
  },
  {
   "cell_type": "code",
   "execution_count": null,
   "id": "d6735102",
   "metadata": {},
   "outputs": [],
   "source": [
    "# model fit params\n",
    "epoch = 100\n",
    "\n",
    "# fit the keras model on the dataset\n",
    "hist = model.fit(X_train\n",
    "                  ,y_train\n",
    "                  ,epochs = epoch\n",
    "                  ,batch_size=batch_size\n",
    "                  ,shuffle=True\n",
    "                  ,validation_data=(X_test, y_test)\n",
    "                  ,verbose=0\n",
    "                  ,callbacks=[TqdmCallback(verbose=0)]\n",
    "          )\n",
    "\n",
    "# save model\n",
    "model.save('pumpkinSeedClassification')"
   ]
  },
  {
   "cell_type": "code",
   "execution_count": null,
   "id": "f62bfd80",
   "metadata": {},
   "outputs": [],
   "source": [
    "acc = '{:.2%}'.format(hist.history['accuracy'][-1])\n",
    "print(f\"The model has achieved an accuracy of {acc} with {epoch} epochs\")"
   ]
  },
  {
   "cell_type": "code",
   "execution_count": null,
   "id": "e42bbf53",
   "metadata": {},
   "outputs": [],
   "source": [
    "# visualize training results\n",
    "acc = hist.history['accuracy']\n",
    "val_acc = hist.history['val_accuracy']\n",
    "\n",
    "loss = hist.history['loss']\n",
    "val_loss = hist.history['val_loss']\n",
    "\n",
    "epochs_range = range(epoch)\n",
    "\n",
    "plt.figure(figsize=(20, 8))\n",
    "plt.subplot(1, 2, 1)\n",
    "plt.plot(epochs_range, acc, label='Acurácia de Treinamento')\n",
    "plt.plot(epochs_range, val_acc, label='Acurácia de Validação')\n",
    "plt.legend(loc='lower right')\n",
    "plt.title('Training and Validation Accuracy')\n",
    "\n",
    "plt.subplot(1, 2, 2)\n",
    "plt.plot(epochs_range, loss, label='Erro de treinamento')\n",
    "plt.plot(epochs_range, val_loss, label='Erro de Validação')\n",
    "plt.legend(loc='upper right')\n",
    "plt.title('Erro de treinamento vs validação')\n",
    "plt.show()"
   ]
  },
  {
   "cell_type": "code",
   "execution_count": null,
   "id": "e845e459",
   "metadata": {},
   "outputs": [],
   "source": [
    "# Predictions \n",
    "y_pred = model.predict(X_test)\n",
    "y_pred_class = [round(x[0]) for x in y_pred]\n",
    "y_test_class = y_test\n",
    "\n",
    "# confusion matrix\n",
    "cfm = confusion_matrix(y_test_class, y_pred_class)\n",
    "\n",
    "# visualise confusion matrix\n",
    "plt.figure(figsize=(8,8))\n",
    "group_names = ['True Neg','False Pos','False Neg','True Pos']\n",
    "group_counts = [\"{0:0.0f}\".format(value) for value in cfm.flatten()]\n",
    "labels = [f\"{v1}\\n{v2}\" for v1, v2 in zip(group_names,group_counts)]\n",
    "sns.heatmap(cfm, annot=True, cmap='crest', cbar=False, fmt='g')\n",
    "plt.title('Confusion Matrix')\n",
    "plt.xlabel('Predicted')\n",
    "plt.ylabel('True')\n",
    "plt.show()"
   ]
  },
  {
   "cell_type": "markdown",
   "id": "1266eeaa",
   "metadata": {},
   "source": [
    "0 = Çerçevelik\n",
    "1 = Ürgüp Sivrisi"
   ]
  },
  {
   "cell_type": "code",
   "execution_count": null,
   "id": "10669e95",
   "metadata": {},
   "outputs": [],
   "source": [
    "# classification report\n",
    "class_names = []\n",
    "for i in y.unique():\n",
    "    class_names.append(le.inverse_transform([i])[0])\n",
    "\n",
    "print(classification_report(y_test_class, y_pred_class, target_names=class_names))"
   ]
  }
 ],
 "metadata": {
  "kernelspec": {
   "display_name": "Python 3 (ipykernel)",
   "language": "python",
   "name": "python3"
  },
  "language_info": {
   "codemirror_mode": {
    "name": "ipython",
    "version": 3
   },
   "file_extension": ".py",
   "mimetype": "text/x-python",
   "name": "python",
   "nbconvert_exporter": "python",
   "pygments_lexer": "ipython3",
   "version": "3.9.12"
  }
 },
 "nbformat": 4,
 "nbformat_minor": 5
}
