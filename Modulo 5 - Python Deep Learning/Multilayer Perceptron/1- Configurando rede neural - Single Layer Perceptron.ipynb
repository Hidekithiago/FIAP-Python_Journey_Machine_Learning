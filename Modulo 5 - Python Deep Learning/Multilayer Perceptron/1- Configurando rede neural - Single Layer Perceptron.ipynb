{
 "cells": [
  {
   "cell_type": "markdown",
   "metadata": {
    "id": "PR7BOHtIzP8r"
   },
   "source": [
    "<div style=\"text-align: justify\">\n",
    "<b><h1>SLP - Perceptron de camada única</h1></b>\n",
    "<br>\n",
    "\n",
    "A ideia é que o algoritmo seja capaz de encontrar um conjunto de pesos ideais, para que a rede classifique corretamente as entradas.\n",
    "<br>\n",
    "<br>\n",
    "Para isso, se a resposta da rede não for a resposta esperada, é realizado um ajuste de peso.\n",
    "<br>\n",
    "<br>\n",
    "<b>Recursos de rede:</b>\n",
    "<br>\n",
    "<br>\n",
    "• Classificador linear, ou seja, realiza a classificação de conjuntos linearmente separáveis (rotulados neste exemplo como -1 e 1).\n",
    "<br>\n",
    "• Aprendizagem supervisionada.\n",
    "<br>\n",
    "<br>\n",
    "<b><h2>Importações</h2></b>\n",
    "<br>\n",
    "</div>"
   ]
  },
  {
   "cell_type": "code",
   "execution_count": null,
   "metadata": {
    "id": "wG4AJ0OazP8x"
   },
   "outputs": [],
   "source": [
    "import matplotlib.pyplot as plt\n",
    "import numpy as np\n",
    "import random"
   ]
  },
  {
   "cell_type": "markdown",
   "metadata": {
    "id": "3n7QVZvSzP8y"
   },
   "source": [
    "<div style=\"text-align: justify\">\n",
    "<b><h2>Configuração do Perceptron de camada única</h2></b>\n",
    "<br>\n",
    "A configuração do Perceptron de camada única é definida aqui por conveniência, para que você possa encontrar e alterar esses números com facilidade.\n",
    "<br>\n",
    "<br>\n",
    "Os Pesos são inicializados com um, o Threshold e Bias são definidos respectivamente em 0 e 1.\n",
    "</div>"
   ]
  },
  {
   "cell_type": "markdown",
   "metadata": {
    "id": "u_QMtWWTGMoq"
   },
   "source": [
    "**Definindo os pesos:**\n",
    "\n",
    "Para você descobrir os valores certos dos pesos e do bias, você fará **várias** classificações com **várias** combinações de pesos e bias.\n",
    "\n",
    "Podemos também saber **o quão errado estão nossas saídas**, usando função de custo. \n",
    "\n",
    "Essa função vai nos ajudar a **minimizar esses erros**. Exemplo disso é um valor aproximado de quanto nós temos de mexer, nos nossos parâmetros, para que possamos ajustar nossos pesos.Vamos pegar o valor do nosso neurônio e vamos subtrair pelo valor que era para ser predito. \n",
    "\n",
    "O Gradiente Descente basicamente muda os valores dos pesos (ou parâmetros), pouco a pouco, até que tenhamos um mínimo (um valor que a predição esteja muito perto da saída correta).\n",
    "\n",
    "**Definindo o threshold (limiar de ativação):**\n",
    "\n",
    "Funciona como uma escala apropriada para que o resultado produzido pela a somatória linear possa gerar um valor de disparo de ativação.\n",
    "\n",
    "**Definindo o bias:** \n",
    "\n",
    "É um **parâmetro adicional** na Rede Neural que é usado para ajustar a saída junto da soma ponderada das entradas para o neurônio. Ou seja, Bias é uma constante que **ajuda o modelo de uma maneira que ele possa se adaptar melhor aos dados fornecidos**. (opcional)"
   ]
  },
  {
   "cell_type": "code",
   "execution_count": null,
   "metadata": {
    "id": "dJ7HOdoDzP8z"
   },
   "outputs": [],
   "source": [
    "# Pesos (Synapses)\n",
    "w = [0,0] #multiplicando os pesos pelas entradas\n",
    "\n",
    "# Threshold\n",
    "threshold = 0 #Definir se o valor da sua rede pode passar para a frente.\n",
    "\n",
    "# Bias\n",
    "bias = 1 #ajusta o modelo\n"
   ]
  },
  {
   "cell_type": "markdown",
   "metadata": {
    "id": "aXtT5vWyFrfs"
   },
   "source": [
    "**Learning rate**\n",
    "\n",
    "[0, 1] (taxa de aprendizagem) \n",
    "\n",
    "A taxa de aprendizado é um hiperparâmetro que ***controla o quanto alterar o modelo em resposta ao erro estimado cada vez que os pesos do modelo são atualizados***.\n",
    "\n",
    "Especificamente, a taxa de aprendizado é um hiperparâmetro configurável usado no treinamento de redes neurais que possui um pequeno valor positivo, geralmente na faixa entre 0,0 e 1,0.\n",
    "\n",
    "**Taxas de aprendizado menores exigem mais épocas de treinamento, devido às pequenas alterações feitas nos pesos a cada atualização, enquanto taxas de aprendizado maiores resultam em mudanças rápidas e exigem menos épocas de treinamento.**"
   ]
  },
  {
   "cell_type": "code",
   "execution_count": null,
   "metadata": {
    "id": "BG9qKsGHFp2T"
   },
   "outputs": [],
   "source": [
    "# Pesos (Synapses)\n",
    "w = [0,0] #multiplicando os pesos pelas entradas\n",
    "\n",
    "# Threshold\n",
    "threshold = 0 #Definir se o valor da sua rede pode passar para a frente.\n",
    "\n",
    "# Bias\n",
    "bias = 1 #ajusta o modelo\n",
    "\n",
    "# Responsável pela velocidade de convergência do nosso neurônio. Ou seja, o quão rápido ele treina.\n",
    "learning_rate = 0.03\n",
    "\n",
    "# Numero máximo de iterações\n",
    "max_iterations = 10"
   ]
  },
  {
   "cell_type": "markdown",
   "metadata": {},
   "source": [
    "Duas variáveis e 1 label preditória (-1, 1) "
   ]
  },
  {
   "cell_type": "code",
   "execution_count": null,
   "metadata": {
    "id": "X4I3RyIfzP8z"
   },
   "outputs": [],
   "source": [
    "# Entradas e Labels\n",
    "x = [\n",
    "    [0.72,0.82,-1],\n",
    "    [0.91,-0.69,-1],\n",
    "    [0.03,0.93,-1],\n",
    "    [0.12,0.25,-1],\n",
    "    [0.96,0.47,-1],\n",
    "    [0.8,-0.75,-1],\n",
    "    [0.46,0.98,-1],\n",
    "    [0.66,0.24,-1],\n",
    "    [0.72,-0.15,-1],\n",
    "    [0.35,0.01,-1],\n",
    "    [-0.11,0.1,1],\n",
    "    [0.31,-0.96,1],\n",
    "    [0.0,-0.26,1],\n",
    "    [-0.43,-0.65,1],\n",
    "    [0.57,-0.97,1],\n",
    "    [-0.72,-0.64,1],\n",
    "    [-0.25,-0.43,1],\n",
    "    [-0.12,-0.9,1],\n",
    "    [-0.58,0.62,1],\n",
    "    [-0.77,-0.76,1]\n",
    "]"
   ]
  },
  {
   "cell_type": "code",
   "execution_count": null,
   "metadata": {
    "id": "QRnwoYyCzP82"
   },
   "outputs": [],
   "source": [
    "# Data Dictionary\n",
    "data_dictionary = {\n",
    "    # 'Keys' : 'Values',\n",
    "    #X     Y      Target (1 vermelho e -1 azul)\n",
    "    '0.72,0.82' : '-1',\n",
    "    '0.91,-0.69' : '-1',\n",
    "    '0.03,0.93' : '-1',\n",
    "    '0.12,0.25' : '-1',\n",
    "    '0.96,0.47' : '-1',\n",
    "    '0.8,-0.75' : '-1',\n",
    "    '0.46,0.98' : '-1',\n",
    "    '0.66,0.24' : '-1',\n",
    "    '0.72,-0.15' : '-1',\n",
    "    '0.35,0.01' : '-1',\n",
    "    '-0.11,0.1' : '1',\n",
    "    '0.31,-0.96' : '1',\n",
    "    '0.0,-0.26' : '1',\n",
    "    '-0.43,-0.65' : '1',\n",
    "    '0.57,-0.97' : '1',\n",
    "    '-0.72,-0.64' : '1',\n",
    "    '-0.25,-0.43' : '1',\n",
    "    '-0.12,-0.9' : '1',\n",
    "    '-0.58,0.62' : '1',\n",
    "    '-0.77,-0.76' : '1'\n",
    "}"
   ]
  },
  {
   "cell_type": "markdown",
   "metadata": {
    "id": "NT_wTeldzP83"
   },
   "source": [
    "<div style=\"text-align: justify\">\n",
    "<b><h2>\n",
    "Função auxiliar para plotar pontos vermelhos e azuis</h2></b>\n",
    "<br>\n",
    "Armazena as coordenadas x e y para cada ponto do gráfico em seus respectivos vetores.\n",
    "</div>"
   ]
  },
  {
   "cell_type": "code",
   "execution_count": null,
   "metadata": {
    "colab": {
     "base_uri": "https://localhost:8080/",
     "height": 1000
    },
    "id": "WhVc5d_ozP84",
    "outputId": "44a86fe4-2d07-4fe2-9c51-519abcd216e2",
    "scrolled": false
   },
   "outputs": [],
   "source": [
    "# Turn on the interactive graphics mode\n",
    "\n",
    "def get_points_of_color(data, label):\n",
    "    x_coords = [float(point.split(\",\")[0]) for point in data.keys() if data[point] == label]\n",
    "    y_coords = [float(point.split(\",\")[1]) for point in data.keys() if data[point] == label]\n",
    "    return x_coords, y_coords\n",
    "\n",
    "plt.ion()\n",
    "\n",
    "for k in range(1, max_iterations):\n",
    "    hits = 0\n",
    "    print(\"\\n------------------------- INTERAÇÃO \"+str(k)+\" ------------------------- \")\n",
    "\n",
    "    for i in range(0,len(x)):\n",
    "        sum = 0\n",
    "\n",
    "        # Weighted sum\n",
    "        for j in range(0,len(x[i])-1):\n",
    "            sum += x[i][j] * w[j]\n",
    "\n",
    "        # Output = Bias + Weighted sum\n",
    "        output = bias + sum\n",
    "\n",
    "        # Output is determined by the Threshold\n",
    "        if output > threshold:\n",
    "            y = 1\n",
    "        else:\n",
    "            y = -1     \n",
    "\n",
    "        # Update the Weights if the output does not match with the Desired output\n",
    "        if y == x[i][2]:\n",
    "            hits += 1\n",
    "            answer = \"Correct!\"\n",
    "        else:\n",
    "            for j in range (0,len(w)):             \n",
    "                w[j] = w[j] + (learning_rate * x[i][2] * x[i][j])\n",
    "            bias = bias + learning_rate * x[i][2]\n",
    "            answer = \"Erro - Atualizando o peso para: \"+str(w)\n",
    "\n",
    "        # Prints the answer\n",
    "        if y == 1:\n",
    "            print(\"\\n\"+answer)\n",
    "        elif y == -1:\n",
    "            print(\"\\n\"+answer)\n",
    "\n",
    "        # Plot the graph\n",
    "        plt.clf() # Clear figure\n",
    "        plt.title('Iterações %s\\n' % (str(k)))\n",
    "        plt.grid(False) # Plot a grid\n",
    "        plt.xlim(-1,1) # Set x-axis limits\n",
    "        plt.ylim(-1,1) # Set y-axis limits\n",
    "\n",
    "        xA = 1\n",
    "        xB = -1\n",
    "\n",
    "        if w[1] != 0:\n",
    "            yA = (- w[0] * xA - bias) / w[1]\n",
    "            yB = (- w[0] * xB - bias) / w[1]\n",
    "        else:\n",
    "            xA = - bias / w[0]\n",
    "            xB = - bias / w[0]\n",
    "\n",
    "            yA = 1\n",
    "            yB = -1\n",
    "\n",
    "        # Plot the black line, that is, we want to learn the black line as faithfully as possible\n",
    "        #(\"Best\" Decision Boundary)\n",
    "        plt.plot([0.77, -0.55], [-1, 1], color='k', linestyle='-', linewidth=1)\n",
    "\n",
    "        # Generates our green line, that is, our learning line (Decision Boundary)\n",
    "        plt.plot([xA, xB], [yA, yB], color='g', linestyle='-', linewidth=2)\n",
    "\n",
    "        # Plot blue points\n",
    "        x_coords, y_coords = get_points_of_color(data_dictionary, '-1')\n",
    "        plt.plot(x_coords, y_coords, 'bo')\n",
    "\n",
    "        # Plot red points\n",
    "        x_coords, y_coords = get_points_of_color(data_dictionary, '1')\n",
    "        plt.plot(x_coords, y_coords, 'ro')\n",
    "\n",
    "        # Highlights the current point\n",
    "        if answer == 'Correto!':\n",
    "            # Correct - with green color\n",
    "            plt.plot(x[i][0], x[i][1], 'go', markersize=15, alpha=.5)\n",
    "        else:\n",
    "            # Incorrect - with magenta color\n",
    "            plt.plot(x[i][0], x[i][1], 'mo', markersize=30, alpha=.5)\n",
    "\n",
    "        # Show the plot\n",
    "        plt.show()\n",
    "\n",
    "        # We were able to control the loop time, so a figure will be updated and displayed\n",
    "        plt.pause(0.05)\n",
    "\n",
    "    if hits == len(x):\n",
    "        print(\"\\n---------------------------------------------------------------\")\n",
    "        print(\"\\nFuncionalidade aprendida com \"+str(k)+\" iterations!\")\n",
    "        break;\n",
    "    '''\n",
    "    else:\n",
    "        print(\"\\n---------------------------------------------------------------\")\n",
    "        print(\"\\nFuncionalidade não aprendida!\")\n",
    "        break;'''\n",
    "    \n",
    "    \n",
    "print(\"\\nPronto!\\n\")"
   ]
  },
  {
   "cell_type": "code",
   "execution_count": null,
   "metadata": {
    "id": "YrDsr6b38BRN"
   },
   "outputs": [],
   "source": []
  }
 ],
 "metadata": {
  "colab": {
   "collapsed_sections": [],
   "name": "Exemplo rede de Single-Layer-Perceptron.ipynb",
   "provenance": []
  },
  "kernelspec": {
   "display_name": "Python 3 (ipykernel)",
   "language": "python",
   "name": "python3"
  },
  "language_info": {
   "codemirror_mode": {
    "name": "ipython",
    "version": 3
   },
   "file_extension": ".py",
   "mimetype": "text/x-python",
   "name": "python",
   "nbconvert_exporter": "python",
   "pygments_lexer": "ipython3",
   "version": "3.9.12"
  }
 },
 "nbformat": 4,
 "nbformat_minor": 1
}
