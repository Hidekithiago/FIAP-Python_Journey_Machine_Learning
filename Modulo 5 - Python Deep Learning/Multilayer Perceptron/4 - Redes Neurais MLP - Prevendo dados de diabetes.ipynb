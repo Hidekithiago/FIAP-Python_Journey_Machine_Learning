{
 "cells": [
  {
   "cell_type": "markdown",
   "metadata": {
    "id": "ScrXzEZ_IIif"
   },
   "source": [
    "### Redes Neurais Multilayer Perceptron\n",
    "\n",
    "Prevendo diagnóstico de diabete com redes neurais multicamada.\n"
   ]
  },
  {
   "cell_type": "markdown",
   "metadata": {
    "id": "ajEMk8J7PzS8"
   },
   "source": [
    "https://www.kaggle.com/datasets/mathchi/diabetes-data-set?resource=download"
   ]
  },
  {
   "cell_type": "markdown",
   "metadata": {
    "id": "x9_eQbQOQ-TY"
   },
   "source": [
    "**Contexto**\n",
    "\n",
    "Este conjunto de dados é originalmente do Instituto Nacional de Diabetes e Doenças Digestivas e Renais. O objetivo é prever com base em medidas diagnósticas se um paciente tem diabetes. Em particular, todos os pacientes aqui são **mulheres** com pelo menos 21 anos de ascendência indígena Pima.\n",
    "\n",
    "**Features:**\n",
    "\n",
    "**Gravidezes:** Número de vezes que engravidou\n",
    "\n",
    "**Glicose:** Concentração de glicose plasmática a 2 horas em um teste oral de tolerância à glicose\n",
    "\n",
    "**Pressão arterial:** pressão arterial diastólica (mm Hg)\n",
    "\n",
    "**Espessura da pele:** espessura da dobra cutânea do tríceps (mm)\n",
    "\n",
    "**Insulina:** insulina sérica de 2 horas (mu U/ml)\n",
    "\n",
    "**IMC:** Índice de massa corporal (peso em kg/(altura em m)^2)\n",
    "\n",
    "**DiabetesPedigreeFunction:** função que pontua a probabilidade de diabetes com base na história familiar\n",
    "\n",
    "**Idade:** Idade (anos)\n",
    "\n",
    "**Resultado**: variável de classe (0 ou 1)"
   ]
  },
  {
   "cell_type": "markdown",
   "metadata": {},
   "source": [
    "Instalando pacotes de redes neurais"
   ]
  },
  {
   "cell_type": "code",
   "execution_count": null,
   "metadata": {},
   "outputs": [],
   "source": [
    "#! pip install keras\n",
    "#! pip install tensorflow"
   ]
  },
  {
   "cell_type": "code",
   "execution_count": null,
   "metadata": {
    "executionInfo": {
     "elapsed": 1767,
     "status": "ok",
     "timestamp": 1651789092511,
     "user": {
      "displayName": "Ana Raquel Fernandes Cunha",
      "userId": "11327054232231817255"
     },
     "user_tz": 180
    },
    "id": "SAvBvwkOHESa"
   },
   "outputs": [],
   "source": [
    "from sklearn.model_selection import train_test_split   #carregando a biblioteca para separação de base de treino e teste\n",
    "from sklearn.preprocessing import StandardScaler       #Normalização dos dados\n",
    "\n",
    "import pandas as pd                                    #manipulação de dados\n",
    "import matplotlib.pyplot as plt                        #plot de gráficos\n",
    "import seaborn as sns                                  #plot de gráficos\n",
    "import numpy as np\n",
    "\n",
    "# Keras para rede neural\n",
    "import keras\n",
    "from keras.models import Sequential\n",
    "from keras.layers import Dense, Dropout\n",
    "import tensorflow as tf\n"
   ]
  },
  {
   "cell_type": "code",
   "execution_count": null,
   "metadata": {
    "executionInfo": {
     "elapsed": 676,
     "status": "ok",
     "timestamp": 1651789095672,
     "user": {
      "displayName": "Ana Raquel Fernandes Cunha",
      "userId": "11327054232231817255"
     },
     "user_tz": 180
    },
    "id": "KPdq328JMto7"
   },
   "outputs": [],
   "source": [
    "#Subindo a base dos dados:\n",
    "\n",
    "df = pd.read_csv('diabetes.csv')"
   ]
  },
  {
   "cell_type": "code",
   "execution_count": null,
   "metadata": {
    "colab": {
     "base_uri": "https://localhost:8080/"
    },
    "executionInfo": {
     "elapsed": 269,
     "status": "ok",
     "timestamp": 1651789113653,
     "user": {
      "displayName": "Ana Raquel Fernandes Cunha",
      "userId": "11327054232231817255"
     },
     "user_tz": 180
    },
    "id": "H8ONBDMEP5kD",
    "outputId": "fb37652e-5bf7-4171-abd2-d7161debab88"
   },
   "outputs": [],
   "source": [
    "#Analisando o total de linhas e colunas do dataset\n",
    "df.shape"
   ]
  },
  {
   "cell_type": "code",
   "execution_count": null,
   "metadata": {
    "colab": {
     "base_uri": "https://localhost:8080/",
     "height": 206
    },
    "executionInfo": {
     "elapsed": 275,
     "status": "ok",
     "timestamp": 1651789144095,
     "user": {
      "displayName": "Ana Raquel Fernandes Cunha",
      "userId": "11327054232231817255"
     },
     "user_tz": 180
    },
    "id": "rJDlZ1DaOAZP",
    "outputId": "8a650a16-5fbc-46c2-f6e0-2105e0258f9a"
   },
   "outputs": [],
   "source": [
    "df.head()"
   ]
  },
  {
   "cell_type": "code",
   "execution_count": null,
   "metadata": {
    "colab": {
     "base_uri": "https://localhost:8080/",
     "height": 300
    },
    "executionInfo": {
     "elapsed": 265,
     "status": "ok",
     "timestamp": 1651789172304,
     "user": {
      "displayName": "Ana Raquel Fernandes Cunha",
      "userId": "11327054232231817255"
     },
     "user_tz": 180
    },
    "id": "0l9n1GLJQBXa",
    "outputId": "e7fac456-507e-484a-a5da-f8a10c54b678"
   },
   "outputs": [],
   "source": [
    "#Analisando informações estatísticas do dataset\n",
    "df.describe().T"
   ]
  },
  {
   "cell_type": "markdown",
   "metadata": {
    "id": "lZHZZRPrzADy"
   },
   "source": [
    "### Pré-processamento dos dados - Data Clean"
   ]
  },
  {
   "cell_type": "code",
   "execution_count": null,
   "metadata": {
    "colab": {
     "base_uri": "https://localhost:8080/"
    },
    "executionInfo": {
     "elapsed": 253,
     "status": "ok",
     "timestamp": 1651789301830,
     "user": {
      "displayName": "Ana Raquel Fernandes Cunha",
      "userId": "11327054232231817255"
     },
     "user_tz": 180
    },
    "id": "dpTXGn1dyql0",
    "outputId": "fdc37960-319a-48f4-8c12-b707fbbf2a94"
   },
   "outputs": [],
   "source": [
    "#Analisando valores nulos:\n",
    "\n",
    "df.isnull().sum()"
   ]
  },
  {
   "cell_type": "markdown",
   "metadata": {
    "id": "841zkRYjzKV5"
   },
   "source": [
    "### Conhecendo nossos dados"
   ]
  },
  {
   "cell_type": "code",
   "execution_count": null,
   "metadata": {
    "colab": {
     "base_uri": "https://localhost:8080/",
     "height": 651
    },
    "executionInfo": {
     "elapsed": 1353,
     "status": "ok",
     "timestamp": 1651789404063,
     "user": {
      "displayName": "Ana Raquel Fernandes Cunha",
      "userId": "11327054232231817255"
     },
     "user_tz": 180
    },
    "id": "TQNNY182QJC5",
    "outputId": "081a6630-ffc6-4c2a-d5e5-4ec3b167da02"
   },
   "outputs": [],
   "source": [
    "#Gráfico do tipo boxplot podemos analisar a distribuição dos dados e suas medidas centrais, como por exemplo a média, mediana, os outliers e pontos discrepantes.\n",
    "df.plot(kind='box', subplots=True, layout=(4,4), figsize=(15, 15))\n",
    "plt.show()"
   ]
  },
  {
   "cell_type": "code",
   "execution_count": null,
   "metadata": {
    "colab": {
     "base_uri": "https://localhost:8080/",
     "height": 716
    },
    "executionInfo": {
     "elapsed": 2534,
     "status": "ok",
     "timestamp": 1651789524290,
     "user": {
      "displayName": "Ana Raquel Fernandes Cunha",
      "userId": "11327054232231817255"
     },
     "user_tz": 180
    },
    "id": "2xHzxe30yTR1",
    "outputId": "091c1ecf-6762-4d30-fa10-49d125a41d4c"
   },
   "outputs": [],
   "source": [
    "#Potando histogramas para analisar a simetria dos dados\n",
    "df.hist(bins=100, figsize=(12, 12))\n",
    "plt.show()"
   ]
  },
  {
   "cell_type": "markdown",
   "metadata": {
    "id": "E6mmXhRczXqR"
   },
   "source": [
    "### Analisando as correlações das variáveis"
   ]
  },
  {
   "cell_type": "code",
   "execution_count": null,
   "metadata": {
    "colab": {
     "base_uri": "https://localhost:8080/",
     "height": 733
    },
    "executionInfo": {
     "elapsed": 1201,
     "status": "ok",
     "timestamp": 1651789630240,
     "user": {
      "displayName": "Ana Raquel Fernandes Cunha",
      "userId": "11327054232231817255"
     },
     "user_tz": 180
    },
    "id": "jHPXEjHxylpz",
    "outputId": "308395a6-8d86-4428-eff9-f0b9bbaf3ed4"
   },
   "outputs": [],
   "source": [
    "correlation_matrix = df.corr().round(2)\n",
    "\n",
    "fig, ax = plt.subplots(figsize=(8,5))    \n",
    "sns.heatmap(data=correlation_matrix, annot=True, linewidths=.5, ax=ax)"
   ]
  },
  {
   "cell_type": "markdown",
   "metadata": {
    "id": "uqctcFzuzm45"
   },
   "source": [
    "### Vamos iniciar nossa rede neural multilayer Perceptron!"
   ]
  },
  {
   "cell_type": "markdown",
   "metadata": {
    "id": "nKN1UGY3z3Dg"
   },
   "source": [
    "Separando os dados em treino e teste."
   ]
  },
  {
   "cell_type": "code",
   "execution_count": null,
   "metadata": {
    "executionInfo": {
     "elapsed": 254,
     "status": "ok",
     "timestamp": 1651790831749,
     "user": {
      "displayName": "Ana Raquel Fernandes Cunha",
      "userId": "11327054232231817255"
     },
     "user_tz": 180
    },
    "id": "xgfT5bMszhOR"
   },
   "outputs": [],
   "source": [
    "X = df[['Pregnancies','Glucose','BloodPressure','SkinThickness','Insulin','BMI','DiabetesPedigreeFunction','Age']] #variáveis explicativas\n",
    "y = df['Outcome'] #variável target"
   ]
  },
  {
   "cell_type": "code",
   "execution_count": null,
   "metadata": {
    "executionInfo": {
     "elapsed": 259,
     "status": "ok",
     "timestamp": 1651790834542,
     "user": {
      "displayName": "Ana Raquel Fernandes Cunha",
      "userId": "11327054232231817255"
     },
     "user_tz": 180
    },
    "id": "kgqrETih0syO"
   },
   "outputs": [],
   "source": [
    "X_train, X_test, y_train, y_test = train_test_split(X, y, test_size=0.20) #separando os dados"
   ]
  },
  {
   "cell_type": "markdown",
   "metadata": {
    "id": "du7lFdG81TlM"
   },
   "source": [
    "**Padronizando os dados**\n",
    "\n",
    "Nessa etapa de padronização é realizada a normalização dos dados. As redes neurais trabalham melhor quando temos dados normalizados em uma mesma escala.\n",
    "\n",
    "A função StandardScaler é usada para dimensionar os dados. O dimensionamento dos dados resultaria em uma convergência mais rápida para o valor ótimo global para funções de otimização da função de perda. Aqui usamos a classe StandardScaler do Sklearn que realiza a normalização do z-score. A normalização do z-score subtrai cada dado de sua média e o divide pelo desvio padrão dos dados. Vamos treinar com o conjunto de dados dimensionado."
   ]
  },
  {
   "cell_type": "code",
   "execution_count": null,
   "metadata": {
    "colab": {
     "base_uri": "https://localhost:8080/"
    },
    "executionInfo": {
     "elapsed": 280,
     "status": "ok",
     "timestamp": 1651790837628,
     "user": {
      "displayName": "Ana Raquel Fernandes Cunha",
      "userId": "11327054232231817255"
     },
     "user_tz": 180
    },
    "id": "zc9VJ14N0_qV",
    "outputId": "d2fa99cc-a1d9-45d7-d643-10e0f0fafc87"
   },
   "outputs": [],
   "source": [
    "scaler = StandardScaler()\n",
    "scaler.fit(X_train)"
   ]
  },
  {
   "cell_type": "code",
   "execution_count": null,
   "metadata": {
    "executionInfo": {
     "elapsed": 6,
     "status": "ok",
     "timestamp": 1651790840149,
     "user": {
      "displayName": "Ana Raquel Fernandes Cunha",
      "userId": "11327054232231817255"
     },
     "user_tz": 180
    },
    "id": "JJYUWnjX1fi0"
   },
   "outputs": [],
   "source": [
    "X_train = scaler.transform(X_train)\n",
    "X_test = scaler.transform(X_test)"
   ]
  },
  {
   "cell_type": "code",
   "execution_count": null,
   "metadata": {},
   "outputs": [],
   "source": [
    "X_train"
   ]
  },
  {
   "cell_type": "markdown",
   "metadata": {
    "id": "2xLuAzNq2GpC"
   },
   "source": [
    "### Executando nossa rede neural de multicamdas"
   ]
  },
  {
   "cell_type": "markdown",
   "metadata": {
    "id": "c6qhv3pvsQcB"
   },
   "source": [
    "**Configuração da rede:**"
   ]
  },
  {
   "cell_type": "code",
   "execution_count": null,
   "metadata": {
    "executionInfo": {
     "elapsed": 243,
     "status": "ok",
     "timestamp": 1651791290481,
     "user": {
      "displayName": "Ana Raquel Fernandes Cunha",
      "userId": "11327054232231817255"
     },
     "user_tz": 180
    },
    "id": "6kF7QVD30_0G"
   },
   "outputs": [],
   "source": [
    "tf.random.set_seed(7)\n",
    "\n",
    "model = Sequential()\n",
    "model.add(Dense(100, activation='relu', input_dim=8)) \n",
    "model.add(Dense(200, activation='relu'))\n",
    "model.add(Dense(2, activation='softmax')) #sigmoid, tanh, relu, softmax\n",
    "\n",
    "# Compile the model\n",
    "model.compile(optimizer='adam', #adam, sgd\n",
    "              loss='mean_squared_error', #mean_squared_error, sparse_categorical_crossentropy\n",
    "              metrics=['accuracy'])"
   ]
  },
  {
   "cell_type": "code",
   "execution_count": null,
   "metadata": {
    "colab": {
     "base_uri": "https://localhost:8080/"
    },
    "executionInfo": {
     "elapsed": 5847,
     "status": "ok",
     "timestamp": 1651791300130,
     "user": {
      "displayName": "Ana Raquel Fernandes Cunha",
      "userId": "11327054232231817255"
     },
     "user_tz": 180
    },
    "id": "lICFJlY32hYy",
    "outputId": "f0478538-5a92-47c0-ef7a-f9cf37bb68f5"
   },
   "outputs": [],
   "source": [
    "model.fit(X_train, y_train, epochs=50)"
   ]
  },
  {
   "cell_type": "code",
   "execution_count": null,
   "metadata": {},
   "outputs": [],
   "source": [
    "from tqdm.keras import TqdmCallback\n",
    "\n",
    "# model fit params\n",
    "epoch = 100\n",
    "\n",
    "# fit the keras model on the dataset\n",
    "hist = model.fit(X_train\n",
    "                  ,y_train\n",
    "                  ,epochs = epoch\n",
    "                  ,shuffle=True\n",
    "                  ,validation_data=(X_test, y_test)\n",
    "                  ,verbose=0\n",
    "                  ,callbacks=[TqdmCallback(verbose=0)]\n",
    "          )\n",
    "\n",
    "# save model\n",
    "#model.save('DiabetesClassificação')"
   ]
  },
  {
   "cell_type": "code",
   "execution_count": null,
   "metadata": {},
   "outputs": [],
   "source": [
    "# visualize training results\n",
    "acc = hist.history['accuracy']\n",
    "val_acc = hist.history['val_accuracy']\n",
    "\n",
    "loss = hist.history['loss']\n",
    "val_loss = hist.history['val_loss']\n",
    "\n",
    "epochs_range = range(epoch)\n",
    "\n",
    "plt.figure(figsize=(20, 8))\n",
    "plt.subplot(1, 2, 1)\n",
    "plt.plot(epochs_range, acc, label='Acurácia de Treinamento')\n",
    "plt.plot(epochs_range, val_acc, label='Acurácia de Validação')\n",
    "plt.legend(loc='lower right')\n",
    "plt.title('Training and Validation Accuracy')\n",
    "\n",
    "plt.subplot(1, 2, 2)\n",
    "plt.plot(epochs_range, loss, label='Erro de treinamento')\n",
    "plt.plot(epochs_range, val_loss, label='Erro de Validação')\n",
    "plt.legend(loc='upper right')\n",
    "plt.title('Erro de treinamento vs validação')\n",
    "plt.show()"
   ]
  },
  {
   "cell_type": "markdown",
   "metadata": {
    "id": "FjQR_mOt3Ha3"
   },
   "source": [
    "### Realizando as previsões"
   ]
  },
  {
   "cell_type": "code",
   "execution_count": null,
   "metadata": {
    "executionInfo": {
     "elapsed": 649,
     "status": "ok",
     "timestamp": 1651791331661,
     "user": {
      "displayName": "Ana Raquel Fernandes Cunha",
      "userId": "11327054232231817255"
     },
     "user_tz": 180
    },
    "id": "Li2opwAvbG5N"
   },
   "outputs": [],
   "source": [
    "pred_train= model.predict(X_train) #previsão realizada com os dados de treino\n",
    "pred_test= model.predict(X_test)   #previsão realizada com os dados de teste"
   ]
  },
  {
   "cell_type": "code",
   "execution_count": null,
   "metadata": {
    "colab": {
     "base_uri": "https://localhost:8080/"
    },
    "executionInfo": {
     "elapsed": 291,
     "status": "ok",
     "timestamp": 1651791334204,
     "user": {
      "displayName": "Ana Raquel Fernandes Cunha",
      "userId": "11327054232231817255"
     },
     "user_tz": 180
    },
    "id": "0zbRf4fw652d",
    "outputId": "43be671d-8865-4c68-86ad-06bc18772ebc"
   },
   "outputs": [],
   "source": [
    "# Resultado da previsão com dados de treino\n",
    "scores = model.evaluate(X_train, y_train)\n",
    "print('Accuracy on training data: {}% \\n Error on training data: {}'.format(scores[1], 1 - scores[1]))   "
   ]
  },
  {
   "cell_type": "code",
   "execution_count": null,
   "metadata": {
    "colab": {
     "base_uri": "https://localhost:8080/"
    },
    "executionInfo": {
     "elapsed": 267,
     "status": "ok",
     "timestamp": 1651791339240,
     "user": {
      "displayName": "Ana Raquel Fernandes Cunha",
      "userId": "11327054232231817255"
     },
     "user_tz": 180
    },
    "id": "VRO7NrHkbexF",
    "outputId": "a24e1679-0d9c-4d09-9a33-1d41ea8c960d"
   },
   "outputs": [],
   "source": [
    "# Resultado da previsão com dados de teste\n",
    "scores2 = model.evaluate(X_test, y_test)\n",
    "print('Accuracy on test data: {}% \\n Error on test data: {}'.format(scores2[1], 1 - scores2[1]))    "
   ]
  }
 ],
 "metadata": {
  "accelerator": "GPU",
  "colab": {
   "authorship_tag": "ABX9TyPHMZTzqT93XbSN/PBWphUS",
   "collapsed_sections": [],
   "name": "Redes Neurais MLP.ipynb",
   "provenance": []
  },
  "kernelspec": {
   "display_name": "Python 3 (ipykernel)",
   "language": "python",
   "name": "python3"
  },
  "language_info": {
   "codemirror_mode": {
    "name": "ipython",
    "version": 3
   },
   "file_extension": ".py",
   "mimetype": "text/x-python",
   "name": "python",
   "nbconvert_exporter": "python",
   "pygments_lexer": "ipython3",
   "version": "3.9.12"
  }
 },
 "nbformat": 4,
 "nbformat_minor": 1
}
