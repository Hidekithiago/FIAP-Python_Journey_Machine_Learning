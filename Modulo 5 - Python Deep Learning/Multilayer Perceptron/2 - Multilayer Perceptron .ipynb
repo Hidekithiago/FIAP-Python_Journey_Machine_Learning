{
 "cells": [
  {
   "cell_type": "markdown",
   "metadata": {},
   "source": [
    "## Treinando uma rede neural Multilayer Perceptron\n",
    "\n",
    "Vamos utilizar a rede neural Multilayer Perceptron da biblioteca Sklearn para tentar separar os dados em classes azul e vermelhas."
   ]
  },
  {
   "cell_type": "markdown",
   "metadata": {},
   "source": [
    "Impotando bibliotecas:"
   ]
  },
  {
   "cell_type": "code",
   "execution_count": null,
   "metadata": {},
   "outputs": [],
   "source": [
    "#Bibliotecas auxílio\n",
    "import numpy as np\n",
    "import matplotlib.pyplot as plt\n",
    "\n",
    "#Datasets\n",
    "import sklearn\n",
    "import sklearn.datasets\n",
    "\n",
    "#ML e DP\n",
    "import sklearn.linear_model\n",
    "from sklearn.neural_network import MLPClassifier"
   ]
  },
  {
   "cell_type": "markdown",
   "metadata": {
    "id": "H1SSznvujJw1"
   },
   "source": [
    "Vamos utilizar algumas funções do arquivo planar_utils para nos auxiliar "
   ]
  },
  {
   "cell_type": "markdown",
   "metadata": {
    "id": "YYwVxA2ZgEam"
   },
   "source": [
    "https://scikit-learn.org/stable/modules/generated/sklearn.neural_network.MLPClassifier.html"
   ]
  },
  {
   "cell_type": "code",
   "execution_count": null,
   "metadata": {
    "id": "BN9jeF5EjJw4"
   },
   "outputs": [],
   "source": [
    "#Função para visualizar os dados aplicados sobre o modelo de rede neural \n",
    "\n",
    "def plot_decision_boundary(model, X, y):\n",
    "    # Set min and max values and give it some padding\n",
    "    x_min, x_max = X[0, :].min() - 1, X[0, :].max() + 1\n",
    "    y_min, y_max = X[1, :].min() - 1, X[1, :].max() + 1\n",
    "    h = 0.01\n",
    "    # Generate a grid of points with distance h between them\n",
    "    xx, yy = np.meshgrid(np.arange(x_min, x_max, h), np.arange(y_min, y_max, h))\n",
    "    # Predict the function value for the whole grid\n",
    "    Z = model(np.c_[xx.ravel(), yy.ravel()])\n",
    "    Z = Z.reshape(xx.shape)\n",
    "    # Plot the contour and training examples\n",
    "    plt.contourf(xx, yy, Z, cmap=plt.cm.Spectral)\n",
    "    plt.ylabel('x2')\n",
    "    plt.xlabel('x1')\n",
    "    plt.scatter(X[0, :], X[1, :], c=y, cmap=plt.cm.Spectral)\n",
    "\n",
    "# Função para calcular a sigmoid    \n",
    "def sigmoid(x):\n",
    "    \"\"\"\n",
    "    Compute the sigmoid of x\n",
    "\n",
    "    Arguments:\n",
    "    x -- A scalar or numpy array of any size.\n",
    "\n",
    "    Return:\n",
    "    s -- sigmoid(x)\n",
    "    \"\"\"\n",
    "    s = 1/(1+np.exp(-x))\n",
    "    return s\n",
    "\n",
    "# Função para plotar o gráfico do dataset\n",
    "\n",
    "def load_planar_dataset():\n",
    "    np.random.seed(1)\n",
    "    m = 400 # number of examples\n",
    "    N = int(m/2) # number of points per class\n",
    "    D = 2 # dimensionality\n",
    "    X = np.zeros((m,D)) # data matrix where each row is a single example\n",
    "    Y = np.zeros((m,1), dtype='uint8') # labels vector (0 for red, 1 for blue)\n",
    "    a = 4 # maximum ray of the flower\n",
    "\n",
    "    for j in range(2):\n",
    "        ix = range(N*j,N*(j+1))\n",
    "        t = np.linspace(j*3.12,(j+1)*3.12,N) + np.random.randn(N)*0.2 # theta\n",
    "        r = a*np.sin(4*t) + np.random.randn(N)*0.2 # radius\n",
    "        X[ix] = np.c_[r*np.sin(t), r*np.cos(t)]\n",
    "        Y[ix] = j\n",
    "\n",
    "    X = X.T\n",
    "    Y = Y.T\n",
    "\n",
    "    return X, Y"
   ]
  },
  {
   "cell_type": "markdown",
   "metadata": {
    "id": "pd5MNwMbjJw5"
   },
   "source": [
    "Vamos carregar o conjunto de dados no qual trabalharemos. O código abaixo o carregará nas variáveis X e Y"
   ]
  },
  {
   "cell_type": "code",
   "execution_count": null,
   "metadata": {
    "colab": {
     "base_uri": "https://localhost:8080/"
    },
    "id": "KjTpCKKyjJw6",
    "outputId": "172ec342-8f55-4589-f6af-70bbebbce57b"
   },
   "outputs": [],
   "source": [
    "X, Y = load_planar_dataset()\n",
    "\n",
    "Y = Y[0] #neste dataset Y tem uma dimensao a mais, vamos remove-la\n",
    "\n",
    "print(X.shape)\n",
    "print(Y.shape)"
   ]
  },
  {
   "cell_type": "markdown",
   "metadata": {
    "id": "Sm3M8cTGjJw7"
   },
   "source": [
    "Observe que nossa base de dados contém duas características (X1 e X2) e o rótulo (vermelho:0 e azul:1)"
   ]
  },
  {
   "cell_type": "markdown",
   "metadata": {
    "id": "lhYQg-oXjJw7"
   },
   "source": [
    "Vamos plotá-lo:"
   ]
  },
  {
   "cell_type": "code",
   "execution_count": null,
   "metadata": {
    "colab": {
     "base_uri": "https://localhost:8080/",
     "height": 283
    },
    "id": "gkv-TgbcjJw8",
    "outputId": "157b655d-aeef-41ef-8593-35b0d4f69778"
   },
   "outputs": [],
   "source": [
    "plt.scatter(X[0, :], X[1, :], c=Y, s=40, cmap=plt.cm.Spectral)"
   ]
  },
  {
   "cell_type": "markdown",
   "metadata": {
    "id": "JBdX_6oPjJw8"
   },
   "source": [
    "Observe que este problema é bastante complexo para conseguirmos separar os pontos azuis dos vermelhos com apenas uma linha, como faríamos com um modelo linear simples. Apenas como observação, vamos tentar empregar uma regressão logística:\n",
    "\n",
    "A regressão logística tenta a partir de um conjunto de observações, um modelo que permita a **predição de valores** tomados por uma variável categórica (vermelho 0 ou azul 1), frequentemente binária, a partir de uma série de variáveis explicativas contínuas e/ou binárias (nossos dados de x1 e x2)."
   ]
  },
  {
   "cell_type": "markdown",
   "metadata": {},
   "source": [
    "Executando o algoritmo de regressão logística:"
   ]
  },
  {
   "cell_type": "code",
   "execution_count": null,
   "metadata": {
    "colab": {
     "base_uri": "https://localhost:8080/"
    },
    "id": "ICNhaK8pjJw9",
    "outputId": "3aa7799c-6385-470f-9a0e-f7fed85cadef"
   },
   "outputs": [],
   "source": [
    "clf = sklearn.linear_model.LogisticRegressionCV()\n",
    "clf.fit(X.T, Y.T)"
   ]
  },
  {
   "cell_type": "code",
   "execution_count": null,
   "metadata": {
    "colab": {
     "base_uri": "https://localhost:8080/",
     "height": 313
    },
    "id": "NABp2lf7jJw9",
    "outputId": "a27dd748-48d6-4901-8e08-8b085b5bdbf0"
   },
   "outputs": [],
   "source": [
    "plot_decision_boundary(lambda x: clf.predict(x), X, Y)\n",
    "plt.title(\"Regressão Logística\")\n",
    "\n",
    "LR_predictions = clf.predict(X.T)\n",
    "print ('Taxa de acerto da Regressão Logística: %f ' % float(np.mean(LR_predictions == Y[0])))"
   ]
  },
  {
   "cell_type": "markdown",
   "metadata": {
    "id": "SQm6Za15jJw-"
   },
   "source": [
    "Para casos como este precisamos de modelos mais complexos, com superfícies de decisões não lineares. Como as Redes Neurais podem ser vistas com o um conjunto de funções não linearmente combinadas, elas nos possibilitam obter superfícies mais complexas"
   ]
  },
  {
   "cell_type": "markdown",
   "metadata": {
    "id": "XoaeTrNRjJw-"
   },
   "source": [
    "Vamos treinar o modelo Neural abaixo para vermos se obtemos um resultado melhor"
   ]
  },
  {
   "cell_type": "markdown",
   "metadata": {
    "id": "xbHfS-9RjJxA"
   },
   "source": [
    "Dado os valores preditos, podemos calcular a função de custo por:"
   ]
  },
  {
   "cell_type": "markdown",
   "metadata": {
    "id": "ViOd8gGIjJxA"
   },
   "source": [
    "$J = - \\frac{1}{m} \\sum\\limits_{i = 0}^{m} \\large\\left(\\small y^{(i)}\\log\\left(a^{[2] (i)}\\right) + (1-y^{(i)})\\log\\left(1- a^{[2] (i)}\\right) \\large \\right) \\small \\tag{2}$"
   ]
  },
  {
   "cell_type": "markdown",
   "metadata": {
    "id": "6liLIL8gjJxA"
   },
   "source": [
    "O Scikit-learn nos oferece um pacote para trabalharmos com redes Perceptron, para isso definimos a arquitetura da rede como:"
   ]
  },
  {
   "cell_type": "code",
   "execution_count": null,
   "metadata": {
    "id": "1gZbtyybjJxB"
   },
   "outputs": [],
   "source": [
    "clf = MLPClassifier(hidden_layer_sizes=(4, 1), activation='tanh', random_state=42)\n",
    "\n",
    "# hidden_layer_sizes -> quantidade de nosssas redes ocultas (4 camadas ocultas + 1 camada oculta)\n",
    "# activation -> função de ativação\n",
    "# random state -> garante que os números aleatórios sejam gerados na mesma ordem."
   ]
  },
  {
   "cell_type": "code",
   "execution_count": null,
   "metadata": {
    "colab": {
     "base_uri": "https://localhost:8080/"
    },
    "id": "ii9yBgW2jJxB",
    "outputId": "c2cdb428-fd5a-4d65-ab3c-12f771305a08"
   },
   "outputs": [],
   "source": [
    "clf.fit(X.T, Y.T) #realizando o treinamento"
   ]
  },
  {
   "cell_type": "code",
   "execution_count": null,
   "metadata": {
    "colab": {
     "base_uri": "https://localhost:8080/",
     "height": 313
    },
    "id": "pfaCINzejJxC",
    "outputId": "f4553b24-be9f-44c3-b4c5-b82c4d74f841"
   },
   "outputs": [],
   "source": [
    "plot_decision_boundary(lambda x: clf.predict(x), X, Y)\n",
    "plt.title(\"Rede Neural\")\n",
    "\n",
    "NN_predictions = clf.predict(X.T)\n",
    "print ('Taxa de acerto da Rede Neural: %f ' % float(np.mean(NN_predictions == Y[0])))"
   ]
  },
  {
   "cell_type": "markdown",
   "metadata": {
    "id": "xf-iJd5djJxC"
   },
   "source": [
    "Observe que com este modelo conseguimos construir uma superfície de decisão um pouco \"curva\" no espaço $R^2$, já que não estamos mais trabalhando com modelos lineares. Com isso aumentamos nossa taxa de acerto."
   ]
  },
  {
   "cell_type": "markdown",
   "metadata": {
    "id": "2EEvaYSdjJxC"
   },
   "source": [
    "Vamos tentar modelos mais complexos para observarmos esse comportamento"
   ]
  },
  {
   "cell_type": "code",
   "execution_count": null,
   "metadata": {
    "id": "BJUufB98eJ9G"
   },
   "outputs": [],
   "source": [
    "clf = MLPClassifier(hidden_layer_sizes=(4, 4), activation='tanh', random_state=42)"
   ]
  },
  {
   "cell_type": "code",
   "execution_count": null,
   "metadata": {
    "colab": {
     "base_uri": "https://localhost:8080/"
    },
    "id": "RK4rgBcgeSKV",
    "outputId": "4d115e00-2e1e-4f5e-d3b0-af02f95091c5"
   },
   "outputs": [],
   "source": [
    "clf.fit(X.T, Y.T)\n"
   ]
  },
  {
   "cell_type": "code",
   "execution_count": null,
   "metadata": {
    "colab": {
     "base_uri": "https://localhost:8080/",
     "height": 313
    },
    "id": "P1oo_dAMjJxD",
    "outputId": "c4951815-bfc3-4cfc-fe2a-f44a0fbeaef5"
   },
   "outputs": [],
   "source": [
    "plot_decision_boundary(lambda x: clf.predict(x), X, Y)\n",
    "plt.title(\"Rede Neural\")\n",
    "NN_predictions = clf.predict(X.T)\n",
    "print ('Taxa de acerto da Rede Neural: %f ' % float(np.mean(NN_predictions == Y[0])))"
   ]
  },
  {
   "cell_type": "markdown",
   "metadata": {
    "id": "_soVTowqjJxD"
   },
   "source": [
    "Um hiper parâmetro muito importante a ser configurado em um NN é o learning_rate. Caso ele seja muito baixo, a rede necessitará de muitas interações para convergir (muitas vezes milhões), o que inviabiliza o projeto. Porém, se ele for muito alto pode haver um \"salto\" do mínimo da função pelo gradiente, impossibilitando a convergência do modelo."
   ]
  },
  {
   "cell_type": "markdown",
   "metadata": {
    "id": "v_FCG4W4jJxE"
   },
   "source": [
    "Vamos testar no nosso exemplo:"
   ]
  },
  {
   "cell_type": "code",
   "execution_count": null,
   "metadata": {
    "id": "hEN9R7thehzt"
   },
   "outputs": [],
   "source": [
    "clf = MLPClassifier(hidden_layer_sizes=(4, 4), activation='tanh', random_state=42, learning_rate_init=10.0)"
   ]
  },
  {
   "cell_type": "code",
   "execution_count": null,
   "metadata": {
    "colab": {
     "base_uri": "https://localhost:8080/"
    },
    "id": "Zfo8wfT5eh9O",
    "outputId": "4be2a5c4-b347-4ea7-c823-5ff9d7e0da83"
   },
   "outputs": [],
   "source": [
    "clf.fit(X.T, Y.T)"
   ]
  },
  {
   "cell_type": "code",
   "execution_count": null,
   "metadata": {
    "colab": {
     "base_uri": "https://localhost:8080/",
     "height": 313
    },
    "id": "9r-eNA9CjJxE",
    "outputId": "0cb8ebde-08e7-4ed1-abf7-2f672bfdb8e7"
   },
   "outputs": [],
   "source": [
    "plot_decision_boundary(lambda x: clf.predict(x), X, Y)\n",
    "plt.title(\"Rede Neural\")\n",
    "\n",
    "NN_predictions = clf.predict(X.T)\n",
    "print ('Taxa de acerto da Rede Neural: %f ' % float(np.mean(NN_predictions == Y[0])))"
   ]
  },
  {
   "cell_type": "markdown",
   "metadata": {
    "id": "nrLh6VdCjJxE"
   },
   "source": [
    "Observe que mesmo utilizando um modelo mais complexo, a nossa rede não conseguiu convergir para o mínimo de erro"
   ]
  },
  {
   "cell_type": "code",
   "execution_count": null,
   "metadata": {
    "id": "F5aZqUOgeqDk"
   },
   "outputs": [],
   "source": [
    "clf = MLPClassifier(hidden_layer_sizes=(4, 4), activation='tanh', random_state=42, learning_rate_init=0.1) #learning rate muito baixa"
   ]
  },
  {
   "cell_type": "code",
   "execution_count": null,
   "metadata": {
    "colab": {
     "base_uri": "https://localhost:8080/"
    },
    "id": "3pN8U-EoeqIH",
    "outputId": "2428c30d-96db-4d92-bdbb-5767c7a320c7"
   },
   "outputs": [],
   "source": [
    "clf.fit(X.T, Y.T)"
   ]
  },
  {
   "cell_type": "code",
   "execution_count": null,
   "metadata": {
    "colab": {
     "base_uri": "https://localhost:8080/",
     "height": 313
    },
    "id": "-I2EvH_UjJxF",
    "outputId": "a67beca9-a03a-492c-d00b-38ae79db5c98"
   },
   "outputs": [],
   "source": [
    "plot_decision_boundary(lambda x: clf.predict(x), X, Y)\n",
    "plt.title(\"Rede Neural\")\n",
    "\n",
    "NN_predictions = clf.predict(X.T)\n",
    "print ('Taxa de acerto da Rede Neural: %f ' % float(np.mean(NN_predictions == Y[0])))"
   ]
  },
  {
   "cell_type": "markdown",
   "metadata": {
    "id": "TzpTfn-1jJxF"
   },
   "source": [
    "O mesmo acontece com uma learning rate muito baixa"
   ]
  },
  {
   "cell_type": "code",
   "execution_count": null,
   "metadata": {
    "id": "CmOHa1KVe-PN"
   },
   "outputs": [],
   "source": [
    "clf = MLPClassifier(hidden_layer_sizes=(4, 4), activation='tanh', random_state=42, learning_rate_init=0.001) #learning rate mais adequada, + baixo"
   ]
  },
  {
   "cell_type": "code",
   "execution_count": null,
   "metadata": {
    "colab": {
     "base_uri": "https://localhost:8080/"
    },
    "id": "PyfTRAQqfEtw",
    "outputId": "c4ac3bc0-f239-4fa6-c5c8-f3c43fb92629"
   },
   "outputs": [],
   "source": [
    "clf.fit(X.T, Y.T)"
   ]
  },
  {
   "cell_type": "code",
   "execution_count": null,
   "metadata": {
    "colab": {
     "base_uri": "https://localhost:8080/",
     "height": 313
    },
    "id": "INnq7nECjJxF",
    "outputId": "b244ff74-7089-49e8-b908-d98a809c0f55"
   },
   "outputs": [],
   "source": [
    "plot_decision_boundary(lambda x: clf.predict(x), X, Y)\n",
    "plt.title(\"Rede Neural\")\n",
    "\n",
    "NN_predictions = clf.predict(X.T)\n",
    "print ('Taxa de acerto da Rede Neural: %f ' % float(np.mean(NN_predictions == Y[0])))"
   ]
  },
  {
   "cell_type": "markdown",
   "metadata": {
    "id": "zCxWVSQVjJxG"
   },
   "source": [
    "Por fim, uma learning rate adequada resulta em um modelo mais preciso"
   ]
  },
  {
   "cell_type": "markdown",
   "metadata": {
    "id": "sx3Zn9oMjJxG"
   },
   "source": [
    "E para prevermos um valor:"
   ]
  },
  {
   "cell_type": "code",
   "execution_count": null,
   "metadata": {
    "colab": {
     "base_uri": "https://localhost:8080/"
    },
    "id": "IaLhAbzXjJxG",
    "outputId": "7e775a37-7324-4e57-9057-eb091174ceb5"
   },
   "outputs": [],
   "source": [
    "clf.predict([[2.5, 0.75]]) #azul = 1 e vermelho = 0"
   ]
  },
  {
   "cell_type": "markdown",
   "metadata": {
    "id": "GD0iedKEjJxH"
   },
   "source": [
    "Assim, nosso ponto $(2.5, 0.75)$ é da classe roxo (ou azul)"
   ]
  },
  {
   "cell_type": "code",
   "execution_count": null,
   "metadata": {
    "colab": {
     "base_uri": "https://localhost:8080/"
    },
    "id": "6tfdPlVIjJxH",
    "outputId": "920a6b90-f965-4b10-e2ff-88b4c5a8c549"
   },
   "outputs": [],
   "source": [
    "clf.predict_proba([[2.5, 0.75]])"
   ]
  },
  {
   "cell_type": "markdown",
   "metadata": {
    "id": "rXWY4b0rjJxH"
   },
   "source": [
    "A probabilidade para a classe vermelha é 0.32 e para a roxa 0.68"
   ]
  },
  {
   "cell_type": "markdown",
   "metadata": {},
   "source": [
    "## Desafio!\n",
    "\n",
    "Com base nos hiperparâmetros encontrados no link: https://scikit-learn.org/stable/modules/generated/sklearn.neural_network.MLPRegressor.html construa uma rede neural que supere a taxa de acerto de 55%."
   ]
  },
  {
   "cell_type": "markdown",
   "metadata": {
    "id": "ncVpG57mgOY9"
   },
   "source": [
    "Vamos realizar uma nova tentativa com outros parâmetros:"
   ]
  },
  {
   "cell_type": "code",
   "execution_count": null,
   "metadata": {},
   "outputs": [],
   "source": []
  }
 ],
 "metadata": {
  "accelerator": "GPU",
  "colab": {
   "collapsed_sections": [],
   "name": "Rede neural multilayer perceptron exemplo 1.ipynb",
   "provenance": []
  },
  "kernelspec": {
   "display_name": "Python 3 (ipykernel)",
   "language": "python",
   "name": "python3"
  },
  "language_info": {
   "codemirror_mode": {
    "name": "ipython",
    "version": 3
   },
   "file_extension": ".py",
   "mimetype": "text/x-python",
   "name": "python",
   "nbconvert_exporter": "python",
   "pygments_lexer": "ipython3",
   "version": "3.9.12"
  }
 },
 "nbformat": 4,
 "nbformat_minor": 1
}
