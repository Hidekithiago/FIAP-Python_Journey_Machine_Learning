{
 "cells": [
  {
   "cell_type": "markdown",
   "metadata": {
    "id": "ScrXzEZ_IIif"
   },
   "source": [
    "## Redes Neurais Multilayer Perceptron: \n",
    "## Prevendo se a pessoa é fumante por sinais biológicos básicos de saúde.\n",
    "\n",
    "### Desafio 2: \n",
    "\n",
    "Seu desafio será criar uma rede neural para prever se uma pessoa pode ser ou não fumante com base nos dados do conjunto de dados smoking. \n",
    "\n",
    "\n"
   ]
  },
  {
   "cell_type": "markdown",
   "metadata": {
    "id": "x9_eQbQOQ-TY"
   },
   "source": [
    "**Contexto**\n",
    "\n",
    "Este conjunto de dados é uma coleção de dados de sinais biológicos básicos de saúde.\n",
    "O objetivo é determinar a presença ou ausência de tabagismo por meio de biossinais.\n",
    "\n",
    "**Features:**\n",
    "- Código: índice\n",
    "- Gênero sexual\n",
    "- idade: intervalo de 5 anos\n",
    "- Altura (cm)\n",
    "- peso (kg)\n",
    "- cintura (cm): comprimento da circunferência da cintura\n",
    "- visão (esquerda)\n",
    "- visão (direita)\n",
    "- audição (esquerda)\n",
    "- ouvindo (direita)\n",
    "- pressão arterial sistólica\n",
    "- relaxamento: pressão arterial\n",
    "- açúcar no sangue em jejum\n",
    "- Colesterol: total\n",
    "- triglicerídeo\n",
    "- HDL: tipo de colesterol\n",
    "- LDL: tipo de colesterol\n",
    "- hemoglobina\n",
    "- Proteína da urina\n",
    "- creatinina sérica\n",
    "- AST: tipo transaminase glutâmica oxaloacética\n",
    "- ALT : tipo transaminase glutâmico oxaloacético\n",
    "- Gtp: γ-GTP\n",
    "- oral : Status do exame oral\n",
    "- cáries dentárias\n",
    "- tártaro: status do tártaro\n",
    "- fumar - target"
   ]
  },
  {
   "cell_type": "code",
   "execution_count": null,
   "metadata": {
    "executionInfo": {
     "elapsed": 1767,
     "status": "ok",
     "timestamp": 1651789092511,
     "user": {
      "displayName": "Ana Raquel Fernandes Cunha",
      "userId": "11327054232231817255"
     },
     "user_tz": 180
    },
    "id": "SAvBvwkOHESa"
   },
   "outputs": [],
   "source": [
    "import pandas as pd                                   "
   ]
  },
  {
   "cell_type": "code",
   "execution_count": null,
   "metadata": {},
   "outputs": [],
   "source": [
    "#Subindo a base dos dados:\n",
    "\n",
    "df = pd.read_csv('smoking.csv')"
   ]
  },
  {
   "cell_type": "code",
   "execution_count": null,
   "metadata": {},
   "outputs": [],
   "source": [
    "df.head()"
   ]
  }
 ],
 "metadata": {
  "accelerator": "GPU",
  "colab": {
   "authorship_tag": "ABX9TyPHMZTzqT93XbSN/PBWphUS",
   "collapsed_sections": [],
   "name": "Redes Neurais MLP.ipynb",
   "provenance": []
  },
  "kernelspec": {
   "display_name": "Python 3 (ipykernel)",
   "language": "python",
   "name": "python3"
  },
  "language_info": {
   "codemirror_mode": {
    "name": "ipython",
    "version": 3
   },
   "file_extension": ".py",
   "mimetype": "text/x-python",
   "name": "python",
   "nbconvert_exporter": "python",
   "pygments_lexer": "ipython3",
   "version": "3.9.12"
  }
 },
 "nbformat": 4,
 "nbformat_minor": 1
}
