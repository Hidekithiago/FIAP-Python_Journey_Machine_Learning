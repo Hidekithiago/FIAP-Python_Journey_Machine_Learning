{
 "cells": [
  {
   "cell_type": "markdown",
   "metadata": {},
   "source": [
    "# Prevendo séries temporais - números de produção elétrica\n",
    "\n",
    "Vamos entender como funciona o algortimo de LSTM com o exemplo de séries temporais."
   ]
  },
  {
   "cell_type": "markdown",
   "metadata": {},
   "source": [
    "### Importando as bibliotecas necessárias:"
   ]
  },
  {
   "cell_type": "code",
   "execution_count": null,
   "metadata": {
    "id": "5HPvRVjiV-Om"
   },
   "outputs": [],
   "source": [
    "import numpy as np\n",
    "import matplotlib.pyplot as plt\n",
    "from pandas import read_csv\n",
    "import pandas as pd\n",
    "import math\n",
    "\n",
    "from keras.models import Sequential\n",
    "from keras.layers import Dense\n",
    "from keras.layers import LSTM\n",
    "\n",
    "from sklearn.preprocessing import MinMaxScaler,StandardScaler\n",
    "from sklearn.metrics import mean_squared_error"
   ]
  },
  {
   "cell_type": "markdown",
   "metadata": {},
   "source": [
    "Função para receber os dados e as divisões na entrada X e na saída Y, dividindo em `n` dias passados como entrada X. "
   ]
  },
  {
   "cell_type": "code",
   "execution_count": null,
   "metadata": {
    "id": "XCDgqjwQV_iR"
   },
   "outputs": [],
   "source": [
    "def create_dataset(dataset, look_back=1):\n",
    "    dataX, dataY = [], []\n",
    "    for i in range(len(dataset)-look_back-1):\n",
    "        a = dataset[i:(i+look_back), 0]\n",
    "        dataX.append(a)\n",
    "        dataY.append(dataset[i + look_back, 0])\n",
    "    return np.array(dataX), np.array(dataY)"
   ]
  },
  {
   "cell_type": "markdown",
   "metadata": {},
   "source": [
    "### Carregando o dataset:"
   ]
  },
  {
   "cell_type": "code",
   "execution_count": null,
   "metadata": {
    "colab": {
     "base_uri": "https://localhost:8080/",
     "height": 455
    },
    "id": "FTlO_blXWElf",
    "outputId": "01bedeb0-d58b-4863-8938-74662f080bde"
   },
   "outputs": [],
   "source": [
    "np.random.seed(7)\n",
    "\n",
    "#Carrega o dataset\n",
    "dataframe = read_csv('https://telescopeinstorage.blob.core.windows.net/datasets/Eletrical_Production.csv', index_col = 'DATE', engine='python')\n",
    "dataframe.head(150)"
   ]
  },
  {
   "cell_type": "code",
   "execution_count": null,
   "metadata": {
    "colab": {
     "base_uri": "https://localhost:8080/",
     "height": 455
    },
    "id": "yylAHU-vhm5H",
    "outputId": "f71756e8-adea-4cd8-f554-2b2c021986d8"
   },
   "outputs": [],
   "source": [
    "dataframe.tail(150)"
   ]
  },
  {
   "cell_type": "code",
   "execution_count": null,
   "metadata": {
    "colab": {
     "base_uri": "https://localhost:8080/",
     "height": 624
    },
    "id": "xjaDjvJ1eiib",
    "outputId": "f35fbe63-d8b1-47d2-88d1-45f7210c0ff7"
   },
   "outputs": [],
   "source": [
    "dataframe.plot(figsize=(10,10))"
   ]
  },
  {
   "cell_type": "markdown",
   "metadata": {},
   "source": [
    "### Transformando os dados\n",
    "\n",
    "Coletando dados de produção apartir de 1980 até o último dia de registro de produção."
   ]
  },
  {
   "cell_type": "code",
   "execution_count": null,
   "metadata": {
    "id": "gCS7TigReL53"
   },
   "outputs": [],
   "source": [
    "dataframeFilter =  dataframe.loc['1980-01-01':]"
   ]
  },
  {
   "cell_type": "code",
   "execution_count": null,
   "metadata": {
    "colab": {
     "base_uri": "https://localhost:8080/",
     "height": 238
    },
    "id": "MtOAjH8ghwsi",
    "outputId": "2413acbb-0cfc-41dd-eacb-8a084ce57249"
   },
   "outputs": [],
   "source": [
    "dataframeFilter.head()"
   ]
  },
  {
   "cell_type": "code",
   "execution_count": null,
   "metadata": {
    "colab": {
     "base_uri": "https://localhost:8080/",
     "height": 238
    },
    "id": "aDdsDZhYh0Mp",
    "outputId": "26339c76-fb60-40da-b0a9-30a24f5da295"
   },
   "outputs": [],
   "source": [
    "dataframeFilter.tail()"
   ]
  },
  {
   "cell_type": "code",
   "execution_count": null,
   "metadata": {
    "colab": {
     "base_uri": "https://localhost:8080/",
     "height": 624
    },
    "id": "DtQU-vEtgQAd",
    "outputId": "8bacce8a-d22c-4971-ea43-a88f632dc233"
   },
   "outputs": [],
   "source": [
    "dataframeFilter.plot(figsize=(10,10))"
   ]
  },
  {
   "cell_type": "code",
   "execution_count": null,
   "metadata": {
    "id": "35a2FcxEYeVE"
   },
   "outputs": [],
   "source": [
    "X = dataframeFilter[['IPG2211A2N']].values\n",
    "X = X.astype('float32')"
   ]
  },
  {
   "cell_type": "code",
   "execution_count": null,
   "metadata": {
    "colab": {
     "base_uri": "https://localhost:8080/",
     "height": 501
    },
    "id": "cYH4IY8KWIZx",
    "outputId": "df254dde-b4fa-405c-b523-351dadca3fe4"
   },
   "outputs": [],
   "source": [
    "plt.figure(figsize=(10,8))\n",
    "plt.plot(X)"
   ]
  },
  {
   "cell_type": "markdown",
   "metadata": {},
   "source": [
    "### Normalizando os dados:"
   ]
  },
  {
   "cell_type": "code",
   "execution_count": null,
   "metadata": {
    "id": "eBNctqS7WM0h"
   },
   "outputs": [],
   "source": [
    "#Normaliza o dataset\n",
    "scaler = MinMaxScaler(feature_range=(0, 1))\n",
    "\n",
    "#scaler = StandardScaler()\n",
    "X = scaler.fit_transform(X)\n",
    "\n",
    "#O StandardScaler é um tipo de scaler que dimensiona os valores mínimo e máximo para 0 e 1, respectivamente. \n",
    "#Enquanto o MinMaxscaler dimensiona todos os valores entre min e max para que fiquem dentro de um intervalo de min a max. "
   ]
  },
  {
   "cell_type": "code",
   "execution_count": null,
   "metadata": {},
   "outputs": [],
   "source": [
    "X"
   ]
  },
  {
   "cell_type": "markdown",
   "metadata": {},
   "source": [
    "### Separando os dados de treino e teste:"
   ]
  },
  {
   "cell_type": "code",
   "execution_count": null,
   "metadata": {
    "id": "P6LzUvK3WRyU"
   },
   "outputs": [],
   "source": [
    "train_size = int(len(X) * 0.7)\n",
    "test_size = len(X) - train_size\n",
    "\n",
    "train = X[0:train_size,:]\n",
    "test =  X[train_size:len(X),:]"
   ]
  },
  {
   "cell_type": "code",
   "execution_count": null,
   "metadata": {},
   "outputs": [],
   "source": [
    "print(train.shape)\n",
    "print(test.shape)"
   ]
  },
  {
   "cell_type": "code",
   "execution_count": null,
   "metadata": {
    "colab": {
     "base_uri": "https://localhost:8080/",
     "height": 283
    },
    "id": "edA6exZmMiGj",
    "outputId": "ece3510f-a15f-4643-9850-b5a352472c66"
   },
   "outputs": [],
   "source": [
    "plt.plot(train)"
   ]
  },
  {
   "cell_type": "code",
   "execution_count": null,
   "metadata": {
    "colab": {
     "base_uri": "https://localhost:8080/",
     "height": 283
    },
    "id": "G01WyLb5MnYw",
    "outputId": "9dad0fc8-0fd6-403e-951d-9538bad0742d"
   },
   "outputs": [],
   "source": [
    "plt.plot(test)"
   ]
  },
  {
   "cell_type": "markdown",
   "metadata": {},
   "source": [
    "### Definindo o número de dias para predição.\n",
    "\n",
    "Vamos utilizar nesse caso a análise com base nos 3 últimos dias."
   ]
  },
  {
   "cell_type": "code",
   "execution_count": null,
   "metadata": {
    "id": "F-qYlfHZWd-R"
   },
   "outputs": [],
   "source": [
    "look_back = 3 # quantidade de dias passados\n",
    "\n",
    "X_train, y_train = create_dataset(train, look_back)\n",
    "X_test, y_test = create_dataset(test, look_back)\n"
   ]
  },
  {
   "cell_type": "code",
   "execution_count": null,
   "metadata": {
    "id": "MlI6G-RoaLYo"
   },
   "outputs": [],
   "source": [
    "X_train"
   ]
  },
  {
   "cell_type": "code",
   "execution_count": null,
   "metadata": {
    "id": "gkujEmZpaMQs"
   },
   "outputs": [],
   "source": [
    "y_train"
   ]
  },
  {
   "cell_type": "code",
   "execution_count": null,
   "metadata": {
    "colab": {
     "base_uri": "https://localhost:8080/"
    },
    "id": "HTJJw-wRbdWc",
    "outputId": "ea5015fe-6752-4764-b2f1-9081ecf58a6c"
   },
   "outputs": [],
   "source": [
    "X_train.shape"
   ]
  },
  {
   "cell_type": "code",
   "execution_count": null,
   "metadata": {
    "id": "IVSBJIdnaIGr"
   },
   "outputs": [],
   "source": [
    "# reshape da entrada para ser [amostras, time steps, caracteristicas]\n",
    "X_train = np.reshape(X_train, (X_train.shape[0], X_train.shape[1], 1))\n",
    "X_test = np.reshape(X_test, (X_test.shape[0], X_test.shape[1], 1))"
   ]
  },
  {
   "cell_type": "code",
   "execution_count": null,
   "metadata": {
    "colab": {
     "base_uri": "https://localhost:8080/"
    },
    "id": "XvNJVH-6Pag3",
    "outputId": "2bbeddb8-ad81-41b0-a35b-e2f8c4544086"
   },
   "outputs": [],
   "source": [
    "X_train[1]"
   ]
  },
  {
   "cell_type": "code",
   "execution_count": null,
   "metadata": {
    "colab": {
     "base_uri": "https://localhost:8080/"
    },
    "id": "oNNjW3iKPz5H",
    "outputId": "2b60c28d-556b-4b2f-c62b-0ccf79146492"
   },
   "outputs": [],
   "source": [
    "y_train[1]"
   ]
  },
  {
   "cell_type": "code",
   "execution_count": null,
   "metadata": {
    "colab": {
     "base_uri": "https://localhost:8080/"
    },
    "id": "UUfCp9cw26Xu",
    "outputId": "86400443-ec80-41e5-f9fb-10869552c1e2"
   },
   "outputs": [],
   "source": [
    "X_train.shape"
   ]
  },
  {
   "cell_type": "code",
   "execution_count": null,
   "metadata": {
    "colab": {
     "base_uri": "https://localhost:8080/"
    },
    "id": "tIqC7Fn6Wh1u",
    "outputId": "85e02ef4-fb7e-48a7-c8f8-e7a47e581fd6"
   },
   "outputs": [],
   "source": [
    "# Cria e treina a rede LSTM\n",
    "model = Sequential()\n",
    "model.add(LSTM(8, input_shape=(look_back, 1)))\n",
    "model.add(Dense(1))\n",
    "model.compile(loss='mean_squared_error', optimizer='adam', metrics = ['mae']) #Mean absolute error\n",
    "\n",
    "model.fit(X_train, y_train, epochs=100, batch_size=1, verbose=1)"
   ]
  },
  {
   "cell_type": "code",
   "execution_count": null,
   "metadata": {
    "id": "Rit6p_YwWm3P"
   },
   "outputs": [],
   "source": [
    "# Predições\n",
    "trainPredict = model.predict(X_train)\n",
    "testPredict = model.predict(X_test) #novos dados"
   ]
  },
  {
   "cell_type": "code",
   "execution_count": null,
   "metadata": {
    "id": "8BN-3C78WpxY"
   },
   "outputs": [],
   "source": [
    "# Faz a transformação inversa das predições\n",
    "trainPredict = scaler.inverse_transform(trainPredict)\n",
    "y_train = scaler.inverse_transform([y_train])\n",
    "\n",
    "testPredict = scaler.inverse_transform(testPredict)\n",
    "y_test = scaler.inverse_transform([y_test])"
   ]
  },
  {
   "cell_type": "code",
   "execution_count": null,
   "metadata": {
    "colab": {
     "base_uri": "https://localhost:8080/"
    },
    "id": "iUylOOWBW7vW",
    "outputId": "0b3e4263-ebe6-4019-9a99-49f32ae28629"
   },
   "outputs": [],
   "source": [
    "# Calcula o RMSE\n",
    "trainScore = math.sqrt(mean_squared_error(y_train[0], trainPredict[:,0]))\n",
    "print('Train Score: %.2f RMSE' % (trainScore))\n",
    "testScore = math.sqrt(mean_squared_error(y_test[0], testPredict[:,0]))\n",
    "print('Test Score: %.2f RMSE' % (testScore))"
   ]
  },
  {
   "cell_type": "code",
   "execution_count": null,
   "metadata": {
    "id": "8oK6adlJXB_i"
   },
   "outputs": [],
   "source": [
    "# Prepara o vetor para plotagem do conjunto de treinamento\n",
    "trainPredictPlot = np.empty_like(X)\n",
    "trainPredictPlot[:, :] = np.nan\n",
    "trainPredictPlot[look_back-1:len(trainPredict)+look_back-1, :] = trainPredict"
   ]
  },
  {
   "cell_type": "code",
   "execution_count": null,
   "metadata": {
    "id": "aBl_OkfWXIqG"
   },
   "outputs": [],
   "source": [
    "# Prepara o vetor para plotagem do conjunto das predições de teste\n",
    "testPredictPlot = np.empty_like(X)\n",
    "testPredictPlot[:, :] = np.nan\n",
    "testPredictPlot[len(trainPredict)+(look_back*2):len(X)-2, :] = testPredict"
   ]
  },
  {
   "cell_type": "code",
   "execution_count": null,
   "metadata": {},
   "outputs": [],
   "source": [
    "# Plota o dataset, as predições sobre o conjunto de treinamento e teste\n",
    "plt.figure(figsize=(10,8))\n",
    "plt.plot(scaler.inverse_transform(X))\n",
    "plt.plot(trainPredictPlot)\n",
    "plt.plot(testPredictPlot)\n",
    "plt.show()"
   ]
  },
  {
   "cell_type": "code",
   "execution_count": null,
   "metadata": {
    "colab": {
     "base_uri": "https://localhost:8080/",
     "height": 483
    },
    "id": "AWHpCoCUXNGi",
    "outputId": "9a1567b0-c153-4194-f556-c380ae5e84a1"
   },
   "outputs": [],
   "source": [
    "# Plota o dataset, as predições sobre o conjunto de treinamento e teste\n",
    "plt.figure(figsize=(10,8))\n",
    "plt.plot(scaler.inverse_transform(X))\n",
    "plt.plot(trainPredictPlot)\n",
    "#plt.plot(testPredictPlot)\n",
    "plt.show()"
   ]
  },
  {
   "cell_type": "code",
   "execution_count": null,
   "metadata": {
    "scrolled": true
   },
   "outputs": [],
   "source": [
    "# Plota o dataset, as predições sobre o conjunto de treinamento e teste\n",
    "plt.figure(figsize=(10,8))\n",
    "plt.plot(scaler.inverse_transform(X))\n",
    "#plt.plot(trainPredictPlot)\n",
    "plt.plot(testPredictPlot)\n",
    "plt.show()"
   ]
  },
  {
   "cell_type": "code",
   "execution_count": null,
   "metadata": {},
   "outputs": [],
   "source": [
    "Dados_Teste = np.array(list(y_test)) #nosso target\n",
    "Dados_Preditos = np.array(testPredict) #nossas predições\n",
    "\n",
    "Resultado_Predicao = pd.DataFrame({'Actual': Dados_Teste.flatten(), 'Predicted': Dados_Preditos.flatten()})\n",
    "Resultado_Predicao"
   ]
  },
  {
   "cell_type": "code",
   "execution_count": null,
   "metadata": {},
   "outputs": [],
   "source": [
    "y_test"
   ]
  },
  {
   "cell_type": "code",
   "execution_count": null,
   "metadata": {},
   "outputs": [],
   "source": [
    "testPredict"
   ]
  },
  {
   "cell_type": "code",
   "execution_count": null,
   "metadata": {},
   "outputs": [],
   "source": [
    "#Dados_Preditos"
   ]
  },
  {
   "cell_type": "code",
   "execution_count": null,
   "metadata": {},
   "outputs": [],
   "source": [
    "df_validacao= Resultado_Predicao.head(50)\n",
    "df_validacao.plot(kind='bar',figsize=(16,10))\n",
    "plt.grid(which='major', linestyle='-', linewidth='0.5', color='green')\n",
    "plt.grid(which='minor', linestyle=':', linewidth='0.5', color='black')\n",
    "plt.show()"
   ]
  },
  {
   "cell_type": "code",
   "execution_count": null,
   "metadata": {},
   "outputs": [],
   "source": [
    "Resultado_Predicao.to_csv('Resultado_Predicao.csv', sep=',')"
   ]
  }
 ],
 "metadata": {
  "colab": {
   "name": "Exemplo Predição de Séries Temporais LSTM - Electrical Production.ipynb",
   "provenance": []
  },
  "kernelspec": {
   "display_name": "Python 3 (ipykernel)",
   "language": "python",
   "name": "python3"
  },
  "language_info": {
   "codemirror_mode": {
    "name": "ipython",
    "version": 3
   },
   "file_extension": ".py",
   "mimetype": "text/x-python",
   "name": "python",
   "nbconvert_exporter": "python",
   "pygments_lexer": "ipython3",
   "version": "3.9.12"
  }
 },
 "nbformat": 4,
 "nbformat_minor": 1
}
