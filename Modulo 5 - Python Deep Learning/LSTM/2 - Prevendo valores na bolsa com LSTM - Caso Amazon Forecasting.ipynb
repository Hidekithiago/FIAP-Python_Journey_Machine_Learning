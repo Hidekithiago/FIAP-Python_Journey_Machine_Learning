{
 "cells": [
  {
   "cell_type": "markdown",
   "id": "eaae667a",
   "metadata": {},
   "source": [
    "### Prevendo valores de ações com algoritmo de LSTM\n",
    "\n",
    "O dataset é composto pelo histórico do valor das ações da Amazon no período de 04/01/2010 até 04/01/2019. \n",
    "\n",
    "Link para acessar dados do Yahoo Finanças:\n",
    "\n",
    "https://br.financas.yahoo.com/quote/MSFT/history?period1=1420070400&period2=1652918400&interval=1d&filter=history&frequency=1d&includeAdjustedClose=true\n"
   ]
  },
  {
   "cell_type": "markdown",
   "id": "fb79d4b0",
   "metadata": {},
   "source": [
    "**Objetivo:** Prever valor de ações com base em dados históricos."
   ]
  },
  {
   "cell_type": "markdown",
   "id": "aeaf519c",
   "metadata": {},
   "source": [
    "### Importando as bibliotecas necessárias:"
   ]
  },
  {
   "cell_type": "code",
   "execution_count": null,
   "id": "190f2db8",
   "metadata": {},
   "outputs": [],
   "source": [
    "import pandas as pd\n",
    "import numpy as np\n",
    "import matplotlib.pyplot as plt\n",
    "\n",
    "from keras.models import Sequential\n",
    "from keras.layers import LSTM,Dense\n",
    "\n",
    "from sklearn.preprocessing import MinMaxScaler\n",
    "from sklearn.metrics import mean_squared_error\n",
    "from sklearn.model_selection import train_test_split\n",
    "\n",
    "from keras.models import load_model\n",
    "from keras.preprocessing.sequence import TimeseriesGenerator\n",
    "\n",
    "import warnings\n",
    "warnings.filterwarnings('ignore')\n",
    "\n",
    "import matplotlib.pyplot as plt\n",
    "import plotly.graph_objects as go\n",
    "%matplotlib inline"
   ]
  },
  {
   "cell_type": "markdown",
   "id": "655cd99e",
   "metadata": {},
   "source": [
    "### Subindo o dataframe:"
   ]
  },
  {
   "cell_type": "code",
   "execution_count": null,
   "id": "ef805b75",
   "metadata": {},
   "outputs": [],
   "source": [
    "df = pd.read_csv('AMZN.csv')\n",
    "df['Date'] = pd.to_datetime(df['Date']) #realizando a conversão da data para formato datetime"
   ]
  },
  {
   "cell_type": "code",
   "execution_count": null,
   "id": "6a14bd45",
   "metadata": {},
   "outputs": [],
   "source": [
    "df.head()"
   ]
  },
  {
   "cell_type": "code",
   "execution_count": null,
   "id": "9a8ffa97",
   "metadata": {},
   "outputs": [],
   "source": [
    "df.shape #analisando linhas e colunas"
   ]
  },
  {
   "cell_type": "code",
   "execution_count": null,
   "id": "aada65e9",
   "metadata": {},
   "outputs": [],
   "source": [
    "df.tail() #analisando últimos dados da nossa base"
   ]
  },
  {
   "cell_type": "markdown",
   "id": "6addc225",
   "metadata": {},
   "source": [
    "### Visualizando os valores de fechamento da Amazon"
   ]
  },
  {
   "cell_type": "code",
   "execution_count": null,
   "id": "614079c6",
   "metadata": {},
   "outputs": [],
   "source": [
    "data = df['Date'].to_numpy()\n",
    "close = df['Close'].to_numpy()\n",
    "\n",
    "plt.figure(figsize = (15,10))\n",
    "plt.plot(data, close, label='Amazon')\n",
    "\n",
    "plt.legend(loc='best')\n",
    "plt.show()"
   ]
  },
  {
   "cell_type": "markdown",
   "id": "e9bb1901",
   "metadata": {},
   "source": [
    "### Média Móvel\n",
    "\n",
    "Um algoritmo clássico para este tipo de problema é o da Média Móvel. Ele consiste em utilizar a **média de N dias observados para prever o próximo dia**. Vamos utilizar esta técnica para um N de 10 e de 20 dias.\n"
   ]
  },
  {
   "cell_type": "code",
   "execution_count": null,
   "id": "fceb86c1",
   "metadata": {},
   "outputs": [],
   "source": [
    "#Filtrando os dados\n",
    "df = pd.DataFrame(df[['Close','Date']])\n",
    "df.set_index('Date', inplace=True)"
   ]
  },
  {
   "cell_type": "code",
   "execution_count": null,
   "id": "5e2f5e7b",
   "metadata": {},
   "outputs": [],
   "source": [
    "df.head()"
   ]
  },
  {
   "cell_type": "code",
   "execution_count": null,
   "id": "8635642c",
   "metadata": {},
   "outputs": [],
   "source": [
    "df['MA_window_10'] = df['Close'].rolling(10).mean().shift() #média móvel em 10 dias\n",
    "df['MA_window_20'] = df['Close'].rolling(20).mean().shift() #média móvel em 20 dias\n",
    "\n",
    "#Rolling para deslocamento.Este parâmetro especifica o número de observações usadas para calcular a estatística\n",
    "#shift é utilizado para deslocar o índice de DataFrame por um número especificado de períodos com uma freqüência de tempo opcional"
   ]
  },
  {
   "cell_type": "markdown",
   "id": "5f0ef26b",
   "metadata": {},
   "source": [
    "### Visualizando o resultado:"
   ]
  },
  {
   "cell_type": "code",
   "execution_count": null,
   "id": "8508c518",
   "metadata": {},
   "outputs": [],
   "source": [
    "plt.figure(figsize=(15,10))\n",
    "plt.grid(True)\n",
    "plt.plot(df['Close'], label='Close')\n",
    "plt.plot(df['MA_window_10'], label='MA window 10 days')\n",
    "plt.plot(df['MA_window_20'], label='MA window 20 days')\n",
    "plt.legend(loc=2)\n",
    "plt.show()"
   ]
  },
  {
   "cell_type": "markdown",
   "id": "9d942e39",
   "metadata": {},
   "source": [
    "### Visualizando os dados mais recentes: últimos 300 dias"
   ]
  },
  {
   "cell_type": "code",
   "execution_count": null,
   "id": "88d4f74f",
   "metadata": {},
   "outputs": [],
   "source": [
    "limit = 300\n",
    "\n",
    "plt.figure(figsize=(15,10))\n",
    "plt.grid(True)\n",
    "plt.plot(df['Close'][-limit:], label='Close')\n",
    "plt.plot(df['MA_window_10'][-limit:], label='MA window 10 days')\n",
    "plt.plot(df['MA_window_20'][-limit:], label='MA window 20 days')\n",
    "plt.legend(loc=2)\n",
    "plt.show()"
   ]
  },
  {
   "cell_type": "markdown",
   "id": "56c384ff",
   "metadata": {},
   "source": [
    "### Prevendo os \"N\" dias com base na média móvel aritmética"
   ]
  },
  {
   "cell_type": "code",
   "execution_count": null,
   "id": "dd51371c",
   "metadata": {},
   "outputs": [],
   "source": [
    "df['MA_window_10_forward_10'] = np.NaN #preechendo com NaN os valores da coluna de MA_window_10_forward_10"
   ]
  },
  {
   "cell_type": "code",
   "execution_count": null,
   "id": "5ef729b0",
   "metadata": {},
   "outputs": [],
   "source": [
    "def make_window(window_size, start_point):\n",
    "    return [start_point+x for x in range(window_size)]  #realizando a janela de tempo"
   ]
  },
  {
   "cell_type": "code",
   "execution_count": null,
   "id": "3a18352e",
   "metadata": {},
   "outputs": [],
   "source": [
    "window_size = 10\n",
    "forward_days = 10 \n",
    "for index in range(window_size, len(df), forward_days):\n",
    "    for i in range(0,forward_days):\n",
    "        if index+i >= len(df):\n",
    "            break\n",
    "        window_close = make_window(window_size-i, index+i-window_size)\n",
    "        #print(window_close)\n",
    "        window_MA = make_window(i, index)\n",
    "        #print(window_MA)\n",
    "        mean = pd.concat([ df['Close'].iloc[window_close], df['MA_window_10_forward_10'].iloc[window_MA] ]).mean(axis=0)\n",
    "        df.iat[index+i, df.columns.get_loc('MA_window_10_forward_10')] = mean"
   ]
  },
  {
   "cell_type": "markdown",
   "id": "98cca86f",
   "metadata": {},
   "source": [
    "Plotando os dados:"
   ]
  },
  {
   "cell_type": "code",
   "execution_count": null,
   "id": "3dcae694",
   "metadata": {},
   "outputs": [],
   "source": [
    "plt.figure(figsize = (15,10))\n",
    "\n",
    "size = len(df)-limit - (len(df)-limit)%forward_days\n",
    "\n",
    "for index in range(size, len(df), forward_days):\n",
    "    plt.plot(df['MA_window_10_forward_10'][index:index+forward_days], color='r')\n",
    "    \n",
    "plt.plot(df['Close'][-limit:], color='b', label='Close')\n",
    "#plt.legend(loc='best')\n",
    "plt.show()"
   ]
  },
  {
   "cell_type": "markdown",
   "id": "c45989ce",
   "metadata": {},
   "source": [
    "Note que cada reta vermelha no gráfico representa uma previsão de 10 dias, baseado nos 10 dias anteriores. Por isso elas são descontínuas.\n",
    "\n",
    "Este tipo de abordagem é muito simplista. Isto porque o verdadeiro objetivo é prever N dias a frente para ver qual será o comportamento da ação. E ambos algoritmos falham nessa função."
   ]
  },
  {
   "cell_type": "markdown",
   "id": "c4784ff1",
   "metadata": {},
   "source": [
    "### Aplicando o algoritmo LSTM para prever\n",
    "\n",
    "Vamos agora utilizar uma Rede LSTM para prever o comportamento da empresa."
   ]
  },
  {
   "cell_type": "code",
   "execution_count": null,
   "id": "eb132871",
   "metadata": {},
   "outputs": [],
   "source": [
    "df = pd.read_csv('AMZN.csv')\n",
    "df['Date'] = pd.to_datetime(df['Date']) #realizando a conversão da data para formato datetime\n",
    "df.set_index(df['Date'], inplace=True)\n",
    "df.drop(columns=['Open', 'High', 'Low', 'Volume'], inplace=True)\n",
    "\n",
    "df.head()"
   ]
  },
  {
   "cell_type": "code",
   "execution_count": null,
   "id": "fc1ed729",
   "metadata": {},
   "outputs": [],
   "source": [
    "close_data = df['Close'].values\n",
    "close_data = close_data.reshape(-1,1) #transformar em array\n",
    "close_data"
   ]
  },
  {
   "cell_type": "markdown",
   "id": "f9564d33",
   "metadata": {},
   "source": [
    "### Normalizando os dados"
   ]
  },
  {
   "cell_type": "code",
   "execution_count": null,
   "id": "ddf9a62d",
   "metadata": {},
   "outputs": [],
   "source": [
    "scaler = MinMaxScaler(feature_range=(0, 1))\n",
    "scaler = scaler.fit(close_data)\n",
    "close_data = scaler.transform(close_data)\n",
    "\n",
    "close_data"
   ]
  },
  {
   "cell_type": "markdown",
   "id": "bb34255e",
   "metadata": {},
   "source": [
    "### Separação da base de treino e teste:"
   ]
  },
  {
   "cell_type": "code",
   "execution_count": null,
   "id": "58ed5167",
   "metadata": {},
   "outputs": [],
   "source": [
    "#close_data = df['Close'].values\n",
    "#close_data = close_data.reshape((-1,1))\n",
    "\n",
    "split_percent = 0.80\n",
    "split = int(split_percent*len(close_data))\n",
    "\n",
    "close_train = close_data[:split]\n",
    "close_test = close_data[split:]\n",
    "\n",
    "date_train = df['Date'][:split]\n",
    "date_test = df['Date'][split:]\n",
    "\n",
    "print(len(close_train))\n",
    "print(len(close_test))"
   ]
  },
  {
   "cell_type": "code",
   "execution_count": null,
   "id": "e91ca69e",
   "metadata": {},
   "outputs": [],
   "source": [
    "look_back = 10\n",
    "\n",
    "train_generator = TimeseriesGenerator(close_train, close_train, length=look_back, batch_size=20)     \n",
    "test_generator = TimeseriesGenerator(close_test, close_test, length=look_back, batch_size=1)"
   ]
  },
  {
   "cell_type": "code",
   "execution_count": null,
   "id": "9558935c",
   "metadata": {
    "scrolled": false
   },
   "outputs": [],
   "source": [
    "np.random.seed(7)\n",
    "\n",
    "model = Sequential()\n",
    "model.add(LSTM(80, activation='relu', input_shape=(look_back,1)))\n",
    "model.add(Dense(1))\n",
    "model.compile(optimizer='adam', loss='mse')\n",
    "\n",
    "num_epochs = 50\n",
    "model.fit(train_generator, epochs=num_epochs, verbose=1)"
   ]
  },
  {
   "cell_type": "code",
   "execution_count": null,
   "id": "255de682",
   "metadata": {
    "scrolled": false
   },
   "outputs": [],
   "source": [
    "prediction = model.predict(test_generator)\n",
    "\n",
    "close_train = close_train.reshape((-1))\n",
    "close_test = close_test.reshape((-1))\n",
    "prediction = prediction.reshape((-1))\n",
    "\n",
    "trace1 = go.Scatter(\n",
    "    x = date_train,\n",
    "    y = close_train,\n",
    "    mode = 'lines',\n",
    "    name = 'Data'\n",
    ")\n",
    "trace2 = go.Scatter(\n",
    "    x = date_test,\n",
    "    y = prediction,\n",
    "    mode = 'lines',\n",
    "    name = 'Prediction'\n",
    ")\n",
    "trace3 = go.Scatter(\n",
    "    x = date_test,\n",
    "    y = close_test,\n",
    "    mode='lines',\n",
    "    name = 'Ground Truth'\n",
    ")\n",
    "layout = go.Layout(\n",
    "    title = \"Predições da Amazon\",\n",
    "    xaxis = {'title' : \"Data\"},\n",
    "    yaxis = {'title' : \"Fechamento\"}\n",
    ")\n",
    "fig = go.Figure(data=[trace1, trace2, trace3], layout=layout)\n",
    "fig.show()"
   ]
  },
  {
   "cell_type": "markdown",
   "id": "9ab2edc2",
   "metadata": {},
   "source": [
    "Aplicando a predição nos próximos 15 dias"
   ]
  },
  {
   "cell_type": "code",
   "execution_count": null,
   "id": "f00dd148",
   "metadata": {},
   "outputs": [],
   "source": [
    "close_data = close_data.reshape((-1))\n",
    "\n",
    "def predict(num_prediction, model):\n",
    "    prediction_list = close_data[-look_back:]\n",
    "    \n",
    "    for _ in range(num_prediction):\n",
    "        x = prediction_list[-look_back:]\n",
    "        x = x.reshape((1, look_back, 1))\n",
    "        out = model.predict(x)[0][0]\n",
    "        prediction_list = np.append(prediction_list, out)\n",
    "    prediction_list = prediction_list[look_back-1:]\n",
    "        \n",
    "    return prediction_list\n",
    "    \n",
    "def predict_dates(num_prediction):\n",
    "    last_date = df['Date'].values[-1]\n",
    "    prediction_dates = pd.date_range(last_date, periods=num_prediction+1).tolist()\n",
    "    return prediction_dates\n",
    "\n",
    "num_prediction = 15 #definição dos próximos dias\n",
    "forecast = predict(num_prediction, model) #resultado de novos dias\n",
    "forecast_dates = predict_dates(num_prediction)"
   ]
  },
  {
   "cell_type": "code",
   "execution_count": null,
   "id": "1d299597",
   "metadata": {},
   "outputs": [],
   "source": [
    "trace1 = go.Scatter(\n",
    "    x = date_test,\n",
    "    y = close_test,\n",
    "    mode = 'lines',\n",
    "    name = 'Data'\n",
    ")\n",
    "trace2 = go.Scatter(\n",
    "    x = forecast_dates,\n",
    "    y = forecast,\n",
    "    mode = 'lines',\n",
    "    name = 'Prediction'\n",
    ")\n",
    "layout = go.Layout(\n",
    "    title = \"Forecast Amazon\",\n",
    "    xaxis = {'title' : \"Data\"},\n",
    "    yaxis = {'title' : \"Fechamento\"}\n",
    ")\n",
    "fig = go.Figure(data=[trace1, trace2], layout=layout)\n",
    "fig.show()"
   ]
  },
  {
   "cell_type": "code",
   "execution_count": null,
   "id": "6f655774",
   "metadata": {},
   "outputs": [],
   "source": [
    "df = pd.DataFrame(df)\n",
    "df_past = df[['Close']].reset_index()                                      #resetando a data como indice\n",
    "df_past.rename(columns={'index': 'Date', 'Close': 'Actual'}, inplace=True) #criando nome das colunas\n",
    "df_past['Date'] = pd.to_datetime(df_past['Date'])                          #configurando para datatime\n",
    "df_past['Forecast'] = np.nan                                               #Preenchendo com NAs\n",
    "df_past['Forecast'].iloc[-1] = df_past['Actual'].iloc[-1]   \n",
    "df_past.head(3)"
   ]
  },
  {
   "cell_type": "code",
   "execution_count": null,
   "id": "270d17f1",
   "metadata": {},
   "outputs": [],
   "source": [
    "df_past.tail()"
   ]
  },
  {
   "cell_type": "code",
   "execution_count": null,
   "id": "26f4ca31",
   "metadata": {},
   "outputs": [],
   "source": [
    "# Faz a transformação inversa das predições\n",
    "forecast = forecast.reshape(-1, 1) #reshape para array\n",
    "forecast = scaler.inverse_transform(forecast)"
   ]
  },
  {
   "cell_type": "code",
   "execution_count": null,
   "id": "d148bbf4",
   "metadata": {},
   "outputs": [],
   "source": [
    "df_future = pd.DataFrame(columns=['Date', 'Actual', 'Forecast'])\n",
    "df_future['Date'] = forecast_dates\n",
    "df_future['Forecast'] = forecast.flatten()\n",
    "df_future['Actual'] = np.nan\n",
    "df_future.head()"
   ]
  },
  {
   "cell_type": "code",
   "execution_count": null,
   "id": "e37c77a0",
   "metadata": {},
   "outputs": [],
   "source": [
    "df_future.tail()"
   ]
  },
  {
   "cell_type": "code",
   "execution_count": null,
   "id": "e6d5a7e6",
   "metadata": {},
   "outputs": [],
   "source": [
    "#results = df_past.append(df_future).set_index('Date')\n",
    "results = pd.concat([df_past, df_future]).set_index('Date')\n",
    "results.head()\n",
    "#results.plot(title='Amazon Forecast')"
   ]
  },
  {
   "cell_type": "code",
   "execution_count": null,
   "id": "5cab8a93",
   "metadata": {},
   "outputs": [],
   "source": [
    "results.tail()"
   ]
  },
  {
   "cell_type": "code",
   "execution_count": null,
   "id": "504d8078",
   "metadata": {},
   "outputs": [],
   "source": [
    "results.plot(title='Amazon Forecast')"
   ]
  },
  {
   "cell_type": "code",
   "execution_count": null,
   "id": "9b3901ee",
   "metadata": {},
   "outputs": [],
   "source": [
    "results2018 =  results.loc['2018-01-01':]"
   ]
  },
  {
   "cell_type": "code",
   "execution_count": null,
   "id": "98bb380b",
   "metadata": {},
   "outputs": [],
   "source": [
    "plot_data = [\n",
    "    go.Scatter(\n",
    "        x=results2018.index,\n",
    "        y=results2018['Actual'],\n",
    "        name='actual'\n",
    "    ),\n",
    "    go.Scatter(\n",
    "        x=results2018.index,\n",
    "        y=results2018['Forecast'],\n",
    "        name='prediction'\n",
    "    )\n",
    "]\n",
    "\n",
    "plot_layout = go.Layout(\n",
    "        title='Forecast Amazon'\n",
    "    )\n",
    "fig = go.Figure(data=plot_data, layout=plot_layout)\n",
    "\n",
    "fig.show()\n",
    "\n",
    "import plotly as ply\n",
    "ply.offline.plot(fig)"
   ]
  }
 ],
 "metadata": {
  "kernelspec": {
   "display_name": "Python 3 (ipykernel)",
   "language": "python",
   "name": "python3"
  },
  "language_info": {
   "codemirror_mode": {
    "name": "ipython",
    "version": 3
   },
   "file_extension": ".py",
   "mimetype": "text/x-python",
   "name": "python",
   "nbconvert_exporter": "python",
   "pygments_lexer": "ipython3",
   "version": "3.9.12"
  }
 },
 "nbformat": 4,
 "nbformat_minor": 5
}
