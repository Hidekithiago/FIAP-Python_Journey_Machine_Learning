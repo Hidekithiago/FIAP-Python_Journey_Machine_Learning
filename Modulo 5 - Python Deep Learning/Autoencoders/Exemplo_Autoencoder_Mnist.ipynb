{
 "cells": [
  {
   "cell_type": "markdown",
   "metadata": {},
   "source": [
    "## Aplicando autoencoder no Mnist dataset"
   ]
  },
  {
   "cell_type": "code",
   "execution_count": 1,
   "metadata": {
    "id": "0YrL80Moetvv"
   },
   "outputs": [],
   "source": [
    "from keras.datasets import mnist\n",
    "from keras.layers import Input, Dense\n",
    "from keras.layers import Input, LeakyReLU\n",
    "from keras.models import Model\n",
    "import numpy as np\n",
    "import matplotlib.pyplot as plt"
   ]
  },
  {
   "cell_type": "markdown",
   "metadata": {},
   "source": [
    "## Carregando a base de dados"
   ]
  },
  {
   "cell_type": "code",
   "execution_count": 2,
   "metadata": {
    "colab": {
     "base_uri": "https://localhost:8080/"
    },
    "id": "WP9tiRGajCPJ",
    "outputId": "cf254b4e-781e-4b83-99ed-d98ee6c8933f"
   },
   "outputs": [],
   "source": [
    "(X_train, _), (X_test, _) = mnist.load_data()"
   ]
  },
  {
   "cell_type": "code",
   "execution_count": 3,
   "metadata": {},
   "outputs": [
    {
     "data": {
      "text/plain": [
       "array([[[0, 0, 0, ..., 0, 0, 0],\n",
       "        [0, 0, 0, ..., 0, 0, 0],\n",
       "        [0, 0, 0, ..., 0, 0, 0],\n",
       "        ...,\n",
       "        [0, 0, 0, ..., 0, 0, 0],\n",
       "        [0, 0, 0, ..., 0, 0, 0],\n",
       "        [0, 0, 0, ..., 0, 0, 0]],\n",
       "\n",
       "       [[0, 0, 0, ..., 0, 0, 0],\n",
       "        [0, 0, 0, ..., 0, 0, 0],\n",
       "        [0, 0, 0, ..., 0, 0, 0],\n",
       "        ...,\n",
       "        [0, 0, 0, ..., 0, 0, 0],\n",
       "        [0, 0, 0, ..., 0, 0, 0],\n",
       "        [0, 0, 0, ..., 0, 0, 0]],\n",
       "\n",
       "       [[0, 0, 0, ..., 0, 0, 0],\n",
       "        [0, 0, 0, ..., 0, 0, 0],\n",
       "        [0, 0, 0, ..., 0, 0, 0],\n",
       "        ...,\n",
       "        [0, 0, 0, ..., 0, 0, 0],\n",
       "        [0, 0, 0, ..., 0, 0, 0],\n",
       "        [0, 0, 0, ..., 0, 0, 0]],\n",
       "\n",
       "       ...,\n",
       "\n",
       "       [[0, 0, 0, ..., 0, 0, 0],\n",
       "        [0, 0, 0, ..., 0, 0, 0],\n",
       "        [0, 0, 0, ..., 0, 0, 0],\n",
       "        ...,\n",
       "        [0, 0, 0, ..., 0, 0, 0],\n",
       "        [0, 0, 0, ..., 0, 0, 0],\n",
       "        [0, 0, 0, ..., 0, 0, 0]],\n",
       "\n",
       "       [[0, 0, 0, ..., 0, 0, 0],\n",
       "        [0, 0, 0, ..., 0, 0, 0],\n",
       "        [0, 0, 0, ..., 0, 0, 0],\n",
       "        ...,\n",
       "        [0, 0, 0, ..., 0, 0, 0],\n",
       "        [0, 0, 0, ..., 0, 0, 0],\n",
       "        [0, 0, 0, ..., 0, 0, 0]],\n",
       "\n",
       "       [[0, 0, 0, ..., 0, 0, 0],\n",
       "        [0, 0, 0, ..., 0, 0, 0],\n",
       "        [0, 0, 0, ..., 0, 0, 0],\n",
       "        ...,\n",
       "        [0, 0, 0, ..., 0, 0, 0],\n",
       "        [0, 0, 0, ..., 0, 0, 0],\n",
       "        [0, 0, 0, ..., 0, 0, 0]]], dtype=uint8)"
      ]
     },
     "execution_count": 3,
     "metadata": {},
     "output_type": "execute_result"
    }
   ],
   "source": [
    "X_train"
   ]
  },
  {
   "cell_type": "code",
   "execution_count": 4,
   "metadata": {},
   "outputs": [
    {
     "data": {
      "text/plain": [
       "60000"
      ]
     },
     "execution_count": 4,
     "metadata": {},
     "output_type": "execute_result"
    }
   ],
   "source": [
    "len(X_train)"
   ]
  },
  {
   "cell_type": "code",
   "execution_count": 5,
   "metadata": {},
   "outputs": [
    {
     "data": {
      "text/plain": [
       "10000"
      ]
     },
     "execution_count": 5,
     "metadata": {},
     "output_type": "execute_result"
    }
   ],
   "source": [
    "len(X_test)"
   ]
  },
  {
   "cell_type": "markdown",
   "metadata": {},
   "source": [
    "###  Normalização dos dados"
   ]
  },
  {
   "cell_type": "code",
   "execution_count": 6,
   "metadata": {
    "id": "Q2bQ603YjDsi"
   },
   "outputs": [],
   "source": [
    "X_train = X_train.astype('float32')/255\n",
    "X_test = X_test.astype('float32')/255"
   ]
  },
  {
   "cell_type": "code",
   "execution_count": 7,
   "metadata": {
    "colab": {
     "base_uri": "https://localhost:8080/"
    },
    "id": "QRojkmUuNFvm",
    "outputId": "393c3b61-d353-4b2c-8834-38e7c4adfff7"
   },
   "outputs": [
    {
     "data": {
      "text/plain": [
       "((60000, 28, 28), (10000, 28, 28))"
      ]
     },
     "execution_count": 7,
     "metadata": {},
     "output_type": "execute_result"
    }
   ],
   "source": [
    "X_train.shape, X_test.shape"
   ]
  },
  {
   "cell_type": "code",
   "execution_count": 8,
   "metadata": {
    "colab": {
     "base_uri": "https://localhost:8080/"
    },
    "id": "JkAT_B0VjGDR",
    "outputId": "48c83e80-3376-445b-e325-0ac34f262b75"
   },
   "outputs": [
    {
     "name": "stdout",
     "output_type": "stream",
     "text": [
      "(60000, 784)\n",
      "(10000, 784)\n"
     ]
    }
   ],
   "source": [
    "X_train = X_train.reshape(len(X_train), np.prod(X_train.shape[1:]))\n",
    "X_test = X_test.reshape(len(X_test), np.prod(X_test.shape[1:]))\n",
    "\n",
    "print(X_train.shape)\n",
    "print(X_test.shape)"
   ]
  },
  {
   "cell_type": "markdown",
   "metadata": {},
   "source": [
    "### Construção do modelo Autoencoder"
   ]
  },
  {
   "cell_type": "code",
   "execution_count": 9,
   "metadata": {
    "id": "0LR-lPTFjGiT"
   },
   "outputs": [],
   "source": [
    "input_img= Input(shape=(784,)) ##Total de variáveis (pixels)\n",
    "\n",
    "# Etapa Codificador (Encoder)\n",
    "encoded = Dense(units=32, activation='relu')(input_img)   #camada com 32 neurônios ocultos + funçaõ de ativação relu \n",
    "\n",
    "# Etapa Decodificador (Decoder)\n",
    "decoded = Dense(units=784, activation='sigmoid')(encoded) #camada com 784 neurônios ocultos + funçaõ de ativação sigmoid "
   ]
  },
  {
   "cell_type": "code",
   "execution_count": 10,
   "metadata": {
    "colab": {
     "base_uri": "https://localhost:8080/"
    },
    "id": "mJlI_Dr8kG7u",
    "outputId": "dbfcc509-e225-4167-ebe2-ed1814319958"
   },
   "outputs": [
    {
     "name": "stdout",
     "output_type": "stream",
     "text": [
      "Model: \"model\"\n",
      "_________________________________________________________________\n",
      " Layer (type)                Output Shape              Param #   \n",
      "=================================================================\n",
      " input_1 (InputLayer)        [(None, 784)]             0         \n",
      "                                                                 \n",
      " dense (Dense)               (None, 32)                25120     \n",
      "                                                                 \n",
      "=================================================================\n",
      "Total params: 25,120\n",
      "Trainable params: 25,120\n",
      "Non-trainable params: 0\n",
      "_________________________________________________________________\n"
     ]
    }
   ],
   "source": [
    "#Etapa de encoder (Comprimir dados)\n",
    "encoder = Model(input_img, encoded)\n",
    "encoder.summary()\n"
   ]
  },
  {
   "cell_type": "code",
   "execution_count": 11,
   "metadata": {
    "colab": {
     "base_uri": "https://localhost:8080/"
    },
    "id": "pvlq1MxvjIhV",
    "outputId": "e7eb4c54-e34e-4188-8ab4-8671806b9823"
   },
   "outputs": [
    {
     "name": "stdout",
     "output_type": "stream",
     "text": [
      "Model: \"model_1\"\n",
      "_________________________________________________________________\n",
      " Layer (type)                Output Shape              Param #   \n",
      "=================================================================\n",
      " input_1 (InputLayer)        [(None, 784)]             0         \n",
      "                                                                 \n",
      " dense (Dense)               (None, 32)                25120     \n",
      "                                                                 \n",
      " dense_1 (Dense)             (None, 784)               25872     \n",
      "                                                                 \n",
      "=================================================================\n",
      "Total params: 50,992\n",
      "Trainable params: 50,992\n",
      "Non-trainable params: 0\n",
      "_________________________________________________________________\n"
     ]
    }
   ],
   "source": [
    "#Etapa de autoencoder (Reconstrução da imagem)\n",
    "autoencoder=Model(input_img, decoded)\n",
    "autoencoder.summary()"
   ]
  },
  {
   "cell_type": "code",
   "execution_count": 12,
   "metadata": {
    "id": "LFfUqCczjKxa"
   },
   "outputs": [],
   "source": [
    "autoencoder.compile(optimizer='adam', loss='binary_crossentropy') #compilando o modelo"
   ]
  },
  {
   "cell_type": "code",
   "execution_count": 13,
   "metadata": {
    "colab": {
     "base_uri": "https://localhost:8080/"
    },
    "id": "gd_KtBTujOeR",
    "outputId": "a24eee80-d1cf-4d27-e3e5-e4251de41cd7"
   },
   "outputs": [
    {
     "name": "stdout",
     "output_type": "stream",
     "text": [
      "Epoch 1/80\n",
      "235/235 [==============================] - 3s 9ms/step - loss: 0.2741 - val_loss: 0.1876\n",
      "Epoch 2/80\n",
      "235/235 [==============================] - 2s 8ms/step - loss: 0.1692 - val_loss: 0.1525\n",
      "Epoch 3/80\n",
      "235/235 [==============================] - 2s 8ms/step - loss: 0.1439 - val_loss: 0.1341\n",
      "Epoch 4/80\n",
      "235/235 [==============================] - 2s 8ms/step - loss: 0.1292 - val_loss: 0.1224\n",
      "Epoch 5/80\n",
      "235/235 [==============================] - 2s 9ms/step - loss: 0.1195 - val_loss: 0.1145\n",
      "Epoch 6/80\n",
      "235/235 [==============================] - 2s 8ms/step - loss: 0.1128 - val_loss: 0.1088\n",
      "Epoch 7/80\n",
      "235/235 [==============================] - 2s 9ms/step - loss: 0.1076 - val_loss: 0.1043\n",
      "Epoch 8/80\n",
      "235/235 [==============================] - 2s 8ms/step - loss: 0.1036 - val_loss: 0.1008\n",
      "Epoch 9/80\n",
      "235/235 [==============================] - 2s 8ms/step - loss: 0.1006 - val_loss: 0.0981\n",
      "Epoch 10/80\n",
      "235/235 [==============================] - 2s 9ms/step - loss: 0.0984 - val_loss: 0.0963\n",
      "Epoch 11/80\n",
      "235/235 [==============================] - 2s 9ms/step - loss: 0.0969 - val_loss: 0.0950\n",
      "Epoch 12/80\n",
      "235/235 [==============================] - 2s 9ms/step - loss: 0.0958 - val_loss: 0.0942\n",
      "Epoch 13/80\n",
      "235/235 [==============================] - 2s 9ms/step - loss: 0.0951 - val_loss: 0.0936\n",
      "Epoch 14/80\n",
      "235/235 [==============================] - 2s 9ms/step - loss: 0.0946 - val_loss: 0.0932\n",
      "Epoch 15/80\n",
      "235/235 [==============================] - 2s 8ms/step - loss: 0.0943 - val_loss: 0.0928\n",
      "Epoch 16/80\n",
      "235/235 [==============================] - 2s 8ms/step - loss: 0.0940 - val_loss: 0.0927\n",
      "Epoch 17/80\n",
      "235/235 [==============================] - 2s 8ms/step - loss: 0.0938 - val_loss: 0.0925\n",
      "Epoch 18/80\n",
      "235/235 [==============================] - 2s 9ms/step - loss: 0.0936 - val_loss: 0.0923\n",
      "Epoch 19/80\n",
      "235/235 [==============================] - 2s 9ms/step - loss: 0.0935 - val_loss: 0.0922\n",
      "Epoch 20/80\n",
      "235/235 [==============================] - 2s 9ms/step - loss: 0.0934 - val_loss: 0.0920\n",
      "Epoch 21/80\n",
      "235/235 [==============================] - 2s 9ms/step - loss: 0.0933 - val_loss: 0.0920\n",
      "Epoch 22/80\n",
      "235/235 [==============================] - 2s 8ms/step - loss: 0.0932 - val_loss: 0.0919\n",
      "Epoch 23/80\n",
      "235/235 [==============================] - 2s 10ms/step - loss: 0.0931 - val_loss: 0.0919\n",
      "Epoch 24/80\n",
      "235/235 [==============================] - 2s 9ms/step - loss: 0.0931 - val_loss: 0.0919\n",
      "Epoch 25/80\n",
      "235/235 [==============================] - 2s 8ms/step - loss: 0.0930 - val_loss: 0.0918\n",
      "Epoch 26/80\n",
      "235/235 [==============================] - 2s 8ms/step - loss: 0.0930 - val_loss: 0.0917\n",
      "Epoch 27/80\n",
      "235/235 [==============================] - 2s 8ms/step - loss: 0.0929 - val_loss: 0.0917\n",
      "Epoch 28/80\n",
      "235/235 [==============================] - 2s 9ms/step - loss: 0.0929 - val_loss: 0.0918\n",
      "Epoch 29/80\n",
      "235/235 [==============================] - 2s 8ms/step - loss: 0.0929 - val_loss: 0.0916\n",
      "Epoch 30/80\n",
      "235/235 [==============================] - 2s 8ms/step - loss: 0.0928 - val_loss: 0.0916\n",
      "Epoch 31/80\n",
      "235/235 [==============================] - 2s 8ms/step - loss: 0.0928 - val_loss: 0.0916\n",
      "Epoch 32/80\n",
      "235/235 [==============================] - 2s 9ms/step - loss: 0.0928 - val_loss: 0.0916\n",
      "Epoch 33/80\n",
      "235/235 [==============================] - 2s 9ms/step - loss: 0.0928 - val_loss: 0.0916\n",
      "Epoch 34/80\n",
      "235/235 [==============================] - 3s 11ms/step - loss: 0.0927 - val_loss: 0.0915\n",
      "Epoch 35/80\n",
      "235/235 [==============================] - 2s 9ms/step - loss: 0.0927 - val_loss: 0.0915\n",
      "Epoch 36/80\n",
      "235/235 [==============================] - 2s 9ms/step - loss: 0.0927 - val_loss: 0.0915\n",
      "Epoch 37/80\n",
      "235/235 [==============================] - 2s 9ms/step - loss: 0.0927 - val_loss: 0.0915\n",
      "Epoch 38/80\n",
      "235/235 [==============================] - 2s 9ms/step - loss: 0.0927 - val_loss: 0.0915\n",
      "Epoch 39/80\n",
      "235/235 [==============================] - 2s 8ms/step - loss: 0.0927 - val_loss: 0.0915\n",
      "Epoch 40/80\n",
      "235/235 [==============================] - 2s 8ms/step - loss: 0.0926 - val_loss: 0.0915\n",
      "Epoch 41/80\n",
      "235/235 [==============================] - 2s 9ms/step - loss: 0.0926 - val_loss: 0.0915\n",
      "Epoch 42/80\n",
      "235/235 [==============================] - 2s 9ms/step - loss: 0.0926 - val_loss: 0.0915\n",
      "Epoch 43/80\n",
      "235/235 [==============================] - 2s 9ms/step - loss: 0.0926 - val_loss: 0.0916\n",
      "Epoch 44/80\n",
      "235/235 [==============================] - 2s 9ms/step - loss: 0.0926 - val_loss: 0.0915\n",
      "Epoch 45/80\n",
      "235/235 [==============================] - 2s 8ms/step - loss: 0.0926 - val_loss: 0.0915\n",
      "Epoch 46/80\n",
      "235/235 [==============================] - 2s 9ms/step - loss: 0.0926 - val_loss: 0.0915\n",
      "Epoch 47/80\n",
      "235/235 [==============================] - 2s 9ms/step - loss: 0.0926 - val_loss: 0.0914\n",
      "Epoch 48/80\n",
      "235/235 [==============================] - 2s 10ms/step - loss: 0.0926 - val_loss: 0.0914\n",
      "Epoch 49/80\n",
      "235/235 [==============================] - 2s 9ms/step - loss: 0.0925 - val_loss: 0.0915\n",
      "Epoch 50/80\n",
      "235/235 [==============================] - 2s 9ms/step - loss: 0.0925 - val_loss: 0.0914\n",
      "Epoch 51/80\n",
      "235/235 [==============================] - 2s 9ms/step - loss: 0.0925 - val_loss: 0.0914\n",
      "Epoch 52/80\n",
      "235/235 [==============================] - 2s 9ms/step - loss: 0.0925 - val_loss: 0.0915\n",
      "Epoch 53/80\n",
      "235/235 [==============================] - 2s 10ms/step - loss: 0.0925 - val_loss: 0.0915\n",
      "Epoch 54/80\n",
      "235/235 [==============================] - 2s 10ms/step - loss: 0.0925 - val_loss: 0.0914\n",
      "Epoch 55/80\n",
      "235/235 [==============================] - 2s 10ms/step - loss: 0.0925 - val_loss: 0.0915\n",
      "Epoch 56/80\n",
      "235/235 [==============================] - 2s 9ms/step - loss: 0.0925 - val_loss: 0.0914\n",
      "Epoch 57/80\n",
      "235/235 [==============================] - 2s 8ms/step - loss: 0.0925 - val_loss: 0.0914\n",
      "Epoch 58/80\n",
      "235/235 [==============================] - 2s 8ms/step - loss: 0.0925 - val_loss: 0.0914\n",
      "Epoch 59/80\n",
      "235/235 [==============================] - 2s 8ms/step - loss: 0.0925 - val_loss: 0.0914\n",
      "Epoch 60/80\n",
      "235/235 [==============================] - 2s 8ms/step - loss: 0.0925 - val_loss: 0.0914\n",
      "Epoch 61/80\n",
      "235/235 [==============================] - 2s 8ms/step - loss: 0.0925 - val_loss: 0.0914\n",
      "Epoch 62/80\n",
      "235/235 [==============================] - 2s 9ms/step - loss: 0.0925 - val_loss: 0.0914\n",
      "Epoch 63/80\n",
      "235/235 [==============================] - 2s 8ms/step - loss: 0.0924 - val_loss: 0.0913\n",
      "Epoch 64/80\n",
      "235/235 [==============================] - 2s 8ms/step - loss: 0.0925 - val_loss: 0.0914\n",
      "Epoch 65/80\n",
      "235/235 [==============================] - 2s 8ms/step - loss: 0.0924 - val_loss: 0.0913\n",
      "Epoch 66/80\n",
      "235/235 [==============================] - 2s 8ms/step - loss: 0.0924 - val_loss: 0.0913\n",
      "Epoch 67/80\n",
      "235/235 [==============================] - 2s 9ms/step - loss: 0.0924 - val_loss: 0.0914\n",
      "Epoch 68/80\n",
      "235/235 [==============================] - 2s 8ms/step - loss: 0.0924 - val_loss: 0.0913\n",
      "Epoch 69/80\n",
      "235/235 [==============================] - 2s 9ms/step - loss: 0.0924 - val_loss: 0.0914\n",
      "Epoch 70/80\n",
      "235/235 [==============================] - 2s 10ms/step - loss: 0.0924 - val_loss: 0.0913\n",
      "Epoch 71/80\n",
      "235/235 [==============================] - 2s 8ms/step - loss: 0.0924 - val_loss: 0.0914\n",
      "Epoch 72/80\n",
      "235/235 [==============================] - 2s 8ms/step - loss: 0.0924 - val_loss: 0.0913\n",
      "Epoch 73/80\n",
      "235/235 [==============================] - 2s 8ms/step - loss: 0.0924 - val_loss: 0.0913\n",
      "Epoch 74/80\n",
      "235/235 [==============================] - 2s 8ms/step - loss: 0.0924 - val_loss: 0.0914\n",
      "Epoch 75/80\n",
      "235/235 [==============================] - 2s 9ms/step - loss: 0.0924 - val_loss: 0.0913\n",
      "Epoch 76/80\n",
      "235/235 [==============================] - 2s 8ms/step - loss: 0.0924 - val_loss: 0.0913\n",
      "Epoch 77/80\n",
      "235/235 [==============================] - 2s 8ms/step - loss: 0.0924 - val_loss: 0.0913\n",
      "Epoch 78/80\n",
      "235/235 [==============================] - 2s 8ms/step - loss: 0.0924 - val_loss: 0.0913\n",
      "Epoch 79/80\n",
      "235/235 [==============================] - 2s 8ms/step - loss: 0.0924 - val_loss: 0.0913\n",
      "Epoch 80/80\n",
      "235/235 [==============================] - 2s 8ms/step - loss: 0.0924 - val_loss: 0.0914\n"
     ]
    },
    {
     "data": {
      "text/plain": [
       "<keras.callbacks.History at 0x1988f66fe20>"
      ]
     },
     "execution_count": 13,
     "metadata": {},
     "output_type": "execute_result"
    }
   ],
   "source": [
    "autoencoder.fit(X_train, X_train,\n",
    "                epochs=80,\n",
    "                batch_size=256,\n",
    "                shuffle=True,\n",
    "                validation_data=(X_test, X_test))"
   ]
  },
  {
   "cell_type": "code",
   "execution_count": 14,
   "metadata": {
    "id": "AXGRXCGpjRyZ"
   },
   "outputs": [
    {
     "name": "stdout",
     "output_type": "stream",
     "text": [
      "313/313 [==============================] - 1s 1ms/step\n",
      "313/313 [==============================] - 1s 1ms/step\n"
     ]
    }
   ],
   "source": [
    "encoded_imgs = encoder.predict(X_test)\n",
    "predicted = autoencoder.predict(X_test)"
   ]
  },
  {
   "cell_type": "code",
   "execution_count": 15,
   "metadata": {
    "colab": {
     "base_uri": "https://localhost:8080/"
    },
    "id": "WtMOZNFD7_BX",
    "outputId": "ed63780a-8a6f-45fa-fd89-e733fcdebd61",
    "scrolled": true
   },
   "outputs": [
    {
     "data": {
      "text/plain": [
       "(10000, 32)"
      ]
     },
     "execution_count": 15,
     "metadata": {},
     "output_type": "execute_result"
    }
   ],
   "source": [
    "encoded_imgs.shape"
   ]
  },
  {
   "cell_type": "code",
   "execution_count": 16,
   "metadata": {
    "colab": {
     "base_uri": "https://localhost:8080/"
    },
    "id": "JIQDLRZ97_qU",
    "outputId": "0ccf09a9-7085-4241-d2cb-d4fa58ec1b98"
   },
   "outputs": [
    {
     "data": {
      "text/plain": [
       "(10000, 784)"
      ]
     },
     "execution_count": 16,
     "metadata": {},
     "output_type": "execute_result"
    }
   ],
   "source": [
    "predicted.shape"
   ]
  },
  {
   "cell_type": "code",
   "execution_count": 17,
   "metadata": {
    "colab": {
     "base_uri": "https://localhost:8080/",
     "height": 252
    },
    "id": "OHi_IzdtjT7_",
    "outputId": "f4a201ad-3001-4dba-be17-d975a621d025",
    "scrolled": true
   },
   "outputs": [
    {
     "data": {
      "image/png": "[encoded data removed]",
      "text/plain": [
       "<Figure size 2880x288 with 30 Axes>"
      ]
     },
     "metadata": {
      "needs_background": "light"
     },
     "output_type": "display_data"
    }
   ],
   "source": [
    "plt.figure(figsize=(40, 4))\n",
    "for i in range(10):\n",
    "    # display original\n",
    "    ax = plt.subplot(3, 20, i + 1)\n",
    "    plt.imshow(X_test[i].reshape(28, 28))\n",
    "    plt.gray()\n",
    "    ax.get_xaxis().set_visible(False)\n",
    "    ax.get_yaxis().set_visible(False)\n",
    "    \n",
    "    # display encoded image\n",
    "    ax = plt.subplot(3, 20, i + 1 + 20)\n",
    "    plt.imshow(encoded_imgs[i].reshape(8,4))\n",
    "    plt.gray()\n",
    "    ax.get_xaxis().set_visible(False)\n",
    "    ax.get_yaxis().set_visible(False)\n",
    "    \n",
    "    # display reconstruction\n",
    "    ax = plt.subplot(3, 20, 2*20 +i+ 1)\n",
    "    plt.imshow(predicted[i].reshape(28, 28))\n",
    "    plt.gray()\n",
    "    ax.get_xaxis().set_visible(False)\n",
    "    ax.get_yaxis().set_visible(False)\n",
    "    \n",
    "    \n",
    "    \n",
    "plt.show()"
   ]
  },
  {
   "cell_type": "markdown",
   "metadata": {},
   "source": [
    "### Aplicando o autoenconder em conjunto com a rede convolucional"
   ]
  },
  {
   "cell_type": "markdown",
   "metadata": {},
   "source": [
    "Como nossas entradas são imagens, faz sentido usar redes neurais convolucionais (convnets) como codificadores e decodificadores. Em configurações práticas, os autoencoders aplicados a imagens são sempre autoencoders convolucionais -- eles simplesmente têm um desempenho muito melhor.\n",
    "\n",
    "Vamos implementar um. O codificador consistirá em uma pilha de camadas Conv2D e MaxPooling2D (agrupamento máximo sendo usado para amostragem espacial descendente), enquanto o decodificador consistirá em uma pilha de camadas Conv2D e UpSampling2D.\n",
    "\n",
    "UpSampling2D é apenas um simples aumento de escala da imagem usando o vizinho mais próximo ou aumento bilinear."
   ]
  },
  {
   "cell_type": "code",
   "execution_count": 18,
   "metadata": {},
   "outputs": [],
   "source": [
    "import keras\n",
    "from keras import layers\n",
    "from keras.datasets import mnist\n",
    "import numpy as np\n",
    "\n",
    "input_img = keras.Input(shape=(28, 28, 1))\n",
    "\n",
    "x = layers.Conv2D(16, (3, 3), activation='relu', padding='same')(input_img) #1 camada\n",
    "x = layers.MaxPooling2D((2, 2), padding='same')(x)\n",
    "\n",
    "x = layers.Conv2D(8, (3, 3), activation='relu', padding='same')(x) #2 camadas\n",
    "x = layers.MaxPooling2D((2, 2), padding='same')(x)\n",
    "\n",
    "x = layers.Conv2D(8, (3, 3), activation='relu', padding='same')(x) # 3 camadas\n",
    "encoded = layers.MaxPooling2D((2, 2), padding='same')(x) #encoded \n",
    "\n",
    "# at this point the representation is (4, 4, 8) i.e. 128-dimensional\n",
    "\n",
    "x = layers.Conv2D(8, (3, 3), activation='relu', padding='same')(encoded)\n",
    "x = layers.UpSampling2D((2, 2))(x)\n",
    "\n",
    "x = layers.Conv2D(8, (3, 3), activation='relu', padding='same')(x)\n",
    "x = layers.UpSampling2D((2, 2))(x)\n",
    "\n",
    "x = layers.Conv2D(16, (3, 3), activation='relu')(x)\n",
    "x = layers.UpSampling2D((2, 2))(x)\n",
    "\n",
    "decoded = layers.Conv2D(1, (3, 3), activation='sigmoid', padding='same')(x) #decoded\n",
    "\n",
    "autoencoder = keras.Model(input_img, decoded)\n",
    "\n",
    "autoencoder.compile(optimizer='adam', loss='binary_crossentropy')"
   ]
  },
  {
   "cell_type": "markdown",
   "metadata": {},
   "source": [
    "Carregando o dataset mnist novamente e aplicando a normalização dos dados:"
   ]
  },
  {
   "cell_type": "code",
   "execution_count": 19,
   "metadata": {},
   "outputs": [],
   "source": [
    "(x_train, _), (x_test, _) = mnist.load_data()\n",
    "\n",
    "x_train = x_train.astype('float32') / 255.\n",
    "x_test = x_test.astype('float32') / 255.\n",
    "\n",
    "x_train = np.reshape(x_train, (len(x_train), 28, 28, 1))\n",
    "x_test = np.reshape(x_test, (len(x_test), 28, 28, 1))"
   ]
  },
  {
   "cell_type": "code",
   "execution_count": 20,
   "metadata": {},
   "outputs": [
    {
     "name": "stdout",
     "output_type": "stream",
     "text": [
      "Epoch 1/50\n",
      "469/469 [==============================] - 48s 100ms/step - loss: 0.2282 - val_loss: 0.1539\n",
      "Epoch 2/50\n",
      "469/469 [==============================] - 49s 104ms/step - loss: 0.1424 - val_loss: 0.1328\n",
      "Epoch 3/50\n",
      "469/469 [==============================] - 55s 116ms/step - loss: 0.1275 - val_loss: 0.1213\n",
      "Epoch 4/50\n",
      "469/469 [==============================] - 51s 108ms/step - loss: 0.1193 - val_loss: 0.1153\n",
      "Epoch 5/50\n",
      "469/469 [==============================] - 50s 106ms/step - loss: 0.1146 - val_loss: 0.1115\n",
      "Epoch 6/50\n",
      "469/469 [==============================] - 48s 102ms/step - loss: 0.1114 - val_loss: 0.1091\n",
      "Epoch 7/50\n",
      "469/469 [==============================] - 47s 99ms/step - loss: 0.1090 - val_loss: 0.1067\n",
      "Epoch 8/50\n",
      "469/469 [==============================] - 46s 98ms/step - loss: 0.1072 - val_loss: 0.1056\n",
      "Epoch 9/50\n",
      "469/469 [==============================] - 46s 98ms/step - loss: 0.1056 - val_loss: 0.1038\n",
      "Epoch 10/50\n",
      "469/469 [==============================] - 46s 98ms/step - loss: 0.1043 - val_loss: 0.1028\n",
      "Epoch 11/50\n",
      "469/469 [==============================] - 49s 104ms/step - loss: 0.1031 - val_loss: 0.1013\n",
      "Epoch 12/50\n",
      "469/469 [==============================] - 53s 113ms/step - loss: 0.1020 - val_loss: 0.1010\n",
      "Epoch 13/50\n",
      "469/469 [==============================] - 52s 111ms/step - loss: 0.1011 - val_loss: 0.0998\n",
      "Epoch 14/50\n",
      "469/469 [==============================] - 47s 100ms/step - loss: 0.1004 - val_loss: 0.0987\n",
      "Epoch 15/50\n",
      "469/469 [==============================] - 46s 99ms/step - loss: 0.0997 - val_loss: 0.0981\n",
      "Epoch 16/50\n",
      "469/469 [==============================] - 47s 100ms/step - loss: 0.0991 - val_loss: 0.0977\n",
      "Epoch 17/50\n",
      "469/469 [==============================] - 47s 99ms/step - loss: 0.0986 - val_loss: 0.0977\n",
      "Epoch 18/50\n",
      "469/469 [==============================] - 49s 104ms/step - loss: 0.0981 - val_loss: 0.0967\n",
      "Epoch 19/50\n",
      "469/469 [==============================] - 52s 111ms/step - loss: 0.0977 - val_loss: 0.0963\n",
      "Epoch 20/50\n",
      "469/469 [==============================] - 52s 110ms/step - loss: 0.0973 - val_loss: 0.0961\n",
      "Epoch 21/50\n",
      "469/469 [==============================] - 53s 112ms/step - loss: 0.0970 - val_loss: 0.0956\n",
      "Epoch 22/50\n",
      "469/469 [==============================] - 54s 116ms/step - loss: 0.0967 - val_loss: 0.0953\n",
      "Epoch 23/50\n",
      "469/469 [==============================] - 55s 117ms/step - loss: 0.0963 - val_loss: 0.0949\n",
      "Epoch 24/50\n",
      "469/469 [==============================] - 55s 117ms/step - loss: 0.0961 - val_loss: 0.0946\n",
      "Epoch 25/50\n",
      "469/469 [==============================] - 48s 102ms/step - loss: 0.0957 - val_loss: 0.0946\n",
      "Epoch 26/50\n",
      "469/469 [==============================] - 47s 100ms/step - loss: 0.0954 - val_loss: 0.0941\n",
      "Epoch 27/50\n",
      "469/469 [==============================] - 47s 100ms/step - loss: 0.0952 - val_loss: 0.0940\n",
      "Epoch 28/50\n",
      "469/469 [==============================] - 47s 100ms/step - loss: 0.0950 - val_loss: 0.0938\n",
      "Epoch 29/50\n",
      "469/469 [==============================] - 47s 99ms/step - loss: 0.0947 - val_loss: 0.0937\n",
      "Epoch 30/50\n",
      "469/469 [==============================] - 47s 100ms/step - loss: 0.0945 - val_loss: 0.0938\n",
      "Epoch 31/50\n",
      "469/469 [==============================] - 46s 99ms/step - loss: 0.0943 - val_loss: 0.0934\n",
      "Epoch 32/50\n",
      "469/469 [==============================] - 47s 100ms/step - loss: 0.0941 - val_loss: 0.0931\n",
      "Epoch 33/50\n",
      "469/469 [==============================] - 47s 99ms/step - loss: 0.0939 - val_loss: 0.0927\n",
      "Epoch 34/50\n",
      "469/469 [==============================] - 47s 99ms/step - loss: 0.0937 - val_loss: 0.0923\n",
      "Epoch 35/50\n",
      "469/469 [==============================] - 49s 104ms/step - loss: 0.0936 - val_loss: 0.0922\n",
      "Epoch 36/50\n",
      "469/469 [==============================] - 48s 103ms/step - loss: 0.0934 - val_loss: 0.0926\n",
      "Epoch 37/50\n",
      "469/469 [==============================] - 47s 100ms/step - loss: 0.0932 - val_loss: 0.0923\n",
      "Epoch 38/50\n",
      "469/469 [==============================] - 47s 99ms/step - loss: 0.0931 - val_loss: 0.0921\n",
      "Epoch 39/50\n",
      "469/469 [==============================] - 47s 100ms/step - loss: 0.0929 - val_loss: 0.0917\n",
      "Epoch 40/50\n",
      "469/469 [==============================] - 50s 106ms/step - loss: 0.0928 - val_loss: 0.0915\n",
      "Epoch 41/50\n",
      "469/469 [==============================] - 50s 106ms/step - loss: 0.0925 - val_loss: 0.0913\n",
      "Epoch 42/50\n",
      "469/469 [==============================] - 50s 107ms/step - loss: 0.0924 - val_loss: 0.0915\n",
      "Epoch 43/50\n",
      "469/469 [==============================] - 47s 100ms/step - loss: 0.0923 - val_loss: 0.0913\n",
      "Epoch 44/50\n",
      "469/469 [==============================] - 47s 100ms/step - loss: 0.0921 - val_loss: 0.0911\n",
      "Epoch 45/50\n",
      "469/469 [==============================] - 47s 100ms/step - loss: 0.0921 - val_loss: 0.0911\n",
      "Epoch 46/50\n",
      "469/469 [==============================] - 47s 100ms/step - loss: 0.0919 - val_loss: 0.0910\n",
      "Epoch 47/50\n",
      "469/469 [==============================] - 47s 100ms/step - loss: 0.0918 - val_loss: 0.0906\n",
      "Epoch 48/50\n",
      "469/469 [==============================] - 47s 101ms/step - loss: 0.0917 - val_loss: 0.0908\n",
      "Epoch 49/50\n",
      "469/469 [==============================] - 48s 103ms/step - loss: 0.0915 - val_loss: 0.0905\n",
      "Epoch 50/50\n",
      "469/469 [==============================] - 48s 103ms/step - loss: 0.0914 - val_loss: 0.0903\n"
     ]
    },
    {
     "data": {
      "text/plain": [
       "<keras.callbacks.History at 0x17453dc9fd0>"
      ]
     },
     "execution_count": 20,
     "metadata": {},
     "output_type": "execute_result"
    }
   ],
   "source": [
    "#demora um pouco o processamento, +- 40 Minutos...\n",
    "\n",
    "from keras.callbacks import TensorBoard\n",
    "\n",
    "autoencoder.fit(x_train, x_train,\n",
    "                epochs=50,\n",
    "                batch_size=128,\n",
    "                shuffle=True,\n",
    "                validation_data=(x_test, x_test),\n",
    "                callbacks=[TensorBoard(log_dir='/tmp/autoencoder')])"
   ]
  },
  {
   "cell_type": "code",
   "execution_count": 22,
   "metadata": {},
   "outputs": [
    {
     "name": "stdout",
     "output_type": "stream",
     "text": [
      "313/313 [==============================] - 3s 10ms/step\n"
     ]
    },
    {
     "data": {
      "image/png": "[encoded data removed]",
      "text/plain": [
       "<Figure size 1440x288 with 20 Axes>"
      ]
     },
     "metadata": {
      "needs_background": "light"
     },
     "output_type": "display_data"
    }
   ],
   "source": [
    "decoded_imgs = autoencoder.predict(x_test)\n",
    "\n",
    "n = 10\n",
    "plt.figure(figsize=(20, 4))\n",
    "for i in range(1, n + 1):\n",
    "    # Display original\n",
    "    ax = plt.subplot(2, n, i)\n",
    "    plt.imshow(x_test[i].reshape(28, 28))\n",
    "    plt.gray()\n",
    "    ax.get_xaxis().set_visible(False)\n",
    "    ax.get_yaxis().set_visible(False)\n",
    "\n",
    "    # Display reconstruction\n",
    "    ax = plt.subplot(2, n, i + n)\n",
    "    plt.imshow(decoded_imgs[i].reshape(28, 28))\n",
    "    plt.gray()\n",
    "    ax.get_xaxis().set_visible(False)\n",
    "    ax.get_yaxis().set_visible(False)\n",
    "plt.show()"
   ]
  },
  {
   "cell_type": "code",
   "execution_count": null,
   "metadata": {},
   "outputs": [],
   "source": []
  }
 ],
 "metadata": {
  "accelerator": "GPU",
  "colab": {
   "collapsed_sections": [],
   "name": "Exemplo Autoencoder Mnist.ipynb",
   "provenance": []
  },
  "kernelspec": {
   "display_name": "Python 3 (ipykernel)",
   "language": "python",
   "name": "python3"
  },
  "language_info": {
   "codemirror_mode": {
    "name": "ipython",
    "version": 3
   },
   "file_extension": ".py",
   "mimetype": "text/x-python",
   "name": "python",
   "nbconvert_exporter": "python",
   "pygments_lexer": "ipython3",
   "version": "3.9.12"
  }
 },
 "nbformat": 4,
 "nbformat_minor": 1
}
