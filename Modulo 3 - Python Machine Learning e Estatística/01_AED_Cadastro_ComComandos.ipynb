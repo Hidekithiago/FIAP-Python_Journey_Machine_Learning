{
 "cells": [
  {
   "cell_type": "code",
   "execution_count": null,
   "id": "133ff2de",
   "metadata": {},
   "outputs": [],
   "source": [
    "import numpy as np\n",
    "import pandas as pd\n",
    "import matplotlib.pyplot as plt\n",
    "import seaborn as sb"
   ]
  },
  {
   "cell_type": "code",
   "execution_count": null,
   "id": "ccbf6271",
   "metadata": {},
   "outputs": [],
   "source": [
    "#lendo a base de dados\n",
    "cadastro = pd.read_csv('cadastro.csv')"
   ]
  },
  {
   "cell_type": "code",
   "execution_count": null,
   "id": "d189e2ec",
   "metadata": {},
   "outputs": [],
   "source": [
    "#visualizando o conteúdo da base\n",
    "cadastro.head()"
   ]
  },
  {
   "cell_type": "code",
   "execution_count": null,
   "id": "fc1123d9",
   "metadata": {},
   "outputs": [],
   "source": [
    "#formato das variáveis\n",
    "cadastro.info()"
   ]
  },
  {
   "cell_type": "code",
   "execution_count": null,
   "id": "dfa737ed",
   "metadata": {},
   "outputs": [],
   "source": [
    "# contagem de observações com dados\n",
    "cadastro.count()"
   ]
  },
  {
   "cell_type": "code",
   "execution_count": null,
   "id": "4c8b8050",
   "metadata": {},
   "outputs": [],
   "source": [
    "# contagem de observações diferentes\n",
    "cadastro.nunique()"
   ]
  },
  {
   "cell_type": "code",
   "execution_count": null,
   "id": "8faf27c1",
   "metadata": {},
   "outputs": [],
   "source": [
    "# é missing ou não ( NA Not Avaliable)\n",
    "cadastro.isna()"
   ]
  },
  {
   "cell_type": "code",
   "execution_count": null,
   "id": "dedcdad6",
   "metadata": {},
   "outputs": [],
   "source": [
    "# Contagem de observações com missing\n",
    "cadastro.isna().sum()"
   ]
  },
  {
   "cell_type": "code",
   "execution_count": null,
   "id": "0af7c9d8",
   "metadata": {},
   "outputs": [],
   "source": [
    "# % de observações com missing\n",
    "cadastro.isna().sum()/len(cadastro)*100"
   ]
  },
  {
   "cell_type": "code",
   "execution_count": null,
   "id": "62df9117",
   "metadata": {},
   "outputs": [],
   "source": [
    "# Descritivo das variáveis - medidas resumo\n",
    "\n",
    "cadastro.describe().round(2) \n"
   ]
  },
  {
   "cell_type": "code",
   "execution_count": null,
   "id": "9cffbd03",
   "metadata": {},
   "outputs": [],
   "source": [
    "# colocando as medidas resumo em um objeto\n",
    "Describe=cadastro.describe().round(2)\n",
    "print(Describe)"
   ]
  },
  {
   "cell_type": "code",
   "execution_count": null,
   "id": "a9c22061",
   "metadata": {},
   "outputs": [],
   "source": [
    "#Preprocessing\n",
    "# mudar o formato da variável number para string\n",
    "cadastro['NUM_CPF'] = cadastro['NUM_CPF'].astype(str)\n",
    "cadastro['CHAVE_CONTRATO'] = cadastro['CHAVE_CONTRATO'].astype(str)\n",
    "cadastro['CEP'] = cadastro['CEP'].astype(str)\n",
    "cadastro['CEP_A'] = cadastro['CEP_A'].astype(str)\n",
    "cadastro['NUMERO'] = cadastro['NUMERO'].astype(str)\n",
    "cadastro['LATITUDE'] = cadastro['LATITUDE'].astype(str)\n",
    "cadastro['LONGITUDE'] = cadastro['LONGITUDE'].astype(str)\n",
    "cadastro['CELULAR'] = cadastro['CELULAR'].astype(str)\n",
    "cadastro['DDD_CELULAR'] = cadastro['DDD_CELULAR'].astype(str)\n",
    "cadastro['CELULAR_2'] = cadastro['CELULAR_2'].astype(str)\n",
    "cadastro['DDD_CELULAR_2'] = cadastro['DDD_CELULAR_2'].astype(str)\n",
    "cadastro['COD_BANCO'] = cadastro['COD_BANCO'].astype(str)               \n",
    "cadastro['NUM_AGENCIA'] = cadastro['NUM_AGENCIA'].astype(str)          \n",
    "cadastro['NUM_CONTA'] = cadastro['NUM_CONTA'].astype(str)        \n",
    "cadastro['CNPJ_CREDOR'] = cadastro['CNPJ_CREDOR'].astype(str)        \n",
    "cadastro['STATUS_CONSENTIMENTO'] = cadastro['STATUS_CONSENTIMENTO'].astype(str)\n"
   ]
  },
  {
   "cell_type": "code",
   "execution_count": null,
   "id": "b56d1272",
   "metadata": {},
   "outputs": [],
   "source": [
    "# avaliando as alterações feitas nos formatos das variáveis\n",
    "cadastro.info()"
   ]
  },
  {
   "cell_type": "code",
   "execution_count": null,
   "id": "7b20bf5e",
   "metadata": {},
   "outputs": [],
   "source": [
    "# descritivo das variáveis após as alterações realizadas\n",
    "cadastro.describe().round(2)"
   ]
  },
  {
   "cell_type": "code",
   "execution_count": null,
   "id": "cdd9ae86",
   "metadata": {},
   "outputs": [],
   "source": [
    "cadastro.isna().sum()"
   ]
  },
  {
   "cell_type": "code",
   "execution_count": null,
   "id": "71c4a37e",
   "metadata": {},
   "outputs": [],
   "source": [
    "cadastro.head(2).T"
   ]
  },
  {
   "cell_type": "code",
   "execution_count": null,
   "id": "4981034f",
   "metadata": {},
   "outputs": [],
   "source": [
    "# indicando e alterando campos\n",
    "cadastro.replace('nan', np.NaN, inplace=True)"
   ]
  },
  {
   "cell_type": "code",
   "execution_count": null,
   "id": "d53543ea",
   "metadata": {},
   "outputs": [],
   "source": [
    "cadastro.head(2).T"
   ]
  },
  {
   "cell_type": "code",
   "execution_count": null,
   "id": "a7c8a1df",
   "metadata": {},
   "outputs": [],
   "source": [
    "cadastro.isna().sum()"
   ]
  },
  {
   "cell_type": "code",
   "execution_count": null,
   "id": "1078d043",
   "metadata": {},
   "outputs": [],
   "source": [
    "cadastro.isna().sum()/len(cadastro)*100"
   ]
  },
  {
   "cell_type": "code",
   "execution_count": null,
   "id": "9266f24d",
   "metadata": {},
   "outputs": [],
   "source": [
    "!pip install missingno\n",
    "import missingno as msno\n",
    "\n",
    "# Visualizando os dados faltantes? A biblioteca MissingNo permite a visualização dos dados nulos (‘NaN’) em seu dataset"
   ]
  },
  {
   "cell_type": "code",
   "execution_count": null,
   "id": "01f28f29",
   "metadata": {},
   "outputs": [],
   "source": [
    "# Análise da completude das variáveis do banco de dados usando o gráfico de barra. No eixo \"Y\" é a frequência relativa e no \n",
    "# eixo \"X\" as variáveis.\n",
    "msno.bar(cadastro)"
   ]
  },
  {
   "cell_type": "code",
   "execution_count": null,
   "id": "e1c822d8",
   "metadata": {},
   "outputs": [],
   "source": [
    "# Mapa de Calor \n",
    "# O heatmap da biblioteca MissingNo vai medir a correlação de nulidade dos atributos, \n",
    "# ou seja, o quão forte a presença ou ausência de um atributo afeta a presença de outro.\n",
    "# A correlação vai recebe valores entre -1 e 1 ou até mesmo não recebem nenhum valor.\n",
    "# Atributos que tem Correlação de Nulidade que:\n",
    "# São iguais ou tendem a -1: Significa que se um atributo aparece o outro não aparece.\n",
    "# São iguais ou tendem a 0: Implica que um determinado atributo aparecer ou não, não tem efeito no outro atributo em questão.\n",
    "# São iguais ou tendem a 1: Indica que se um atributo aparece o outro também aparece.\n",
    "# Não recebem valor: Os atributos ou possuem todos dados preenchidos ou todos vazios, isto faz com que eles não tenham uma correlação relevante.\n",
    "\n",
    "msno.heatmap(cadastro)"
   ]
  },
  {
   "cell_type": "code",
   "execution_count": null,
   "id": "6f907d7c",
   "metadata": {},
   "outputs": [],
   "source": [
    "# Análise da completude das variáveis em uma amostra de tamanho 100 (n=100) do banco de dados usando o gráfico de barra. \n",
    "# No eixo \"Y\" é a frequência relativa e no eixo \"X\" as variáveis.\n",
    "\n",
    "msno.bar(cadastro.sample(100))"
   ]
  },
  {
   "cell_type": "code",
   "execution_count": null,
   "id": "cbbe9d16",
   "metadata": {},
   "outputs": [],
   "source": [
    "# Imputação de dados faltantes usando a média\n",
    "cadastro['Idade_i'] = cadastro['IDADE'].fillna(value=cadastro['IDADE'].mean())"
   ]
  },
  {
   "cell_type": "code",
   "execution_count": null,
   "id": "685bc153",
   "metadata": {},
   "outputs": [],
   "source": [
    "cadastro.info()"
   ]
  },
  {
   "cell_type": "code",
   "execution_count": null,
   "id": "20acbdbb",
   "metadata": {},
   "outputs": [],
   "source": [
    "cadastro.columns"
   ]
  },
  {
   "cell_type": "code",
   "execution_count": null,
   "id": "d8b4beb3",
   "metadata": {},
   "outputs": [],
   "source": [
    "cadastro.describe().round(2)"
   ]
  },
  {
   "cell_type": "code",
   "execution_count": null,
   "id": "53be5f30",
   "metadata": {},
   "outputs": [],
   "source": [
    "# CV = desvio padrão/média\n",
    "\n",
    "desc = cadastro.describe().T\n",
    "\n",
    "desc['CV'] = desc['std']/desc['mean']"
   ]
  },
  {
   "cell_type": "code",
   "execution_count": null,
   "id": "03e709f6",
   "metadata": {},
   "outputs": [],
   "source": [
    "desc.round(2)"
   ]
  },
  {
   "cell_type": "code",
   "execution_count": null,
   "id": "8b81d404",
   "metadata": {},
   "outputs": [],
   "source": [
    "# Interpretação do CV\n",
    "Renda presumida: O desvio padrão é 10.76 vezes o valor da média. Isso indica presença de outliers. Quantos outliers?\n",
    "\n",
    "    Recomendado é até 0,3 ou 30%. Valores acima de 30% indicam presença de outliers. (Critério do IBGE)\n",
    "    \n"
   ]
  },
  {
   "cell_type": "code",
   "execution_count": null,
   "id": "736da734",
   "metadata": {},
   "outputs": [],
   "source": [
    "# Histograma da variável Renda presumida\n",
    "plt.hist(cadastro['RENDA_PRESUMIDA'], bins=5)\n",
    "plt.ylabel('Frequência')\n",
    "plt.xlabel('Renda presumida')\n",
    "plt.title('Histograma da renda presumida')"
   ]
  },
  {
   "cell_type": "code",
   "execution_count": null,
   "id": "accbf2e1",
   "metadata": {},
   "outputs": [],
   "source": [
    "sns.boxplot(y=\"RENDA_PRESUMIDA\", data=cadastro)"
   ]
  },
  {
   "cell_type": "code",
   "execution_count": null,
   "id": "9141eda5",
   "metadata": {},
   "outputs": [],
   "source": [
    "renda = cadastro[(cadastro['RENDA_PRESUMIDA'] <10000)]"
   ]
  },
  {
   "cell_type": "code",
   "execution_count": null,
   "id": "2a09db8c",
   "metadata": {},
   "outputs": [],
   "source": [
    "sns.boxplot(y=\"RENDA_PRESUMIDA\", data=renda)"
   ]
  },
  {
   "cell_type": "code",
   "execution_count": null,
   "id": "b930be91",
   "metadata": {},
   "outputs": [],
   "source": []
  },
  {
   "attachments": {
    "BoxPlot.png": {
     "image/png": "[encoded data removed]"
    }
   },
   "cell_type": "markdown",
   "id": "80c8ae36",
   "metadata": {},
   "source": [
    "## Análise de detecção de outliers usano o Box Plot\n",
    "\n",
    "![BoxPlot.png](attachment:BoxPlot.png)"
   ]
  },
  {
   "cell_type": "code",
   "execution_count": null,
   "id": "f40774ab",
   "metadata": {},
   "outputs": [],
   "source": []
  },
  {
   "cell_type": "code",
   "execution_count": null,
   "id": "2068a78a",
   "metadata": {},
   "outputs": [],
   "source": [
    "# Box Plot da Renda Presumida\n",
    "mínimo = 0\n",
    "máximo = 1890000\n",
    "Quartil 1 (Q1) = 2068.50\n",
    "Quartil 2 (Q2) = 2431.58\n",
    "Quartil 3 (Q3) = 2923.54\n",
    "Inter-quartil = Q3 - Q1 = 2923.54 - 2068.50 = 855.04\n",
    "\n",
    "Limite1  = Q3 + 3 * IQ = 2923.54 + 3*855.04 = 5488.66\n",
    "Limite2  = Q3 + 1.5*IQ = 2923.54 + 1.5*855.04 = 4206.10\n",
    "Limite3  = Q1 - 1.5*IQ = 2068.50 - 1.5*855.04 = 785.94\n",
    "Limite4  = Q1 - 3*IQ = 2068.50 - 3*855.04 = -496.62 ~= 0"
   ]
  },
  {
   "cell_type": "code",
   "execution_count": null,
   "id": "4589eaac",
   "metadata": {},
   "outputs": [],
   "source": [
    "cadastro.describe().round(2)"
   ]
  },
  {
   "cell_type": "code",
   "execution_count": null,
   "id": "f98d8cd9",
   "metadata": {},
   "outputs": [],
   "source": [
    "print('Minimo = ', min(cadastro['RENDA_PRESUMIDA']))"
   ]
  },
  {
   "cell_type": "code",
   "execution_count": null,
   "id": "63325513",
   "metadata": {},
   "outputs": [],
   "source": [
    "print('Maximo = ', max(cadastro['RENDA_PRESUMIDA']))"
   ]
  },
  {
   "cell_type": "code",
   "execution_count": null,
   "id": "83705639",
   "metadata": {},
   "outputs": [],
   "source": [
    "Q1 = np.percentile(cadastro['RENDA_PRESUMIDA'], 25)\n",
    "print(Q1)\n",
    "print('Quartil1 (Q1) = ', np.percentile(cadastro['RENDA_PRESUMIDA'], 25))"
   ]
  },
  {
   "cell_type": "code",
   "execution_count": null,
   "id": "eaddd4a3",
   "metadata": {},
   "outputs": [],
   "source": [
    "Q2=np.percentile(cadastro['RENDA_PRESUMIDA'], 50)\n",
    "print(Q2)\n",
    "print('Quartil2 (Q2) = ', np.percentile(cadastro['RENDA_PRESUMIDA'], 50))"
   ]
  },
  {
   "cell_type": "code",
   "execution_count": null,
   "id": "a0c8cffa",
   "metadata": {},
   "outputs": [],
   "source": [
    "Q3=np.percentile(cadastro['RENDA_PRESUMIDA'], 75)\n",
    "print(Q3)\n",
    "print('Quartil3 (Q3) = ', np.percentile(cadastro['RENDA_PRESUMIDA'], 75))"
   ]
  },
  {
   "cell_type": "code",
   "execution_count": null,
   "id": "3e7d22bc",
   "metadata": {},
   "outputs": [],
   "source": [
    "IQ = np.percentile(cadastro['RENDA_PRESUMIDA'], 75) - np.percentile(cadastro['RENDA_PRESUMIDA'], 25)\n",
    "print(IQ)\n",
    "print('Inter-quartil (IQ) =', np.percentile(cadastro['RENDA_PRESUMIDA'], 75) - np.percentile(cadastro['RENDA_PRESUMIDA'], 25))"
   ]
  },
  {
   "cell_type": "code",
   "execution_count": null,
   "id": "ff65af0f",
   "metadata": {},
   "outputs": [],
   "source": [
    "limite1 = Q3+3*IQ\n",
    "print(limite1)"
   ]
  },
  {
   "cell_type": "code",
   "execution_count": null,
   "id": "06d372ab",
   "metadata": {},
   "outputs": [],
   "source": [
    "limite2 = Q3+1.5*IQ\n",
    "print(limite2)"
   ]
  },
  {
   "cell_type": "code",
   "execution_count": null,
   "id": "d208a6b2",
   "metadata": {},
   "outputs": [],
   "source": [
    "limite3=Q1-1.5*IQ\n",
    "print(limite3)"
   ]
  },
  {
   "cell_type": "code",
   "execution_count": null,
   "id": "3f262ddd",
   "metadata": {},
   "outputs": [],
   "source": [
    "limite4 = Q1-3*IQ\n",
    "print(limite4)"
   ]
  },
  {
   "cell_type": "code",
   "execution_count": null,
   "id": "ebc39d9b",
   "metadata": {},
   "outputs": [],
   "source": [
    "# Criar uma variável outlier_renda no Data Frame, sendo 0 = não outlier, 1= outlier e 2 = ponto extremo \n",
    "cadastro.loc[(cadastro.RENDA_PRESUMIDA >= limite2) & (cadastro.RENDA_PRESUMIDA <= limite1), 'outlier_renda']=1\n",
    "cadastro.loc[(cadastro.RENDA_PRESUMIDA > limite1) | (cadastro.RENDA_PRESUMIDA < limite4) , 'outlier_renda']=2\n",
    "cadastro.loc[(cadastro.RENDA_PRESUMIDA >= limite3) & (cadastro.RENDA_PRESUMIDA < limite2), 'outlier_renda']=0"
   ]
  },
  {
   "cell_type": "code",
   "execution_count": null,
   "id": "06cec112",
   "metadata": {},
   "outputs": [],
   "source": [
    "cadastro.info()"
   ]
  },
  {
   "cell_type": "code",
   "execution_count": null,
   "id": "bade718d",
   "metadata": {},
   "outputs": [],
   "source": [
    "# Quantos outliers? Pontos extremos?\n",
    "print('Outliers Inferior: ', cadastro.loc[(cadastro.RENDA_PRESUMIDA >= limite2) & (cadastro.RENDA_PRESUMIDA <= limite1), 'RENDA_PRESUMIDA'].count())\n",
    "print('Outliers Superior: ', cadastro.loc[(cadastro.RENDA_PRESUMIDA >= limite4) & (cadastro.RENDA_PRESUMIDA <= limite3), 'RENDA_PRESUMIDA'].count())\n",
    "print('Pontos Extremos: ', cadastro.loc[(cadastro.RENDA_PRESUMIDA >= limite1) | (cadastro.RENDA_PRESUMIDA <= limite4), 'RENDA_PRESUMIDA'].count())\n"
   ]
  },
  {
   "cell_type": "code",
   "execution_count": null,
   "id": "7d030194",
   "metadata": {},
   "outputs": [],
   "source": [
    "# Tabela de frequência da variável outlier_renda\n",
    "\n",
    "freq_outlier_renda = pd.pivot_table(cadastro,index='outlier_renda', values='NUM_CPF', aggfunc=np.count_nonzero)\n",
    "freq_outlier_renda['%'] = ((pd.pivot_table(cadastro,index='outlier_renda', values='NUM_CPF', aggfunc=np.count_nonzero)/cadastro['NUM_CPF'].count())*100).round(2)"
   ]
  },
  {
   "cell_type": "code",
   "execution_count": null,
   "id": "0f2f1f73",
   "metadata": {},
   "outputs": [],
   "source": [
    "print(freq_outlier_renda)"
   ]
  },
  {
   "cell_type": "code",
   "execution_count": null,
   "id": "255ad90e",
   "metadata": {},
   "outputs": [],
   "source": [
    "################################################\n",
    "########### REMOVER OS OUTLIERS ############\n",
    "################################################\n",
    "\n",
    "# Removendo os Outliers\n",
    "cadastroSemOutlier = cadastro.loc[cadastro.outlier_renda == 0.0]\n",
    "\n",
    "print('Mínimo = ', min(cadastroSemOutlier['RENDA_PRESUMIDA']))\n",
    "\n",
    "print('Máximo = ', max(cadastroSemOutlier['RENDA_PRESUMIDA']))\n",
    "\n",
    "print('Média = ', (cadastroSemOutlier['RENDA_PRESUMIDA']).mean())\n",
    "\n",
    "print('STD = ', cadastroSemOutlier['RENDA_PRESUMIDA'].std())\n",
    "\n",
    "print('Coeficiente de Variação = ', (cadastroSemOutlier['RENDA_PRESUMIDA'].std() / cadastroSemOutlier['RENDA_PRESUMIDA'].mean()))\n",
    "\n",
    "print('Mediana = ', (cadastroSemOutlier['RENDA_PRESUMIDA']).median())\n"
   ]
  },
  {
   "cell_type": "code",
   "execution_count": null,
   "id": "28abfe3b",
   "metadata": {},
   "outputs": [],
   "source": []
  },
  {
   "cell_type": "code",
   "execution_count": null,
   "id": "69c39a70",
   "metadata": {},
   "outputs": [],
   "source": []
  },
  {
   "cell_type": "code",
   "execution_count": null,
   "id": "86285379",
   "metadata": {},
   "outputs": [],
   "source": []
  }
 ],
 "metadata": {
  "kernelspec": {
   "display_name": "Python 3 (ipykernel)",
   "language": "python",
   "name": "python3"
  },
  "language_info": {
   "codemirror_mode": {
    "name": "ipython",
    "version": 3
   },
   "file_extension": ".py",
   "mimetype": "text/x-python",
   "name": "python",
   "nbconvert_exporter": "python",
   "pygments_lexer": "ipython3",
   "version": "3.9.12"
  }
 },
 "nbformat": 4,
 "nbformat_minor": 5
}
